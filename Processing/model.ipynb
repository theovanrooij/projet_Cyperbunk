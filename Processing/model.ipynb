{
 "cells": [
  {
   "cell_type": "code",
   "execution_count": 68,
   "metadata": {},
   "outputs": [],
   "source": [
    "import pandas as pd \n",
    "import numpy as np\n",
    "import matplotlib.pyplot as plt\n",
    "import nltk\n",
    "import string\n",
    "from gensim import corpora\n",
    "from gensim.models import TfidfModel, Word2Vec\n",
    "from sklearn.cluster import KMeans\n",
    "from sklearn.manifold import TSNE\n",
    "from sklearn.metrics import silhouette_score\n",
    "from warnings import filterwarnings\n",
    "from nltk.stem import WordNetLemmatizer\n",
    "from pandas.core.frame import DataFrame\n",
    "filterwarnings('ignore')\n"
   ]
  },
  {
   "cell_type": "code",
   "execution_count": 69,
   "metadata": {},
   "outputs": [
    {
     "data": {
      "text/html": [
       "<div>\n",
       "<style scoped>\n",
       "    .dataframe tbody tr th:only-of-type {\n",
       "        vertical-align: middle;\n",
       "    }\n",
       "\n",
       "    .dataframe tbody tr th {\n",
       "        vertical-align: top;\n",
       "    }\n",
       "\n",
       "    .dataframe thead th {\n",
       "        text-align: right;\n",
       "    }\n",
       "</style>\n",
       "<table border=\"1\" class=\"dataframe\">\n",
       "  <thead>\n",
       "    <tr style=\"text-align: right;\">\n",
       "      <th></th>\n",
       "      <th>story_title</th>\n",
       "      <th>story_id</th>\n",
       "      <th>reads</th>\n",
       "      <th>votes</th>\n",
       "      <th>chapterNb</th>\n",
       "      <th>first_update</th>\n",
       "      <th>last_update</th>\n",
       "      <th>story_text</th>\n",
       "      <th>preprocess_story_text</th>\n",
       "      <th>language</th>\n",
       "    </tr>\n",
       "  </thead>\n",
       "  <tbody>\n",
       "    <tr>\n",
       "      <th>0</th>\n",
       "      <td>(Hiccup X reader) The One You Needed</td>\n",
       "      <td>262498819-hiccup-x-reader-the-one-you-needed</td>\n",
       "      <td>136K</td>\n",
       "      <td>3.5K</td>\n",
       "      <td>25</td>\n",
       "      <td>Mar 17, 2021</td>\n",
       "      <td>Jun 12, 2021</td>\n",
       "      <td>YOUR POV Up in the air... High, above the dapp...</td>\n",
       "      <td>air high dappled cloud feel alive place feel a...</td>\n",
       "      <td>__label__en</td>\n",
       "    </tr>\n",
       "    <tr>\n",
       "      <th>1</th>\n",
       "      <td>Falling In Love With Tsundere Villainess Afte...</td>\n",
       "      <td>297890055-falling-in-love-with-tsundere-villai...</td>\n",
       "      <td>29.2K</td>\n",
       "      <td>1.6K</td>\n",
       "      <td>60</td>\n",
       "      <td>ished Jan 11</td>\n",
       "      <td>Jan 12</td>\n",
       "      <td>JLL Translations T/N: Hi guys! It’s my first t...</td>\n",
       "      <td>translation hi guy ’ first time ever novel adv...</td>\n",
       "      <td>__label__en</td>\n",
       "    </tr>\n",
       "    <tr>\n",
       "      <th>2</th>\n",
       "      <td>The Ultimate Combination With a Little Twist ...</td>\n",
       "      <td>256869090-the-ultimate-combination-with-a-litt...</td>\n",
       "      <td>115K</td>\n",
       "      <td>5.1K</td>\n",
       "      <td>52</td>\n",
       "      <td>Jan 30, 2021</td>\n",
       "      <td>Nov 03, 2021</td>\n",
       "      <td>Okay so this is my first book and the chapters...</td>\n",
       "      <td>first book chapter short hope guy like woke su...</td>\n",
       "      <td>__label__en</td>\n",
       "    </tr>\n",
       "    <tr>\n",
       "      <th>3</th>\n",
       "      <td>Unrequited Love</td>\n",
       "      <td>220872548-unrequited-love</td>\n",
       "      <td>639K</td>\n",
       "      <td>25.2K</td>\n",
       "      <td>44</td>\n",
       "      <td>Apr 15, 2020</td>\n",
       "      <td>May 16, 2021</td>\n",
       "      <td>It was the most memorable day of my life until...</td>\n",
       "      <td>memorable day life said word devouring lip mov...</td>\n",
       "      <td>__label__en</td>\n",
       "    </tr>\n",
       "    <tr>\n",
       "      <th>4</th>\n",
       "      <td>\"Are they my brothers?\" ✔️</td>\n",
       "      <td>272016075-are-they-my-brothers-%E2%9C%94%EF%B8%8F</td>\n",
       "      <td>258K</td>\n",
       "      <td>5.8K</td>\n",
       "      <td>19</td>\n",
       "      <td>Jun 01, 2021</td>\n",
       "      <td>Jul 14, 2021</td>\n",
       "      <td>Hello! Bonjour! Hola! Ciao! Thank you so much ...</td>\n",
       "      <td>hello thank much choosing read book first book...</td>\n",
       "      <td>__label__en</td>\n",
       "    </tr>\n",
       "  </tbody>\n",
       "</table>\n",
       "</div>"
      ],
      "text/plain": [
       "                                         story_title  \\\n",
       "0               (Hiccup X reader) The One You Needed   \n",
       "1   Falling In Love With Tsundere Villainess Afte...   \n",
       "2   The Ultimate Combination With a Little Twist ...   \n",
       "3                                    Unrequited Love   \n",
       "4                         \"Are they my brothers?\" ✔️   \n",
       "\n",
       "                                            story_id  reads  votes  chapterNb  \\\n",
       "0       262498819-hiccup-x-reader-the-one-you-needed   136K   3.5K         25   \n",
       "1  297890055-falling-in-love-with-tsundere-villai...  29.2K   1.6K         60   \n",
       "2  256869090-the-ultimate-combination-with-a-litt...   115K   5.1K         52   \n",
       "3                          220872548-unrequited-love   639K  25.2K         44   \n",
       "4  272016075-are-they-my-brothers-%E2%9C%94%EF%B8%8F   258K   5.8K         19   \n",
       "\n",
       "   first_update   last_update  \\\n",
       "0  Mar 17, 2021  Jun 12, 2021   \n",
       "1  ished Jan 11        Jan 12   \n",
       "2  Jan 30, 2021  Nov 03, 2021   \n",
       "3  Apr 15, 2020  May 16, 2021   \n",
       "4  Jun 01, 2021  Jul 14, 2021   \n",
       "\n",
       "                                          story_text  \\\n",
       "0  YOUR POV Up in the air... High, above the dapp...   \n",
       "1  JLL Translations T/N: Hi guys! It’s my first t...   \n",
       "2  Okay so this is my first book and the chapters...   \n",
       "3  It was the most memorable day of my life until...   \n",
       "4  Hello! Bonjour! Hola! Ciao! Thank you so much ...   \n",
       "\n",
       "                               preprocess_story_text     language  \n",
       "0  air high dappled cloud feel alive place feel a...  __label__en  \n",
       "1  translation hi guy ’ first time ever novel adv...  __label__en  \n",
       "2  first book chapter short hope guy like woke su...  __label__en  \n",
       "3  memorable day life said word devouring lip mov...  __label__en  \n",
       "4  hello thank much choosing read book first book...  __label__en  "
      ]
     },
     "execution_count": 69,
     "metadata": {},
     "output_type": "execute_result"
    }
   ],
   "source": [
    "data = pd.read_csv(open(\"./word.csv\", encoding='utf8'), sep=',')\n",
    "data.head()"
   ]
  },
  {
   "cell_type": "markdown",
   "metadata": {},
   "source": [
    "word = Cyberpunk text word2 = romantic. Other content does not need to be changed"
   ]
  },
  {
   "cell_type": "code",
   "execution_count": 70,
   "metadata": {},
   "outputs": [],
   "source": [
    "stopwords = nltk.corpus.stopwords.words('english')\n",
    "Ewords = set(nltk.corpus.words.words())\n",
    "Englishlemmatizer = WordNetLemmatizer()\n",
    "\n",
    "def Preprocess_list_of_English_Sentence(listofSentence):\n",
    "    preprocess_list = []\n",
    "    for sentence in listofSentence :\n",
    "        \n",
    "        sentence_w_punct = \"\".join([i.lower() for i in sentence if i not in string.punctuation])\n",
    "        \n",
    "        sentence_w_num = ''.join(i for i in sentence_w_punct if not i.isdigit())\n",
    "        \n",
    "        tokenize_sentence = nltk.tokenize.word_tokenize(sentence_w_num)\n",
    "        \n",
    "        words_w_stopwords = [i for i in tokenize_sentence if i not in stopwords]\n",
    "        \n",
    "        words_lemmatize = (Englishlemmatizer.lemmatize(w) for w in words_w_stopwords)\n",
    "        \n",
    "        sentence_clean = ' '.join(w for w in words_lemmatize if w.lower() in Ewords or not w.isalpha())\n",
    "        # rebuild the text\n",
    "        preprocess_list.append(sentence_clean)\n",
    "\n",
    "    return preprocess_list"
   ]
  },
  {
   "cell_type": "code",
   "execution_count": 71,
   "metadata": {},
   "outputs": [],
   "source": [
    "data1 = data['preprocess_story_text']"
   ]
  },
  {
   "cell_type": "code",
   "execution_count": 72,
   "metadata": {},
   "outputs": [],
   "source": [
    "cut_word_list = np.array([str(cont).split() for cont in data1.tolist()])\n",
    "dictionary = corpora.Dictionary(cut_word_list)\n",
    "corpus = [dictionary.doc2bow(text) for text in cut_word_list]"
   ]
  },
  {
   "cell_type": "code",
   "execution_count": 73,
   "metadata": {},
   "outputs": [],
   "source": [
    "def word2vec_model():\n",
    "    model = Word2Vec(cut_word_list, vector_size=200, window=5, min_count=1, seed=1, workers=4)\n",
    "    model.save('word2vec.model')\n",
    "word2vec_model()\n",
    "model = Word2Vec.load('word2vec.model')\n",
    "model.train(cut_word_list, total_examples=model.corpus_count, epochs=10)\n",
    "wv = model.wv"
   ]
  },
  {
   "cell_type": "code",
   "execution_count": 74,
   "metadata": {},
   "outputs": [],
   "source": [
    "def get_word2vec_vec(content=None):\n",
    "    text_vec = np.zeros((content.shape[0], 200))\n",
    "    for ind, text in enumerate(content):\n",
    "        wlen = len(text)\n",
    "        vec = np.zeros((1, 200))\n",
    "        for w in text:\n",
    "            try:\n",
    "                vec += wv[w]\n",
    "            except:\n",
    "                pass\n",
    "        text_vec[ind] = vec/wlen\n",
    "    word2vec = pd.DataFrame(data=text_vec)\n",
    "    word2vec.to_csv('word2vec.csv', index=False)\n",
    "    return text_vec\n",
    "    \n",
    "word2vec = get_word2vec_vec(cut_word_list)"
   ]
  },
  {
   "cell_type": "code",
   "execution_count": 75,
   "metadata": {},
   "outputs": [],
   "source": [
    "word_id = dictionary.token2id\n",
    "tfidf_model = TfidfModel(corpus, normalize=False)\n",
    "corpus_tfidf = [tfidf_model[doc] for doc in corpus]\n",
    "corpus_id_tfidf = list(map(dict, corpus_tfidf))\n",
    "\n",
    "def get_tfidf_vec(content=None):\n",
    "    text_vec = np.zeros((content.shape[0], 200))\n",
    "    for ind, text in enumerate(content):\n",
    "        wlen = len(text)\n",
    "        vec = np.zeros((1, 200))\n",
    "        for w in text:\n",
    "            try:\n",
    "                if word_id.get(w, False):\n",
    "                    vec += (wv[w] * corpus_id_tfidf[ind][word_id[w]])\n",
    "                else:\n",
    "                    vec += wv[w]\n",
    "            except:\n",
    "                pass\n",
    "        text_vec[ind] = vec/wlen\n",
    "    tfidf = pd.DataFrame(data=text_vec)\n",
    "    tfidf.to_csv('tfidf_vec.csv', index=False)\n",
    "    return text_vec\n",
    "    \n",
    "tfidf = get_tfidf_vec(cut_word_list)"
   ]
  },
  {
   "cell_type": "code",
   "execution_count": 76,
   "metadata": {},
   "outputs": [],
   "source": [
    "def silhouette_score_show(data_vec=None, name=None):\n",
    "    k = range(2, 10)\n",
    "    score_list = []\n",
    "    for i in k:\n",
    "        model = KMeans(n_clusters=i).fit(data_vec)\n",
    "        y_pre = model.labels_\n",
    "        score = round(silhouette_score(data_vec, y_pre), 2)\n",
    "        score_list.append(score)\n",
    "    plt.figure(figsize=(12, 8))\n",
    "    plt.plot(list(k), score_list)\n",
    "    plt.xticks(fontsize=12)\n",
    "    plt.yticks(fontsize=12)\n",
    "    plt.xlabel('x', fontsize=15)\n",
    "    plt.ylabel('y', fontsize=15)\n",
    "    plt.savefig(f'{name}test.jpg')\n",
    "    plt.show()"
   ]
  },
  {
   "cell_type": "code",
   "execution_count": 77,
   "metadata": {},
   "outputs": [
    {
     "data": {
      "image/png": "[encoded data removed]",
      "text/plain": [
       "<Figure size 864x576 with 1 Axes>"
      ]
     },
     "metadata": {
      "needs_background": "light"
     },
     "output_type": "display_data"
    }
   ],
   "source": [
    "silhouette_score_show(word2vec, 'word2vec')"
   ]
  },
  {
   "cell_type": "markdown",
   "metadata": {},
   "source": [
    "Depending on the word, different graphics can be obtained. This is the word2vec_model of Cyberpunk"
   ]
  },
  {
   "cell_type": "code",
   "execution_count": 78,
   "metadata": {
    "scrolled": true
   },
   "outputs": [
    {
     "data": {
      "image/png": "[encoded data removed]",
      "text/plain": [
       "<Figure size 864x576 with 1 Axes>"
      ]
     },
     "metadata": {
      "needs_background": "light"
     },
     "output_type": "display_data"
    }
   ],
   "source": [
    "silhouette_score_show(tfidf, 'tfidf')"
   ]
  },
  {
   "cell_type": "markdown",
   "metadata": {},
   "source": [
    "Depending on the word, different graphics can be obtained. This is the TF-IDF_model of Cyberpunk"
   ]
  },
  {
   "cell_type": "code",
   "execution_count": 79,
   "metadata": {
    "scrolled": true
   },
   "outputs": [
    {
     "data": {
      "text/plain": [
       "0    1163\n",
       "4       8\n",
       "5       7\n",
       "1       1\n",
       "2       1\n",
       "3       1\n",
       "6       1\n",
       "7       1\n",
       "dtype: int64"
      ]
     },
     "execution_count": 79,
     "metadata": {},
     "output_type": "execute_result"
    }
   ],
   "source": [
    "kmeans = KMeans(n_clusters=8).fit(tfidf)\n",
    "y_pre = kmeans.labels_\n",
    "labels = pd.DataFrame(y_pre)\n",
    "labels.value_counts()"
   ]
  },
  {
   "cell_type": "markdown",
   "metadata": {},
   "source": [
    "The clustering results are shown as above:"
   ]
  },
  {
   "cell_type": "code",
   "execution_count": 80,
   "metadata": {
    "scrolled": true
   },
   "outputs": [
    {
     "data": {
      "text/html": [
       "<div>\n",
       "<style scoped>\n",
       "    .dataframe tbody tr th:only-of-type {\n",
       "        vertical-align: middle;\n",
       "    }\n",
       "\n",
       "    .dataframe tbody tr th {\n",
       "        vertical-align: top;\n",
       "    }\n",
       "\n",
       "    .dataframe thead th {\n",
       "        text-align: right;\n",
       "    }\n",
       "</style>\n",
       "<table border=\"1\" class=\"dataframe\">\n",
       "  <thead>\n",
       "    <tr style=\"text-align: right;\">\n",
       "      <th></th>\n",
       "      <th>vec1</th>\n",
       "      <th>vec2</th>\n",
       "      <th>vec3</th>\n",
       "      <th>vec4</th>\n",
       "      <th>vec5</th>\n",
       "      <th>vec6</th>\n",
       "      <th>vec7</th>\n",
       "      <th>vec8</th>\n",
       "      <th>vec9</th>\n",
       "      <th>vec10</th>\n",
       "      <th>...</th>\n",
       "      <th>vec192</th>\n",
       "      <th>vec193</th>\n",
       "      <th>vec194</th>\n",
       "      <th>vec195</th>\n",
       "      <th>vec196</th>\n",
       "      <th>vec197</th>\n",
       "      <th>vec198</th>\n",
       "      <th>vec199</th>\n",
       "      <th>vec200</th>\n",
       "      <th>label</th>\n",
       "    </tr>\n",
       "  </thead>\n",
       "  <tbody>\n",
       "    <tr>\n",
       "      <th>0</th>\n",
       "      <td>5.992959</td>\n",
       "      <td>-6.989514</td>\n",
       "      <td>7.982764</td>\n",
       "      <td>0.620407</td>\n",
       "      <td>-7.978211</td>\n",
       "      <td>12.531544</td>\n",
       "      <td>-6.381421</td>\n",
       "      <td>-10.066463</td>\n",
       "      <td>-2.763374</td>\n",
       "      <td>-4.825517</td>\n",
       "      <td>...</td>\n",
       "      <td>-5.085209</td>\n",
       "      <td>-1.508271</td>\n",
       "      <td>-5.156376</td>\n",
       "      <td>-2.839882</td>\n",
       "      <td>-3.838032</td>\n",
       "      <td>6.102067</td>\n",
       "      <td>-0.774607</td>\n",
       "      <td>11.703692</td>\n",
       "      <td>6.369738</td>\n",
       "      <td>0</td>\n",
       "    </tr>\n",
       "    <tr>\n",
       "      <th>1</th>\n",
       "      <td>66.760386</td>\n",
       "      <td>263.465858</td>\n",
       "      <td>-71.691236</td>\n",
       "      <td>-71.863491</td>\n",
       "      <td>54.342320</td>\n",
       "      <td>-40.829551</td>\n",
       "      <td>-170.018064</td>\n",
       "      <td>325.561813</td>\n",
       "      <td>-102.234190</td>\n",
       "      <td>-185.539820</td>\n",
       "      <td>...</td>\n",
       "      <td>70.715355</td>\n",
       "      <td>83.697676</td>\n",
       "      <td>-140.840855</td>\n",
       "      <td>265.980387</td>\n",
       "      <td>-75.525245</td>\n",
       "      <td>73.750455</td>\n",
       "      <td>-60.334128</td>\n",
       "      <td>201.544028</td>\n",
       "      <td>61.609400</td>\n",
       "      <td>0</td>\n",
       "    </tr>\n",
       "    <tr>\n",
       "      <th>2</th>\n",
       "      <td>-0.194102</td>\n",
       "      <td>0.610211</td>\n",
       "      <td>3.282639</td>\n",
       "      <td>-2.226799</td>\n",
       "      <td>-1.533569</td>\n",
       "      <td>0.578506</td>\n",
       "      <td>1.031776</td>\n",
       "      <td>-1.414757</td>\n",
       "      <td>-0.148760</td>\n",
       "      <td>-0.459124</td>\n",
       "      <td>...</td>\n",
       "      <td>-1.472203</td>\n",
       "      <td>-0.190655</td>\n",
       "      <td>0.265979</td>\n",
       "      <td>2.251711</td>\n",
       "      <td>-0.175129</td>\n",
       "      <td>1.697578</td>\n",
       "      <td>0.376275</td>\n",
       "      <td>-1.236571</td>\n",
       "      <td>1.519478</td>\n",
       "      <td>0</td>\n",
       "    </tr>\n",
       "    <tr>\n",
       "      <th>3</th>\n",
       "      <td>1.963755</td>\n",
       "      <td>1.279029</td>\n",
       "      <td>-1.840163</td>\n",
       "      <td>0.453215</td>\n",
       "      <td>0.836258</td>\n",
       "      <td>-0.763896</td>\n",
       "      <td>0.873277</td>\n",
       "      <td>-4.569125</td>\n",
       "      <td>-1.476918</td>\n",
       "      <td>-0.109428</td>\n",
       "      <td>...</td>\n",
       "      <td>-2.019218</td>\n",
       "      <td>-6.683120</td>\n",
       "      <td>-4.012132</td>\n",
       "      <td>0.578731</td>\n",
       "      <td>-3.346577</td>\n",
       "      <td>2.238034</td>\n",
       "      <td>4.296256</td>\n",
       "      <td>-2.026837</td>\n",
       "      <td>1.203245</td>\n",
       "      <td>0</td>\n",
       "    </tr>\n",
       "    <tr>\n",
       "      <th>4</th>\n",
       "      <td>-0.668520</td>\n",
       "      <td>0.536768</td>\n",
       "      <td>3.005200</td>\n",
       "      <td>0.574885</td>\n",
       "      <td>-0.883002</td>\n",
       "      <td>1.359358</td>\n",
       "      <td>1.252418</td>\n",
       "      <td>-1.163413</td>\n",
       "      <td>1.058176</td>\n",
       "      <td>-2.906990</td>\n",
       "      <td>...</td>\n",
       "      <td>-0.925799</td>\n",
       "      <td>-0.073790</td>\n",
       "      <td>1.762368</td>\n",
       "      <td>-2.568941</td>\n",
       "      <td>-2.479453</td>\n",
       "      <td>0.848524</td>\n",
       "      <td>-0.098759</td>\n",
       "      <td>0.621601</td>\n",
       "      <td>-1.737888</td>\n",
       "      <td>0</td>\n",
       "    </tr>\n",
       "  </tbody>\n",
       "</table>\n",
       "<p>5 rows × 201 columns</p>\n",
       "</div>"
      ],
      "text/plain": [
       "        vec1        vec2       vec3       vec4       vec5       vec6  \\\n",
       "0   5.992959   -6.989514   7.982764   0.620407  -7.978211  12.531544   \n",
       "1  66.760386  263.465858 -71.691236 -71.863491  54.342320 -40.829551   \n",
       "2  -0.194102    0.610211   3.282639  -2.226799  -1.533569   0.578506   \n",
       "3   1.963755    1.279029  -1.840163   0.453215   0.836258  -0.763896   \n",
       "4  -0.668520    0.536768   3.005200   0.574885  -0.883002   1.359358   \n",
       "\n",
       "         vec7        vec8        vec9       vec10  ...     vec192     vec193  \\\n",
       "0   -6.381421  -10.066463   -2.763374   -4.825517  ...  -5.085209  -1.508271   \n",
       "1 -170.018064  325.561813 -102.234190 -185.539820  ...  70.715355  83.697676   \n",
       "2    1.031776   -1.414757   -0.148760   -0.459124  ...  -1.472203  -0.190655   \n",
       "3    0.873277   -4.569125   -1.476918   -0.109428  ...  -2.019218  -6.683120   \n",
       "4    1.252418   -1.163413    1.058176   -2.906990  ...  -0.925799  -0.073790   \n",
       "\n",
       "       vec194      vec195     vec196     vec197     vec198      vec199  \\\n",
       "0   -5.156376   -2.839882  -3.838032   6.102067  -0.774607   11.703692   \n",
       "1 -140.840855  265.980387 -75.525245  73.750455 -60.334128  201.544028   \n",
       "2    0.265979    2.251711  -0.175129   1.697578   0.376275   -1.236571   \n",
       "3   -4.012132    0.578731  -3.346577   2.238034   4.296256   -2.026837   \n",
       "4    1.762368   -2.568941  -2.479453   0.848524  -0.098759    0.621601   \n",
       "\n",
       "      vec200  label  \n",
       "0   6.369738      0  \n",
       "1  61.609400      0  \n",
       "2   1.519478      0  \n",
       "3   1.203245      0  \n",
       "4  -1.737888      0  \n",
       "\n",
       "[5 rows x 201 columns]"
      ]
     },
     "execution_count": 80,
     "metadata": {},
     "output_type": "execute_result"
    }
   ],
   "source": [
    "data = pd.DataFrame(tfidf)\n",
    "data_label = pd.concat([data, labels], axis=1) \n",
    "data_label.columns = [f'vec{i}' for i in range(1, tfidf.shape[1]+1)]  + ['label']\n",
    "data_label.head()"
   ]
  },
  {
   "cell_type": "markdown",
   "metadata": {},
   "source": [
    "TSNE display results"
   ]
  },
  {
   "cell_type": "code",
   "execution_count": 81,
   "metadata": {},
   "outputs": [
    {
     "data": {
      "image/png": "[encoded data removed]",
      "text/plain": [
       "<Figure size 720x432 with 1 Axes>"
      ]
     },
     "metadata": {},
     "output_type": "display_data"
    }
   ],
   "source": [
    "tsne = TSNE()\n",
    "tsne.fit_transform(data_label) \n",
    "tsne = pd.DataFrame(tsne.embedding_,index=data_label.index)\n",
    "plt.figure(figsize=(10, 6))\n",
    "plt.xticks(fontsize=12)\n",
    "plt.yticks(fontsize=12)\n",
    "d = tsne[data_label['label'] == 0]\n",
    "plt.plot(d[0],d[1],'rD')\n",
    "d = tsne[data_label['label'] == 1]\n",
    "plt.plot(d[0],d[1],'go')\n",
    "plt.xticks([])\n",
    "plt.yticks([])\n",
    "plt.legend(['A', 'B'], fontsize=12)\n",
    "plt.savefig('TEST.jpg')\n",
    "plt.show()"
   ]
  },
  {
   "cell_type": "markdown",
   "metadata": {},
   "source": [
    "Total introduction\n",
    "\n",
    "In the whole unsupervised process, we found that it is difficult to perform unsupervised clustering of a certain type of text according to the code, the main reason is that the keyword vectors of the unsupervised clustering in similar texts are similar. Here we cluster the texts of Romantic and Cyberpunk respectively. We can observe that the effect is not good, or the effect is not obvious according to the TSNE graph. The word vector method we use includes the most basic TFIDF and a higher layer of Word2Vec.\n",
    "\n",
    "Among them, TFIDF is suitable for simple text classification, such as putting different types of text together for word vector labeling. Word2Vec will focus on semantic analysis, making the association between similar words more closely.\n",
    "\n",
    "Finally, we calculate the vector value of each article from the word vector, and perform clustering detection on the content of the entire CSV/JSON document based on K-Mean to obtain the result."
   ]
  },
  {
   "cell_type": "code",
   "execution_count": null,
   "metadata": {},
   "outputs": [],
   "source": []
  }
 ],
 "metadata": {
  "kernelspec": {
   "display_name": "Python 3",
   "language": "python",
   "name": "python3"
  },
  "language_info": {
   "codemirror_mode": {
    "name": "ipython",
    "version": 3
   },
   "file_extension": ".py",
   "mimetype": "text/x-python",
   "name": "python",
   "nbconvert_exporter": "python",
   "pygments_lexer": "ipython3",
   "version": "3.8.5"
  }
 },
 "nbformat": 4,
 "nbformat_minor": 5
}
