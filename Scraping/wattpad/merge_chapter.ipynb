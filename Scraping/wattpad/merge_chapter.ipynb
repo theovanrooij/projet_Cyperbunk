{
 "cells": [
  {
   "cell_type": "code",
   "execution_count": 3,
   "metadata": {},
   "outputs": [],
   "source": [
    "import json\n",
    "from itertools import groupby"
   ]
  },
  {
   "cell_type": "code",
   "execution_count": 1,
   "metadata": {},
   "outputs": [],
   "source": [
    "import pandas as pd"
   ]
  },
  {
   "cell_type": "code",
   "execution_count": 22,
   "metadata": {},
   "outputs": [
    {
     "name": "stdout",
     "output_type": "stream",
     "text": [
      "['story_title', 'story_id', 'reads', 'votes', 'chapterNb', 'first_update', 'last_update']\n"
     ]
    }
   ],
   "source": [
    "groupList = list(df.columns)\n",
    "groupList.remove(\"chapter_text\")\n",
    "groupList.remove(\"chapter_id\")\n",
    "print(groupList)\n"
   ]
  },
  {
   "cell_type": "code",
   "execution_count": 20,
   "metadata": {
    "scrolled": true
   },
   "outputs": [],
   "source": [
    "genres=[\"fantasy\",\"cyberpunk\",\"steampunk\",\"space\",\"science-fantasy\"]\n"
   ]
  },
  {
   "cell_type": "code",
   "execution_count": 31,
   "metadata": {},
   "outputs": [],
   "source": [
    "\n",
    "for genre in genres : \n",
    "    with open(genre+\".json\") as f:\n",
    "        data = json.load(f)\n",
    "    df = pd.DataFrame(data)\n",
    "    df = df.sort_values([\"story_id\",\"chapter_id\"],ascending=True).groupby(groupList).agg({'chapter_text': lambda x: ' '.join(x)}).reset_index()\n",
    "    df.rename(columns={\"chapter_text\":\"story_text\"},inplace=True)\n",
    "    json_dump = df.to_json(path_or_buf=genre+'-merge.json',orient = 'records',indent=4)"
   ]
  }
 ],
 "metadata": {
  "kernelspec": {
   "display_name": "Python 3",
   "language": "python",
   "name": "python3"
  },
  "language_info": {
   "codemirror_mode": {
    "name": "ipython",
    "version": 3
   },
   "file_extension": ".py",
   "mimetype": "text/x-python",
   "name": "python",
   "nbconvert_exporter": "python",
   "pygments_lexer": "ipython3",
   "version": "3.8.5"
  }
 },
 "nbformat": 4,
 "nbformat_minor": 4
}
