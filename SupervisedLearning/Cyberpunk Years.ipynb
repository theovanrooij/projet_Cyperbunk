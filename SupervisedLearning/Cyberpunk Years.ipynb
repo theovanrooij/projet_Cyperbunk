{
 "cells": [
  {
   "cell_type": "code",
   "execution_count": 1,
   "metadata": {},
   "outputs": [
    {
     "name": "stderr",
     "output_type": "stream",
     "text": [
      "[nltk_data] Downloading package stopwords to\n",
      "[nltk_data]     C:\\Users\\theov\\AppData\\Roaming\\nltk_data...\n",
      "[nltk_data]   Package stopwords is already up-to-date!\n",
      "[nltk_data] Downloading package punkt to\n",
      "[nltk_data]     C:\\Users\\theov\\AppData\\Roaming\\nltk_data...\n",
      "[nltk_data]   Package punkt is already up-to-date!\n",
      "[nltk_data] Downloading package words to\n",
      "[nltk_data]     C:\\Users\\theov\\AppData\\Roaming\\nltk_data...\n",
      "[nltk_data]   Package words is already up-to-date!\n",
      "[nltk_data] Downloading package wordnet to\n",
      "[nltk_data]     C:\\Users\\theov\\AppData\\Roaming\\nltk_data...\n",
      "[nltk_data]   Package wordnet is already up-to-date!\n"
     ]
    }
   ],
   "source": [
    "import pandas as pd\n",
    "import matplotlib.pyplot as plt\n",
    "import numpy as np\n",
    "\n",
    "from sklearn.datasets import load_breast_cancer\n",
    "from sklearn.model_selection import train_test_split\n",
    "\n",
    "\n",
    "from interpret.glassbox import LogisticRegression\n",
    "from interpret import show\n",
    "\n",
    "# some_file.py\n",
    "import sys\n",
    "# insert at 1, 0 is the script path (or '' in REPL)\n",
    "sys.path.insert(1, '../Processing/')\n",
    "\n",
    "from preprocessing import Preprocess_English_Sentence,Preprocess_French_Sentence\n",
    "from sklearn.feature_extraction.text import CountVectorizer\n",
    "\n",
    "import wordcloud"
   ]
  },
  {
   "cell_type": "code",
   "execution_count": 2,
   "metadata": {},
   "outputs": [],
   "source": [
    "with open(\"../Processing/vocab.txt\", \"r\",encoding=\"utf-8\")as f :\n",
    "    vocab = f.read().split(\"\\n\")\n",
    "    vectorizer = CountVectorizer(max_features=3000,vocabulary=vocab,stop_words=\"english\",binary=True)\n"
   ]
  },
  {
   "cell_type": "code",
   "execution_count": 3,
   "metadata": {},
   "outputs": [
    {
     "data": {
      "text/plain": [
       "['.ipynb_checkpoints',\n",
       " 'crime-encoded.csv',\n",
       " 'crime-preprocessed.json',\n",
       " 'cyberpunk-encoded.csv',\n",
       " 'cyberpunk-preprocessed.json',\n",
       " 'cyberpunk-w-encoding.json',\n",
       " 'dystopie-encoded.csv',\n",
       " 'dystopie-encoded.json',\n",
       " 'dystopie-preprocessed.json',\n",
       " 'fantasy-encoded.csv',\n",
       " 'fantasy-preprocessed.json',\n",
       " 'horror-encoded.csv',\n",
       " 'horror-encoded.json',\n",
       " 'horror-preprocessed.json',\n",
       " 'humour-encoded.csv',\n",
       " 'humour-encoded.json',\n",
       " 'humour-preprocessed.json',\n",
       " 'romance-encoded-clean.json',\n",
       " 'romance-encoded.csv',\n",
       " 'romance-preprocessed.json',\n",
       " 'science-fantasy-encoded.csv',\n",
       " 'science-fantasy-encoded.json',\n",
       " 'science-fantasy-preprocessed.json',\n",
       " 'space-encoded.csv',\n",
       " 'space-encoded.json',\n",
       " 'space-preprocessed.json',\n",
       " 'steampunk-encoded.csv',\n",
       " 'steampunk-encoded.json',\n",
       " 'steampunk-preprocessed.json',\n",
       " 'thriller-encoded.csv',\n",
       " 'thriller-encoded.json',\n",
       " 'thriller-preprocessed.json',\n",
       " 'vampire-encoded.csv',\n",
       " 'vampire-encoded.json',\n",
       " 'vampire-preprocessed.json']"
      ]
     },
     "execution_count": 3,
     "metadata": {},
     "output_type": "execute_result"
    }
   ],
   "source": [
    "import os\n",
    "os.listdir(\"../Processing/processed_files/wattpad/\")"
   ]
  },
  {
   "cell_type": "code",
   "execution_count": 4,
   "metadata": {},
   "outputs": [],
   "source": [
    "cyberpunk = pd.read_json(\"../Processing/processed_files/wattpad/cyberpunk-preprocessed.json\")"
   ]
  },
  {
   "cell_type": "code",
   "execution_count": 5,
   "metadata": {},
   "outputs": [],
   "source": [
    "import dateutil.parser as dparser\n",
    "cyberpunk[\"year_publication\"] = cyberpunk[\"first_update\"].apply(lambda x : dparser.parse(x,fuzzy=True).year)"
   ]
  },
  {
   "cell_type": "code",
   "execution_count": 6,
   "metadata": {},
   "outputs": [
    {
     "data": {
      "text/plain": [
       "Index(['story_title', 'story_id', 'reads', 'votes', 'chapterNb',\n",
       "       'first_update', 'last_update', 'story_text', 'preprocess_story_text',\n",
       "       'language', 'year_publication'],\n",
       "      dtype='object')"
      ]
     },
     "execution_count": 6,
     "metadata": {},
     "output_type": "execute_result"
    }
   ],
   "source": [
    "cyberpunk.columns"
   ]
  },
  {
   "cell_type": "code",
   "execution_count": 7,
   "metadata": {},
   "outputs": [],
   "source": [
    "from sklearn.feature_extraction.text import TfidfVectorizer\n",
    "import nltk.stem\n",
    "from nltk.corpus import stopwords\n",
    "english_stemmer=nltk.stem.SnowballStemmer('english')\n",
    "stwe=stopwords.words('english')\n",
    "class EnglishStemmedTfidfVectorizer(TfidfVectorizer):#EnglishtemmedTfidVectorizer hérite de TfidVectorizer\n",
    "    def build_analyzer(self):\n",
    "        analyzer = super(EnglishStemmedTfidfVectorizer, self).build_analyzer()\n",
    "        return lambda doc: (english_stemmer.stem(w) for w in analyzer(doc))\n"
   ]
  },
  {
   "cell_type": "code",
   "execution_count": 8,
   "metadata": {},
   "outputs": [
    {
     "name": "stdout",
     "output_type": "stream",
     "text": [
      "taille du vocabulaire après suppression des stop_words :  43502\n"
     ]
    }
   ],
   "source": [
    "ftvectorizer = EnglishStemmedTfidfVectorizer(max_df=0.6, stop_words=stwe,decode_error='ignore')\n",
    "#ne retient que les termes qui apparaissent dans au plus 60% des documents\n",
    "X = ftvectorizer.fit_transform(cyberpunk[\"story_text\"])\n",
    "dico=ftvectorizer.vocabulary_\n",
    "Ps=len(dico)\n",
    "print(\"taille du vocabulaire après suppression des stop_words : \",Ps)\n"
   ]
  },
  {
   "cell_type": "code",
   "execution_count": 9,
   "metadata": {},
   "outputs": [
    {
     "name": "stdout",
     "output_type": "stream",
     "text": [
      "taille du vocabulaire après suppression des stop_words :  343\n"
     ]
    }
   ],
   "source": [
    "ftvectorizer = EnglishStemmedTfidfVectorizer(min_df=0.4, stop_words=stwe,decode_error='ignore')\n",
    "X = ftvectorizer.fit_transform(cyberpunk[\"story_text\"])\n",
    "dico=ftvectorizer.vocabulary_\n",
    "Ps=len(dico)\n",
    "print(\"taille du vocabulaire après suppression des stop_words : \",Ps)"
   ]
  },
  {
   "cell_type": "code",
   "execution_count": 10,
   "metadata": {},
   "outputs": [
    {
     "ename": "NameError",
     "evalue": "name 'y' is not defined",
     "output_type": "error",
     "traceback": [
      "\u001b[1;31m---------------------------------------------------------------------------\u001b[0m",
      "\u001b[1;31mNameError\u001b[0m                                 Traceback (most recent call last)",
      "\u001b[1;32m<ipython-input-10-dc56e61c688a>\u001b[0m in \u001b[0;36m<module>\u001b[1;34m\u001b[0m\n\u001b[1;32m----> 1\u001b[1;33m \u001b[0mlen\u001b[0m\u001b[1;33m(\u001b[0m\u001b[0my\u001b[0m\u001b[1;33m.\u001b[0m\u001b[0munique\u001b[0m\u001b[1;33m(\u001b[0m\u001b[1;33m)\u001b[0m\u001b[1;33m)\u001b[0m\u001b[1;33m\u001b[0m\u001b[1;33m\u001b[0m\u001b[0m\n\u001b[0m",
      "\u001b[1;31mNameError\u001b[0m: name 'y' is not defined"
     ]
    }
   ],
   "source": [
    "len(y.unique())"
   ]
  },
  {
   "cell_type": "code",
   "execution_count": null,
   "metadata": {},
   "outputs": [],
   "source": [
    "\n",
    "from sklearn.cluster import KMeans\n",
    "clust=KMeans(n_clusters=12,n_init=5,verbose=1)\n",
    "Ckm=clust.fit_predict(X) # pour obtenir les labels (n° classe) de chaque élément de la base\n",
    "Xd=clust.transform(X) #pour avoir les distances de chaque élément aux centres des clusters\n"
   ]
  },
  {
   "cell_type": "code",
   "execution_count": null,
   "metadata": {},
   "outputs": [],
   "source": [
    "Ckm"
   ]
  },
  {
   "cell_type": "code",
   "execution_count": null,
   "metadata": {},
   "outputs": [],
   "source": [
    "for i,y in enumerate(y_fit):\n",
    "    if y == 2:\n",
    "        print(y,Ckm[i])"
   ]
  },
  {
   "cell_type": "code",
   "execution_count": null,
   "metadata": {},
   "outputs": [],
   "source": [
    "import matplotlib.pyplot as plt\n",
    "\n",
    "from sklearn.cluster import KMeans\n",
    "J=np.zeros((12,))\n",
    "for K in range(1,12):\n",
    "    print('************************************')\n",
    "    print('K = ',K)\n",
    "    clust=KMeans(n_clusters=K)\n",
    "    Ckm=clust.fit_predict(X)\n",
    "    J[K]=clust.inertia_\n",
    "    \n",
    "f, axarr = plt.subplots(2, sharex=True)\n",
    "\n",
    "axarr[0].plot(np.arange(1,12),J[1:12])  \n",
    "axarr[0].set_title('évolution du critère')\n",
    "axarr[1].plot(np.arange(2,12),(J[1:11]-J[2:12])/J[1:11])\n",
    "axarr[1].set_title('évolution relative du critère')   "
   ]
  },
  {
   "cell_type": "code",
   "execution_count": null,
   "metadata": {},
   "outputs": [],
   "source": [
    "X.toarray()"
   ]
  },
  {
   "cell_type": "code",
   "execution_count": null,
   "metadata": {},
   "outputs": [],
   "source": [
    "X = X.toarray()\n",
    "y = cyberpunk[\"year_publication\"]"
   ]
  },
  {
   "cell_type": "code",
   "execution_count": null,
   "metadata": {},
   "outputs": [],
   "source": [
    "from sklearn import preprocessing\n",
    "le = preprocessing.LabelEncoder()\n",
    "le.fit(y)\n",
    "y_fit = le.transform(y)"
   ]
  },
  {
   "cell_type": "code",
   "execution_count": null,
   "metadata": {},
   "outputs": [],
   "source": [
    "y_fit"
   ]
  },
  {
   "cell_type": "code",
   "execution_count": null,
   "metadata": {},
   "outputs": [],
   "source": [
    "seed = 42\n",
    "X_train, X_test, y_train, y_test = train_test_split(X, y_fit, test_size=0.20, random_state=seed)\n"
   ]
  },
  {
   "cell_type": "code",
   "execution_count": null,
   "metadata": {},
   "outputs": [],
   "source": [
    "clf = LogisticRegression(penalty=\"l1\",solver=\"liblinear\").fit(X_train, y_train)\n",
    "clf.score(X_test, y_test)"
   ]
  },
  {
   "cell_type": "code",
   "execution_count": null,
   "metadata": {},
   "outputs": [],
   "source": []
  },
  {
   "cell_type": "code",
   "execution_count": null,
   "metadata": {},
   "outputs": [],
   "source": []
  },
  {
   "cell_type": "markdown",
   "metadata": {},
   "source": [
    "On n'arrive pas trop à discrimner (20 % mieux que 1/12 mais bon)"
   ]
  }
 ],
 "metadata": {
  "kernelspec": {
   "display_name": "Python 3",
   "language": "python",
   "name": "python3"
  },
  "language_info": {
   "codemirror_mode": {
    "name": "ipython",
    "version": 3
   },
   "file_extension": ".py",
   "mimetype": "text/x-python",
   "name": "python",
   "nbconvert_exporter": "python",
   "pygments_lexer": "ipython3",
   "version": "3.8.5"
  }
 },
 "nbformat": 4,
 "nbformat_minor": 4
}
