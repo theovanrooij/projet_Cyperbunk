{
 "cells": [
  {
   "cell_type": "code",
   "execution_count": 2,
   "metadata": {},
   "outputs": [
    {
     "name": "stdout",
     "output_type": "stream",
     "text": [
      "Collecting twint\n",
      "  Downloading twint-2.1.20.tar.gz (31 kB)\n",
      "Collecting aiohttp\n",
      "  Downloading aiohttp-3.8.1-cp38-cp38-win_amd64.whl (555 kB)\n",
      "Collecting aiodns\n",
      "  Downloading aiodns-3.0.0-py3-none-any.whl (5.0 kB)\n",
      "Requirement already satisfied: beautifulsoup4 in c:\\users\\amine\\anaconda3\\lib\\site-packages (from twint) (4.9.3)\n",
      "Collecting cchardet\n",
      "  Downloading cchardet-2.1.7-cp38-cp38-win_amd64.whl (115 kB)\n",
      "Collecting elasticsearch\n",
      "  Downloading elasticsearch-8.1.0-py3-none-any.whl (373 kB)\n",
      "Requirement already satisfied: pysocks in c:\\users\\amine\\anaconda3\\lib\\site-packages (from twint) (1.7.1)\n",
      "Requirement already satisfied: pandas in c:\\users\\amine\\anaconda3\\lib\\site-packages (from twint) (1.1.3)\n",
      "Collecting aiohttp_socks\n",
      "  Downloading aiohttp_socks-0.7.1-py3-none-any.whl (9.3 kB)\n",
      "Collecting schedule\n",
      "  Downloading schedule-1.1.0-py2.py3-none-any.whl (10 kB)\n",
      "Collecting geopy\n",
      "  Downloading geopy-2.2.0-py3-none-any.whl (118 kB)\n",
      "Collecting fake-useragent\n",
      "  Downloading fake-useragent-0.1.11.tar.gz (13 kB)\n",
      "Collecting googletransx\n",
      "  Downloading googletransx-2.4.2.tar.gz (13 kB)\n",
      "Collecting multidict<7.0,>=4.5\n",
      "  Downloading multidict-6.0.2-cp38-cp38-win_amd64.whl (28 kB)\n",
      "Requirement already satisfied: attrs>=17.3.0 in c:\\users\\amine\\anaconda3\\lib\\site-packages (from aiohttp->twint) (19.3.0)\n",
      "Collecting aiosignal>=1.1.2\n",
      "  Downloading aiosignal-1.2.0-py3-none-any.whl (8.2 kB)\n",
      "Collecting yarl<2.0,>=1.0\n",
      "  Downloading yarl-1.7.2-cp38-cp38-win_amd64.whl (122 kB)\n",
      "Collecting charset-normalizer<3.0,>=2.0\n",
      "  Downloading charset_normalizer-2.0.12-py3-none-any.whl (39 kB)\n",
      "Collecting async-timeout<5.0,>=4.0.0a3\n",
      "  Downloading async_timeout-4.0.2-py3-none-any.whl (5.8 kB)\n",
      "Collecting frozenlist>=1.1.1\n",
      "  Downloading frozenlist-1.3.0-cp38-cp38-win_amd64.whl (33 kB)\n",
      "Collecting pycares>=4.0.0\n",
      "  Downloading pycares-4.1.2-cp38-cp38-win_amd64.whl (83 kB)\n",
      "Requirement already satisfied: soupsieve>1.2; python_version >= \"3.0\" in c:\\users\\amine\\anaconda3\\lib\\site-packages (from beautifulsoup4->twint) (2.0.1)\n",
      "Collecting elastic-transport<9,>=8\n",
      "  Downloading elastic_transport-8.1.0-py3-none-any.whl (58 kB)\n",
      "Requirement already satisfied: numpy>=1.15.4 in c:\\users\\amine\\anaconda3\\lib\\site-packages (from pandas->twint) (1.19.2)\n",
      "Requirement already satisfied: python-dateutil>=2.7.3 in c:\\users\\amine\\anaconda3\\lib\\site-packages (from pandas->twint) (2.8.1)\n",
      "Requirement already satisfied: pytz>=2017.2 in c:\\users\\amine\\anaconda3\\lib\\site-packages (from pandas->twint) (2020.1)\n",
      "Collecting python-socks[asyncio]<3.0.0,>=2.0.0\n",
      "  Downloading python_socks-2.0.3-py3-none-any.whl (49 kB)\n",
      "Collecting geographiclib<2,>=1.49\n",
      "  Downloading geographiclib-1.52-py3-none-any.whl (38 kB)\n",
      "Requirement already satisfied: requests in c:\\users\\amine\\anaconda3\\lib\\site-packages (from googletransx->twint) (2.22.0)\n",
      "Requirement already satisfied: idna>=2.0 in c:\\users\\amine\\anaconda3\\lib\\site-packages (from yarl<2.0,>=1.0->aiohttp->twint) (2.8)\n",
      "Requirement already satisfied: cffi>=1.5.0 in c:\\users\\amine\\anaconda3\\lib\\site-packages (from pycares>=4.0.0->aiodns->twint) (1.14.3)\n",
      "Requirement already satisfied: urllib3<2,>=1.26.2 in c:\\users\\amine\\anaconda3\\lib\\site-packages (from elastic-transport<9,>=8->elasticsearch->twint) (1.26.8)\n",
      "Requirement already satisfied: certifi in c:\\users\\amine\\anaconda3\\lib\\site-packages (from elastic-transport<9,>=8->elasticsearch->twint) (2019.11.28)\n",
      "Requirement already satisfied: six>=1.5 in c:\\users\\amine\\anaconda3\\lib\\site-packages (from python-dateutil>=2.7.3->pandas->twint) (1.15.0)\n",
      "Requirement already satisfied: chardet<3.1.0,>=3.0.2 in c:\\users\\amine\\anaconda3\\lib\\site-packages (from requests->googletransx->twint) (3.0.4)\n",
      "Requirement already satisfied: pycparser in c:\\users\\amine\\anaconda3\\lib\\site-packages (from cffi>=1.5.0->pycares>=4.0.0->aiodns->twint) (2.20)\n",
      "Building wheels for collected packages: twint, fake-useragent, googletransx\n",
      "  Building wheel for twint (setup.py): started\n",
      "  Building wheel for twint (setup.py): finished with status 'done'\n",
      "  Created wheel for twint: filename=twint-2.1.20-py3-none-any.whl size=33927 sha256=78ae2bbcadc73636e93da87a02d1c0784a7919aa2b40bbed3850cb0a2d406980\n",
      "  Stored in directory: c:\\users\\amine\\appdata\\local\\pip\\cache\\wheels\\4e\\80\\ea\\5b82b5140b7dec857ec0bbfe908193ebf2e5d7f2ebee297519\n",
      "  Building wheel for fake-useragent (setup.py): started\n",
      "  Building wheel for fake-useragent (setup.py): finished with status 'done'\n",
      "  Created wheel for fake-useragent: filename=fake_useragent-0.1.11-py3-none-any.whl size=13489 sha256=890eac8d133ac6c8523c02a25987a8777ec85d3444a166203b08e1e487d4de6b\n",
      "  Stored in directory: c:\\users\\amine\\appdata\\local\\pip\\cache\\wheels\\a0\\b8\\b7\\8c942b2c5be5158b874a88195116b05ad124bac795f6665e65\n",
      "  Building wheel for googletransx (setup.py): started\n",
      "  Building wheel for googletransx (setup.py): finished with status 'done'\n",
      "  Created wheel for googletransx: filename=googletransx-2.4.2-py3-none-any.whl size=15974 sha256=b50a71dde3573f4c17647da56f6c0b34cdb8ce8f7dd7f71a2de585abb888b317\n",
      "  Stored in directory: c:\\users\\amine\\appdata\\local\\pip\\cache\\wheels\\6a\\54\\98\\96b62f08dd73eca3147e36b5099d77c3f8fedc5472bb488167\n",
      "Successfully built twint fake-useragent googletransx\n",
      "Installing collected packages: multidict, frozenlist, aiosignal, yarl, charset-normalizer, async-timeout, aiohttp, pycares, aiodns, cchardet, elastic-transport, elasticsearch, python-socks, aiohttp-socks, schedule, geographiclib, geopy, fake-useragent, googletransx, twint\n",
      "Successfully installed aiodns-3.0.0 aiohttp-3.8.1 aiohttp-socks-0.7.1 aiosignal-1.2.0 async-timeout-4.0.2 cchardet-2.1.7 charset-normalizer-2.0.12 elastic-transport-8.1.0 elasticsearch-8.1.0 fake-useragent-0.1.11 frozenlist-1.3.0 geographiclib-1.52 geopy-2.2.0 googletransx-2.4.2 multidict-6.0.2 pycares-4.1.2 python-socks-2.0.3 schedule-1.1.0 twint-2.1.20 yarl-1.7.2\n"
     ]
    }
   ],
   "source": [
    "!pip install twint"
   ]
  },
  {
   "cell_type": "code",
   "execution_count": 1,
   "metadata": {},
   "outputs": [
    {
     "name": "stdout",
     "output_type": "stream",
     "text": [
      "Collecting textblob\n",
      "  Downloading textblob-0.17.1-py2.py3-none-any.whl (636 kB)\n",
      "Requirement already satisfied: nltk>=3.1; python_version >= \"3\" in c:\\users\\amine\\anaconda3\\lib\\site-packages (from textblob) (3.5)\n",
      "Requirement already satisfied: tqdm in c:\\users\\amine\\anaconda3\\lib\\site-packages (from nltk>=3.1; python_version >= \"3\"->textblob) (4.50.2)\n",
      "Requirement already satisfied: regex in c:\\users\\amine\\anaconda3\\lib\\site-packages (from nltk>=3.1; python_version >= \"3\"->textblob) (2020.10.15)\n",
      "Requirement already satisfied: click in c:\\users\\amine\\anaconda3\\lib\\site-packages (from nltk>=3.1; python_version >= \"3\"->textblob) (7.1.2)\n",
      "Requirement already satisfied: joblib in c:\\users\\amine\\anaconda3\\lib\\site-packages (from nltk>=3.1; python_version >= \"3\"->textblob) (0.17.0)\n",
      "Installing collected packages: textblob\n",
      "Successfully installed textblob-0.17.1\n",
      "Collecting textblob-fr\n",
      "  Downloading textblob_fr-0.2.0-py2.py3-none-any.whl (561 kB)\n",
      "Requirement already satisfied: textblob>=0.8.0 in c:\\users\\amine\\anaconda3\\lib\\site-packages (from textblob-fr) (0.17.1)\n",
      "Requirement already satisfied: nltk>=3.1; python_version >= \"3\" in c:\\users\\amine\\anaconda3\\lib\\site-packages (from textblob>=0.8.0->textblob-fr) (3.5)\n",
      "Requirement already satisfied: joblib in c:\\users\\amine\\anaconda3\\lib\\site-packages (from nltk>=3.1; python_version >= \"3\"->textblob>=0.8.0->textblob-fr) (0.17.0)\n",
      "Requirement already satisfied: click in c:\\users\\amine\\anaconda3\\lib\\site-packages (from nltk>=3.1; python_version >= \"3\"->textblob>=0.8.0->textblob-fr) (7.1.2)\n",
      "Requirement already satisfied: tqdm in c:\\users\\amine\\anaconda3\\lib\\site-packages (from nltk>=3.1; python_version >= \"3\"->textblob>=0.8.0->textblob-fr) (4.50.2)\n",
      "Requirement already satisfied: regex in c:\\users\\amine\\anaconda3\\lib\\site-packages (from nltk>=3.1; python_version >= \"3\"->textblob>=0.8.0->textblob-fr) (2020.10.15)\n",
      "Installing collected packages: textblob-fr\n",
      "Successfully installed textblob-fr-0.2.0\n"
     ]
    }
   ],
   "source": [
    "!pip install textblob\n",
    "!pip install textblob-fr"
   ]
  },
  {
   "cell_type": "code",
   "execution_count": 3,
   "metadata": {},
   "outputs": [
    {
     "name": "stderr",
     "output_type": "stream",
     "text": [
      "C:\\Users\\amine\\anaconda3\\lib\\site-packages\\requests\\__init__.py:89: RequestsDependencyWarning: urllib3 (1.26.8) or chardet (3.0.4) doesn't match a supported version!\n",
      "  warnings.warn(\"urllib3 ({}) or chardet ({}) doesn't match a supported \"\n"
     ]
    }
   ],
   "source": [
    "import datetime as dt\n",
    "import pandas as pd\n",
    "import twint\n",
    "import numpy as np\n",
    "import re\n",
    "import matplotlib.pyplot as plt"
   ]
  },
  {
   "cell_type": "code",
   "execution_count": 32,
   "metadata": {},
   "outputs": [],
   "source": [
    "import re\n",
    "\n",
    "def nlp_pipeline(text):\n",
    "\n",
    "    text = text.lower()\n",
    "    text = text.replace('\\n', ' ').replace('\\r', '')\n",
    "    text = ' '.join(text.split())\n",
    "    text = re.sub(r\"[A-Za-z\\.]*[0-9]+[A-Za-z%°\\.]*\", \"\", text)\n",
    "    text = re.sub(r\"(\\s\\-\\s|-$)\", \"\", text)\n",
    "    text = re.sub(r\"[,\\!\\?\\%\\(\\)\\/\\\"]\", \"\", text)\n",
    "    text = re.sub(r\"\\&\\S*\\s\", \"\", text)\n",
    "    text = re.sub(r\"\\&\", \"\", text)\n",
    "    text = re.sub(r\"\\+\", \"\", text)\n",
    "    text = re.sub(r\"\\#\", \"\", text)\n",
    "    text = re.sub(r\"\\$\", \"\", text)\n",
    "    text = re.sub(r\"\\£\", \"\", text)\n",
    "    text = re.sub(r\"\\%\", \"\", text)\n",
    "    text = re.sub(r\"\\:\", \"\", text)\n",
    "    text = re.sub(r\"\\@\", \"\", text)\n",
    "    text = re.sub(r\"\\-\", \"\", text)\n",
    "\n",
    "    return text"
   ]
  },
  {
   "cell_type": "code",
   "execution_count": 88,
   "metadata": {},
   "outputs": [
    {
     "name": "stdout",
     "output_type": "stream",
     "text": [
      "[\"j'ai adoré! c'était hyper intéressant\", 'drôle mais pas génial à la fois', \"c'est nul\", \"c'est trop naze...\", 'je hais le cyberpunk', \"j'aime le cyberpunk\", \"Achat d'impulsion datant d'une paire d'années, j'ai toujours eu des doutes concernant ce livre au moment de l'entamer. J'en ai sans cesse retarder la lecture jusque là.,Je ne suis pas adepte de la SF scénarisée où tout se passe comme si on regardait la tv. Je suis encore moins des ambiances glauques dans lesquelles l'action, les violences gratuites et les scènes de sexe\", \"Tout d'abord, il faut savoir que je ne suis pas une grande fan de science-fiction, même s'il m'arrive d'en lire. Et celui-ci m'a tenté quand j'ai vu la série sur Netflix et je l'avais énormément apprécié. Mais lire cette histoire est quelque chose de différent. Et effectivement, je n'ai pas vraiment apprécié ma lecture. Je n'ai pas détesté l'histoire, au contraire, mais j'ai eu du mal à m'y mettre, à m'y plonger dedans, je n'avais pas l'impression de me détendre.\", \"Je ne noterai pas ce livre, je ne suis pas arrivée à entrer dans l'histoire. Je suis désolée, mais je n'adhère pas du tout à ce genre de lecture et j'en suis vraiment déçue... le sujet m'intéresse, c'est pour ça que je l'ai acheté. le style d'écriture ne me correspond pas, pour moi, la lecture n'est pas assez fluide et trop compliquée en vocabulaire... Je n'en dirai pas plus, c'est triste, j'ai tellement lu de belles choses et là je ne peux pas les cautionner...Je sais que William Gibson est un pionnier dans la SF et surtout dans ce genre de roman.Ce qui fait que ce lire m'attirait c'est le fait que l'histoire se passe dans le virtuel et qu'en 1984, William Gibson ait peu penser qu'un jour on pourrait virtuellement vivre des choses. même prendre possession d'un ordinateur à distance, ce qu'on fait aujourd'hui sans soucis... Quand on pense que quand nous étions petits en 1984 (j'avais 15ans) les ordinateurs n'étaient pas vraiment très évolués, même l'idée d'internet n'était pas dans toutes les têtes... alors de là à voyager dans le cyberespace... C'est cette idée qui m'intéressait vraiment, elle m'intéresse toujours d'ailleurs, peut-être qu'un jour je tomberais sur un livre qui me conviendra... je l'espère du font du coeur...\"]\n"
     ]
    }
   ],
   "source": [
    "# Un exemple de message qu'on pourrait trouver, écrits de manière \"vulguarisée\".\n",
    "\n",
    "X = [\"j'ai adoré! c'était hyper intéressant\", \"drôle mais pas génial à la fois\", \"c'est nul\",\"c'est trop naze...\"]\n",
    "X += [\"je hais le cyberpunk\",\"j'aime le cyberpunk\",\"Achat d'impulsion datant d'une paire d'années, j'ai toujours eu des doutes concernant ce livre au moment de l'entamer. J'en ai sans cesse retarder la lecture jusque là.,Je ne suis pas adepte de la SF scénarisée où tout se passe comme si on regardait la tv. Je suis encore moins des ambiances glauques dans lesquelles l'action, les violences gratuites et les scènes de sexe\",\"Tout d'abord, il faut savoir que je ne suis pas une grande fan de science-fiction, même s'il m'arrive d'en lire. Et celui-ci m'a tenté quand j'ai vu la série sur Netflix et je l'avais énormément apprécié. Mais lire cette histoire est quelque chose de différent. Et effectivement, je n'ai pas vraiment apprécié ma lecture. Je n'ai pas détesté l'histoire, au contraire, mais j'ai eu du mal à m'y mettre, à m'y plonger dedans, je n'avais pas l'impression de me détendre.\"]\n",
    "\n",
    "X += [\"Je ne noterai pas ce livre, je ne suis pas arrivée à entrer dans l'histoire. Je suis désolée, mais je n'adhère pas du tout à ce genre de lecture et j'en suis vraiment déçue... le sujet m'intéresse, c'est pour ça que je l'ai acheté. le style d'écriture ne me correspond pas, pour moi, la lecture n'est pas assez fluide et trop compliquée en vocabulaire... Je n'en dirai pas plus, c'est triste, j'ai tellement lu de belles choses et là je ne peux pas les cautionner...Je sais que William Gibson est un pionnier dans la SF et surtout dans ce genre de roman.Ce qui fait que ce lire m'attirait c'est le fait que l'histoire se passe dans le virtuel et qu'en 1984, William Gibson ait peu penser qu'un jour on pourrait virtuellement vivre des choses. même prendre possession d'un ordinateur à distance, ce qu'on fait aujourd'hui sans soucis... Quand on pense que quand nous étions petits en 1984 (j'avais 15ans) les ordinateurs n'étaient pas vraiment très évolués, même l'idée d'internet n'était pas dans toutes les têtes... alors de là à voyager dans le cyberespace... C'est cette idée qui m'intéressait vraiment, elle m'intéresse toujours d'ailleurs, peut-être qu'un jour je tomberais sur un livre qui me conviendra... je l'espère du font du coeur...\"]\n",
    "\n",
    "print(X)\n"
   ]
  },
  {
   "cell_type": "code",
   "execution_count": 89,
   "metadata": {},
   "outputs": [
    {
     "data": {
      "text/html": [
       "<div>\n",
       "<style scoped>\n",
       "    .dataframe tbody tr th:only-of-type {\n",
       "        vertical-align: middle;\n",
       "    }\n",
       "\n",
       "    .dataframe tbody tr th {\n",
       "        vertical-align: top;\n",
       "    }\n",
       "\n",
       "    .dataframe thead th {\n",
       "        text-align: right;\n",
       "    }\n",
       "</style>\n",
       "<table border=\"1\" class=\"dataframe\">\n",
       "  <thead>\n",
       "    <tr style=\"text-align: right;\">\n",
       "      <th></th>\n",
       "      <th>critics</th>\n",
       "    </tr>\n",
       "  </thead>\n",
       "  <tbody>\n",
       "    <tr>\n",
       "      <th>0</th>\n",
       "      <td>j'ai adoré! c'était hyper intéressant</td>\n",
       "    </tr>\n",
       "    <tr>\n",
       "      <th>1</th>\n",
       "      <td>drôle mais pas génial à la fois</td>\n",
       "    </tr>\n",
       "    <tr>\n",
       "      <th>2</th>\n",
       "      <td>c'est nul</td>\n",
       "    </tr>\n",
       "    <tr>\n",
       "      <th>3</th>\n",
       "      <td>c'est trop naze...</td>\n",
       "    </tr>\n",
       "    <tr>\n",
       "      <th>4</th>\n",
       "      <td>je hais le cyberpunk</td>\n",
       "    </tr>\n",
       "    <tr>\n",
       "      <th>5</th>\n",
       "      <td>j'aime le cyberpunk</td>\n",
       "    </tr>\n",
       "    <tr>\n",
       "      <th>6</th>\n",
       "      <td>Achat d'impulsion datant d'une paire d'années,...</td>\n",
       "    </tr>\n",
       "    <tr>\n",
       "      <th>7</th>\n",
       "      <td>Tout d'abord, il faut savoir que je ne suis pa...</td>\n",
       "    </tr>\n",
       "    <tr>\n",
       "      <th>8</th>\n",
       "      <td>Je ne noterai pas ce livre, je ne suis pas arr...</td>\n",
       "    </tr>\n",
       "  </tbody>\n",
       "</table>\n",
       "</div>"
      ],
      "text/plain": [
       "                                             critics\n",
       "0              j'ai adoré! c'était hyper intéressant\n",
       "1                    drôle mais pas génial à la fois\n",
       "2                                          c'est nul\n",
       "3                                 c'est trop naze...\n",
       "4                               je hais le cyberpunk\n",
       "5                                j'aime le cyberpunk\n",
       "6  Achat d'impulsion datant d'une paire d'années,...\n",
       "7  Tout d'abord, il faut savoir que je ne suis pa...\n",
       "8  Je ne noterai pas ce livre, je ne suis pas arr..."
      ]
     },
     "execution_count": 89,
     "metadata": {},
     "output_type": "execute_result"
    }
   ],
   "source": [
    "df = pd.DataFrame(data=X, columns = [\"critics\"])\n",
    "df.head(10)"
   ]
  },
  {
   "cell_type": "code",
   "execution_count": 90,
   "metadata": {},
   "outputs": [],
   "source": [
    "corpus = df['critics']\n",
    "corpus_clean = corpus.apply(nlp_pipeline)"
   ]
  },
  {
   "cell_type": "code",
   "execution_count": 91,
   "metadata": {},
   "outputs": [],
   "source": [
    "from textblob import TextBlob\n",
    "from textblob_fr import PatternTagger, PatternAnalyzer\n",
    "\n",
    "polarity = []\n",
    "for msg in corpus_clean:\n",
    "  polarity.append(TextBlob(msg,pos_tagger=PatternTagger(),analyzer=PatternAnalyzer()).sentiment[0])"
   ]
  },
  {
   "cell_type": "code",
   "execution_count": 92,
   "metadata": {},
   "outputs": [
    {
     "name": "stdout",
     "output_type": "stream",
     "text": [
      "[0.4, 0.04000000000000001, -0.2, -0.25, 0.0, 0.6, 0.10500000000000001, 0.05249999999999999, -0.04867647058823527]\n"
     ]
    },
    {
     "data": {
      "text/plain": [
       "[<matplotlib.lines.Line2D at 0x20df4ce5070>]"
      ]
     },
     "execution_count": 92,
     "metadata": {},
     "output_type": "execute_result"
    },
    {
     "data": {
      "image/png": "[encoded data removed]",
      "text/plain": [
       "<Figure size 432x288 with 1 Axes>"
      ]
     },
     "metadata": {
      "needs_background": "light"
     },
     "output_type": "display_data"
    }
   ],
   "source": [
    "print(polarity)\n",
    "plt.plot(polarity)"
   ]
  },
  {
   "cell_type": "code",
   "execution_count": 36,
   "metadata": {},
   "outputs": [],
   "source": [
    "## C'est censé grouper par date chronologique\n",
    "\n",
    "# group = lambda liste, size : [liste[i:i+size] for i in range(0, len(liste), size)]\n",
    "\n",
    "# polarity_par_paquet = group(polarity,100)\n",
    "\n",
    "# liste_moyennes = []\n",
    "# for l in polarity_par_paquet :\n",
    "#     liste_moyennes.append(np.mean(l))\n",
    "\n",
    "# plt.plot(liste_moyennes)"
   ]
  },
  {
   "cell_type": "code",
   "execution_count": null,
   "metadata": {},
   "outputs": [],
   "source": []
  },
  {
   "cell_type": "code",
   "execution_count": null,
   "metadata": {},
   "outputs": [],
   "source": []
  },
  {
   "cell_type": "code",
   "execution_count": null,
   "metadata": {},
   "outputs": [],
   "source": []
  },
  {
   "cell_type": "code",
   "execution_count": null,
   "metadata": {},
   "outputs": [],
   "source": []
  },
  {
   "cell_type": "code",
   "execution_count": null,
   "metadata": {},
   "outputs": [],
   "source": []
  },
  {
   "cell_type": "code",
   "execution_count": null,
   "metadata": {},
   "outputs": [],
   "source": []
  },
  {
   "cell_type": "code",
   "execution_count": null,
   "metadata": {},
   "outputs": [],
   "source": []
  },
  {
   "cell_type": "code",
   "execution_count": null,
   "metadata": {},
   "outputs": [],
   "source": []
  },
  {
   "cell_type": "code",
   "execution_count": null,
   "metadata": {},
   "outputs": [],
   "source": []
  }
 ],
 "metadata": {
  "kernelspec": {
   "display_name": "Python 3",
   "language": "python",
   "name": "python3"
  },
  "language_info": {
   "codemirror_mode": {
    "name": "ipython",
    "version": 3
   },
   "file_extension": ".py",
   "mimetype": "text/x-python",
   "name": "python",
   "nbconvert_exporter": "python",
   "pygments_lexer": "ipython3",
   "version": "3.8.5"
  }
 },
 "nbformat": 4,
 "nbformat_minor": 4
}
