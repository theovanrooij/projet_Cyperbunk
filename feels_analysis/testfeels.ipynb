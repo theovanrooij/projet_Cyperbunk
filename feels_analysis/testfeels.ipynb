{
 "cells": [
  {
   "cell_type": "code",
   "execution_count": 22,
   "metadata": {},
   "outputs": [
    {
     "name": "stdout",
     "output_type": "stream",
     "text": [
      "[\"j'ai adoré! c'était hyper intéressant\", 'drôle mais pas ouf à la fois', \"c'est trop nul\", \"c'est trop naze...\"]\n"
     ]
    }
   ],
   "source": [
    "# Un exemple de message qu'on pourrait trouver, écrits de manière \"vulguarisée\".\n",
    "\n",
    "X = [\"j'ai adoré! c'était hyper intéressant\", \"drôle mais pas génial à la fois\", \"c'est nul\",\"c'est trop naze...\"]\n",
    "print(X)\n"
   ]
  },
  {
   "cell_type": "code",
   "execution_count": 39,
   "metadata": {},
   "outputs": [
    {
     "name": "stdout",
     "output_type": "stream",
     "text": [
      "Requirement already satisfied: twint in c:\\users\\melin\\anaconda3\\lib\\site-packages (2.1.20)\n",
      "Requirement already satisfied: elasticsearch in c:\\users\\melin\\anaconda3\\lib\\site-packages (from twint) (8.1.0)\n",
      "Requirement already satisfied: cchardet in c:\\users\\melin\\anaconda3\\lib\\site-packages (from twint) (2.1.7)\n",
      "Requirement already satisfied: geopy in c:\\users\\melin\\anaconda3\\lib\\site-packages (from twint) (2.2.0)\n",
      "Requirement already satisfied: aiodns in c:\\users\\melin\\anaconda3\\lib\\site-packages (from twint) (3.0.0)\n",
      "Requirement already satisfied: pandas in c:\\users\\melin\\anaconda3\\lib\\site-packages (from twint) (1.1.4)\n",
      "Requirement already satisfied: aiohttp in c:\\users\\melin\\anaconda3\\lib\\site-packages (from twint) (3.8.1)\n",
      "Requirement already satisfied: aiohttp-socks in c:\\users\\melin\\anaconda3\\lib\\site-packages (from twint) (0.7.1)\n",
      "Requirement already satisfied: googletransx in c:\\users\\melin\\anaconda3\\lib\\site-packages (from twint) (2.4.2)\n",
      "Requirement already satisfied: fake-useragent in c:\\users\\melin\\anaconda3\\lib\\site-packages (from twint) (0.1.11)\n",
      "Requirement already satisfied: schedule in c:\\users\\melin\\anaconda3\\lib\\site-packages (from twint) (1.1.0)\n",
      "Requirement already satisfied: beautifulsoup4 in c:\\users\\melin\\anaconda3\\lib\\site-packages (from twint) (4.9.3)\n",
      "Requirement already satisfied: pysocks in c:\\users\\melin\\anaconda3\\lib\\site-packages (from twint) (1.7.1)\n",
      "Requirement already satisfied: elastic-transport<9,>=8 in c:\\users\\melin\\anaconda3\\lib\\site-packages (from elasticsearch->twint) (8.1.0)\n",
      "Requirement already satisfied: geographiclib<2,>=1.49 in c:\\users\\melin\\anaconda3\\lib\\site-packages (from geopy->twint) (1.52)\n",
      "Requirement already satisfied: pycares>=4.0.0 in c:\\users\\melin\\anaconda3\\lib\\site-packages (from aiodns->twint) (4.1.2)\n",
      "Requirement already satisfied: numpy>=1.15.4 in c:\\users\\melin\\anaconda3\\lib\\site-packages (from pandas->twint) (1.19.4)\n",
      "Requirement already satisfied: python-dateutil>=2.7.3 in c:\\users\\melin\\anaconda3\\lib\\site-packages (from pandas->twint) (2.8.1)\n",
      "Requirement already satisfied: pytz>=2017.2 in c:\\users\\melin\\anaconda3\\lib\\site-packages (from pandas->twint) (2020.4)\n",
      "Requirement already satisfied: frozenlist>=1.1.1 in c:\\users\\melin\\anaconda3\\lib\\site-packages (from aiohttp->twint) (1.3.0)\n",
      "Requirement already satisfied: aiosignal>=1.1.2 in c:\\users\\melin\\anaconda3\\lib\\site-packages (from aiohttp->twint) (1.2.0)\n",
      "Requirement already satisfied: async-timeout<5.0,>=4.0.0a3 in c:\\users\\melin\\anaconda3\\lib\\site-packages (from aiohttp->twint) (4.0.2)\n",
      "Requirement already satisfied: yarl<2.0,>=1.0 in c:\\users\\melin\\anaconda3\\lib\\site-packages (from aiohttp->twint) (1.7.2)\n",
      "Requirement already satisfied: multidict<7.0,>=4.5 in c:\\users\\melin\\anaconda3\\lib\\site-packages (from aiohttp->twint) (6.0.2)\n",
      "Requirement already satisfied: attrs>=17.3.0 in c:\\users\\melin\\anaconda3\\lib\\site-packages (from aiohttp->twint) (20.3.0)\n",
      "Requirement already satisfied: charset-normalizer<3.0,>=2.0 in c:\\users\\melin\\anaconda3\\lib\\site-packages (from aiohttp->twint) (2.0.12)\n",
      "Requirement already satisfied: python-socks[asyncio]<3.0.0,>=2.0.0 in c:\\users\\melin\\anaconda3\\lib\\site-packages (from aiohttp-socks->twint) (2.0.3)\n",
      "Requirement already satisfied: requests in c:\\users\\melin\\anaconda3\\lib\\site-packages (from googletransx->twint) (2.24.0)\n",
      "Requirement already satisfied: soupsieve>1.2; python_version >= \"3.0\" in c:\\users\\melin\\anaconda3\\lib\\site-packages (from beautifulsoup4->twint) (2.0.1)\n",
      "Requirement already satisfied: certifi in c:\\users\\melin\\anaconda3\\lib\\site-packages (from elastic-transport<9,>=8->elasticsearch->twint) (2020.6.20)\n",
      "Requirement already satisfied: urllib3<2,>=1.26.2 in c:\\users\\melin\\anaconda3\\lib\\site-packages (from elastic-transport<9,>=8->elasticsearch->twint) (1.26.8)\n",
      "Requirement already satisfied: cffi>=1.5.0 in c:\\users\\melin\\anaconda3\\lib\\site-packages (from pycares>=4.0.0->aiodns->twint) (1.14.3)\n",
      "Requirement already satisfied: six>=1.5 in c:\\users\\melin\\anaconda3\\lib\\site-packages (from python-dateutil>=2.7.3->pandas->twint) (1.15.0)\n",
      "Requirement already satisfied: idna>=2.0 in c:\\users\\melin\\anaconda3\\lib\\site-packages (from yarl<2.0,>=1.0->aiohttp->twint) (2.10)\n",
      "Requirement already satisfied: chardet<4,>=3.0.2 in c:\\users\\melin\\anaconda3\\lib\\site-packages (from requests->googletransx->twint) (3.0.4)\n",
      "Requirement already satisfied: pycparser in c:\\users\\melin\\anaconda3\\lib\\site-packages (from cffi>=1.5.0->pycares>=4.0.0->aiodns->twint) (2.20)\n"
     ]
    }
   ],
   "source": [
    "!pip install twint"
   ]
  },
  {
   "cell_type": "code",
   "execution_count": 12,
   "metadata": {},
   "outputs": [
    {
     "name": "stdout",
     "output_type": "stream",
     "text": [
      "Requirement already satisfied: textblob in c:\\users\\melin\\anaconda3\\lib\\site-packages (0.17.1)\n",
      "Requirement already satisfied: nltk>=3.1; python_version >= \"3\" in c:\\users\\melin\\anaconda3\\lib\\site-packages (from textblob) (3.5)\n",
      "Requirement already satisfied: click in c:\\users\\melin\\anaconda3\\lib\\site-packages (from nltk>=3.1; python_version >= \"3\"->textblob) (7.1.2)\n",
      "Requirement already satisfied: tqdm in c:\\users\\melin\\anaconda3\\lib\\site-packages (from nltk>=3.1; python_version >= \"3\"->textblob) (4.50.2)\n",
      "Requirement already satisfied: joblib in c:\\users\\melin\\anaconda3\\lib\\site-packages (from nltk>=3.1; python_version >= \"3\"->textblob) (0.17.0)\n",
      "Requirement already satisfied: regex in c:\\users\\melin\\anaconda3\\lib\\site-packages (from nltk>=3.1; python_version >= \"3\"->textblob) (2020.10.15)\n",
      "Collecting textblob-fr\n",
      "  Downloading textblob_fr-0.2.0-py2.py3-none-any.whl (561 kB)\n",
      "Requirement already satisfied: textblob>=0.8.0 in c:\\users\\melin\\anaconda3\\lib\\site-packages (from textblob-fr) (0.17.1)\n",
      "Requirement already satisfied: nltk>=3.1; python_version >= \"3\" in c:\\users\\melin\\anaconda3\\lib\\site-packages (from textblob>=0.8.0->textblob-fr) (3.5)\n",
      "Requirement already satisfied: click in c:\\users\\melin\\anaconda3\\lib\\site-packages (from nltk>=3.1; python_version >= \"3\"->textblob>=0.8.0->textblob-fr) (7.1.2)\n",
      "Requirement already satisfied: regex in c:\\users\\melin\\anaconda3\\lib\\site-packages (from nltk>=3.1; python_version >= \"3\"->textblob>=0.8.0->textblob-fr) (2020.10.15)\n",
      "Requirement already satisfied: joblib in c:\\users\\melin\\anaconda3\\lib\\site-packages (from nltk>=3.1; python_version >= \"3\"->textblob>=0.8.0->textblob-fr) (0.17.0)\n",
      "Requirement already satisfied: tqdm in c:\\users\\melin\\anaconda3\\lib\\site-packages (from nltk>=3.1; python_version >= \"3\"->textblob>=0.8.0->textblob-fr) (4.50.2)\n",
      "Installing collected packages: textblob-fr\n",
      "Successfully installed textblob-fr-0.2.0\n"
     ]
    }
   ],
   "source": [
    "!pip install textblob\n",
    "!pip install textblob-fr"
   ]
  },
  {
   "cell_type": "code",
   "execution_count": 35,
   "metadata": {},
   "outputs": [],
   "source": [
    "import datetime as dt\n",
    "import pandas as pd\n",
    "import twint\n",
    "import numpy as np\n",
    "import re\n",
    "import matplotlib.pyplot as plt"
   ]
  },
  {
   "cell_type": "code",
   "execution_count": 24,
   "metadata": {},
   "outputs": [
    {
     "data": {
      "text/html": [
       "<div>\n",
       "<style scoped>\n",
       "    .dataframe tbody tr th:only-of-type {\n",
       "        vertical-align: middle;\n",
       "    }\n",
       "\n",
       "    .dataframe tbody tr th {\n",
       "        vertical-align: top;\n",
       "    }\n",
       "\n",
       "    .dataframe thead th {\n",
       "        text-align: right;\n",
       "    }\n",
       "</style>\n",
       "<table border=\"1\" class=\"dataframe\">\n",
       "  <thead>\n",
       "    <tr style=\"text-align: right;\">\n",
       "      <th></th>\n",
       "      <th>critics</th>\n",
       "    </tr>\n",
       "  </thead>\n",
       "  <tbody>\n",
       "    <tr>\n",
       "      <th>0</th>\n",
       "      <td>j'ai adoré! c'était hyper intéressant</td>\n",
       "    </tr>\n",
       "    <tr>\n",
       "      <th>1</th>\n",
       "      <td>drôle mais pas ouf à la fois</td>\n",
       "    </tr>\n",
       "    <tr>\n",
       "      <th>2</th>\n",
       "      <td>c'est trop nul</td>\n",
       "    </tr>\n",
       "    <tr>\n",
       "      <th>3</th>\n",
       "      <td>c'est trop naze...</td>\n",
       "    </tr>\n",
       "  </tbody>\n",
       "</table>\n",
       "</div>"
      ],
      "text/plain": [
       "                                 critics\n",
       "0  j'ai adoré! c'était hyper intéressant\n",
       "1           drôle mais pas ouf à la fois\n",
       "2                         c'est trop nul\n",
       "3                     c'est trop naze..."
      ]
     },
     "execution_count": 24,
     "metadata": {},
     "output_type": "execute_result"
    }
   ],
   "source": [
    "df = pd.DataFrame(data=X, columns = [\"critics\"])\n",
    "df.head()"
   ]
  },
  {
   "cell_type": "code",
   "execution_count": 25,
   "metadata": {},
   "outputs": [],
   "source": [
    "import re\n",
    "\n",
    "def nlp_pipeline(text):\n",
    "\n",
    "    text = text.lower()\n",
    "    text = text.replace('\\n', ' ').replace('\\r', '')\n",
    "    text = ' '.join(text.split())\n",
    "    text = re.sub(r\"[A-Za-z\\.]*[0-9]+[A-Za-z%°\\.]*\", \"\", text)\n",
    "    text = re.sub(r\"(\\s\\-\\s|-$)\", \"\", text)\n",
    "    text = re.sub(r\"[,\\!\\?\\%\\(\\)\\/\\\"]\", \"\", text)\n",
    "    text = re.sub(r\"\\&\\S*\\s\", \"\", text)\n",
    "    text = re.sub(r\"\\&\", \"\", text)\n",
    "    text = re.sub(r\"\\+\", \"\", text)\n",
    "    text = re.sub(r\"\\#\", \"\", text)\n",
    "    text = re.sub(r\"\\$\", \"\", text)\n",
    "    text = re.sub(r\"\\£\", \"\", text)\n",
    "    text = re.sub(r\"\\%\", \"\", text)\n",
    "    text = re.sub(r\"\\:\", \"\", text)\n",
    "    text = re.sub(r\"\\@\", \"\", text)\n",
    "    text = re.sub(r\"\\-\", \"\", text)\n",
    "\n",
    "    return text"
   ]
  },
  {
   "cell_type": "code",
   "execution_count": 26,
   "metadata": {},
   "outputs": [],
   "source": [
    "corpus = df['critics']\n",
    "corpus_clean = corpus.apply(nlp_pipeline)"
   ]
  },
  {
   "cell_type": "code",
   "execution_count": 27,
   "metadata": {},
   "outputs": [],
   "source": [
    "from textblob import TextBlob\n",
    "from textblob_fr import PatternTagger, PatternAnalyzer\n",
    "\n",
    "polarity = []\n",
    "for msg in corpus_clean:\n",
    "  polarity.append(TextBlob(msg,pos_tagger=PatternTagger(),analyzer=PatternAnalyzer()).sentiment[0])"
   ]
  },
  {
   "cell_type": "code",
   "execution_count": 32,
   "metadata": {},
   "outputs": [
    {
     "name": "stdout",
     "output_type": "stream",
     "text": [
      "[0.4, 0.53, -0.1, -0.25]\n"
     ]
    },
    {
     "data": {
      "text/plain": [
       "[<matplotlib.lines.Line2D at 0x282ff6edb50>]"
      ]
     },
     "execution_count": 32,
     "metadata": {},
     "output_type": "execute_result"
    },
    {
     "data": {
      "image/png": "[encoded data removed]",
      "text/plain": [
       "<Figure size 432x288 with 1 Axes>"
      ]
     },
     "metadata": {
      "needs_background": "light"
     },
     "output_type": "display_data"
    }
   ],
   "source": [
    "print(polarity)\n",
    "plt.plot(polarity)"
   ]
  },
  {
   "cell_type": "code",
   "execution_count": 37,
   "metadata": {},
   "outputs": [],
   "source": [
    "## C'est censé grouper par date chronologique\n",
    "\n",
    "# group = lambda liste, size : [liste[i:i+size] for i in range(0, len(liste), size)]\n",
    "\n",
    "# polarity_par_paquet = group(polarity,100)\n",
    "\n",
    "# liste_moyennes = []\n",
    "# for l in polarity_par_paquet :\n",
    "#     liste_moyennes.append(np.mean(l))\n",
    "\n",
    "# plt.plot(liste_moyennes)"
   ]
  },
  {
   "cell_type": "code",
   "execution_count": null,
   "metadata": {},
   "outputs": [],
   "source": []
  },
  {
   "cell_type": "code",
   "execution_count": null,
   "metadata": {},
   "outputs": [],
   "source": []
  }
 ],
 "metadata": {
  "kernelspec": {
   "display_name": "Python 3",
   "language": "python",
   "name": "python3"
  },
  "language_info": {
   "codemirror_mode": {
    "name": "ipython",
    "version": 3
   },
   "file_extension": ".py",
   "mimetype": "text/x-python",
   "name": "python",
   "nbconvert_exporter": "python",
   "pygments_lexer": "ipython3",
   "version": "3.8.5"
  }
 },
 "nbformat": 4,
 "nbformat_minor": 4
}
