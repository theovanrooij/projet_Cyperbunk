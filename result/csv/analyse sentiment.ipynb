{
 "cells": [
  {
   "cell_type": "code",
   "execution_count": 1,
   "id": "be7895bf",
   "metadata": {},
   "outputs": [],
   "source": [
    "import pandas as pd\n",
    "import numpy as np\n",
    "import matplotlib.pyplot as plt"
   ]
  },
  {
   "cell_type": "code",
   "execution_count": 2,
   "id": "d78b08d7",
   "metadata": {},
   "outputs": [],
   "source": [
    "forum1=pd.read_csv(\"usenet.csv\")\n",
    "forum2=pd.read_csv(\"reddit4.csv\")\n",
    "forum3=pd.read_csv(\"cyberpunkforums.csv\")\n",
    "forum4=pd.read_csv(\"sffworld.csv\")\n"
   ]
  },
  {
   "cell_type": "code",
   "execution_count": 3,
   "id": "2a12d439",
   "metadata": {},
   "outputs": [
    {
     "data": {
      "text/html": [
       "<div>\n",
       "<style scoped>\n",
       "    .dataframe tbody tr th:only-of-type {\n",
       "        vertical-align: middle;\n",
       "    }\n",
       "\n",
       "    .dataframe tbody tr th {\n",
       "        vertical-align: top;\n",
       "    }\n",
       "\n",
       "    .dataframe thead th {\n",
       "        text-align: right;\n",
       "    }\n",
       "</style>\n",
       "<table border=\"1\" class=\"dataframe\">\n",
       "  <thead>\n",
       "    <tr style=\"text-align: right;\">\n",
       "      <th></th>\n",
       "      <th>Unnamed: 0</th>\n",
       "      <th>content</th>\n",
       "      <th>date_post</th>\n",
       "      <th>comment</th>\n",
       "      <th>idPost</th>\n",
       "      <th>replyTo</th>\n",
       "      <th>idTopic</th>\n",
       "      <th>titleTopic</th>\n",
       "      <th>Year</th>\n",
       "      <th>sentiment</th>\n",
       "    </tr>\n",
       "  </thead>\n",
       "  <tbody>\n",
       "    <tr>\n",
       "      <th>0</th>\n",
       "      <td>0</td>\n",
       "      <td>news flash back issue special premiere science...</td>\n",
       "      <td>572054400000</td>\n",
       "      <td>[]</td>\n",
       "      <td>bba8a573-1471-460a-8b73-f904d6219eaf</td>\n",
       "      <td>0</td>\n",
       "      <td>PDI2MDdAaGFkZG9jay5JU0MuQ09NPg</td>\n",
       "      <td>Science Fiction EYE</td>\n",
       "      <td>1988</td>\n",
       "      <td>0.373347</td>\n",
       "    </tr>\n",
       "    <tr>\n",
       "      <th>1</th>\n",
       "      <td>1</td>\n",
       "      <td>court final order decree united state district...</td>\n",
       "      <td>742521600000</td>\n",
       "      <td>[]</td>\n",
       "      <td>166b50d0-432c-43b2-a180-f5daf1b95d43</td>\n",
       "      <td>0</td>\n",
       "      <td>PDkzMDcxMzA2MjMuQUEwMTI4OEBwcmltdXMuY29tPg</td>\n",
       "      <td>TLU&amp;TN2 #10: The Court's Final Judgment, Order...</td>\n",
       "      <td>1993</td>\n",
       "      <td>0.095362</td>\n",
       "    </tr>\n",
       "    <tr>\n",
       "      <th>2</th>\n",
       "      <td>2</td>\n",
       "      <td>globe mail march without permission kiss chapp...</td>\n",
       "      <td>576806400000</td>\n",
       "      <td>[]</td>\n",
       "      <td>e44431c8-c337-4601-ba99-ecbc38dbb1c5</td>\n",
       "      <td>0</td>\n",
       "      <td>PDM5ODRAd2F0Y2dsLndhdGVybG9vLmVkdT4</td>\n",
       "      <td>Cyberpunk approaches reality</td>\n",
       "      <td>1988</td>\n",
       "      <td>0.200000</td>\n",
       "    </tr>\n",
       "    <tr>\n",
       "      <th>3</th>\n",
       "      <td>3</td>\n",
       "      <td>awhile back posted article speculation like re...</td>\n",
       "      <td>564019200000</td>\n",
       "      <td>[]</td>\n",
       "      <td>9cd86c17-11ad-40b9-aef5-4d11e1985adf</td>\n",
       "      <td>0</td>\n",
       "      <td>PDE3MDdAaGFkZG9jay5JU0MuQ09NPg</td>\n",
       "      <td>Future Police -- thanks!</td>\n",
       "      <td>1987</td>\n",
       "      <td>0.158824</td>\n",
       "    </tr>\n",
       "    <tr>\n",
       "      <th>4</th>\n",
       "      <td>4</td>\n",
       "      <td>hate bother completely anybody many time trans...</td>\n",
       "      <td>577065600000</td>\n",
       "      <td>[]</td>\n",
       "      <td>953a59b6-ac8f-47d5-aa00-80423bf4bd9c</td>\n",
       "      <td>0</td>\n",
       "      <td>PDM5NDU1Q09LQFBTVVZNQT4</td>\n",
       "      <td>This group</td>\n",
       "      <td>1988</td>\n",
       "      <td>-0.122917</td>\n",
       "    </tr>\n",
       "  </tbody>\n",
       "</table>\n",
       "</div>"
      ],
      "text/plain": [
       "   Unnamed: 0                                            content  \\\n",
       "0           0  news flash back issue special premiere science...   \n",
       "1           1  court final order decree united state district...   \n",
       "2           2  globe mail march without permission kiss chapp...   \n",
       "3           3  awhile back posted article speculation like re...   \n",
       "4           4  hate bother completely anybody many time trans...   \n",
       "\n",
       "      date_post comment                                idPost replyTo  \\\n",
       "0  572054400000      []  bba8a573-1471-460a-8b73-f904d6219eaf       0   \n",
       "1  742521600000      []  166b50d0-432c-43b2-a180-f5daf1b95d43       0   \n",
       "2  576806400000      []  e44431c8-c337-4601-ba99-ecbc38dbb1c5       0   \n",
       "3  564019200000      []  9cd86c17-11ad-40b9-aef5-4d11e1985adf       0   \n",
       "4  577065600000      []  953a59b6-ac8f-47d5-aa00-80423bf4bd9c       0   \n",
       "\n",
       "                                      idTopic  \\\n",
       "0              PDI2MDdAaGFkZG9jay5JU0MuQ09NPg   \n",
       "1  PDkzMDcxMzA2MjMuQUEwMTI4OEBwcmltdXMuY29tPg   \n",
       "2         PDM5ODRAd2F0Y2dsLndhdGVybG9vLmVkdT4   \n",
       "3              PDE3MDdAaGFkZG9jay5JU0MuQ09NPg   \n",
       "4                     PDM5NDU1Q09LQFBTVVZNQT4   \n",
       "\n",
       "                                          titleTopic  Year  sentiment  \n",
       "0                                Science Fiction EYE  1988   0.373347  \n",
       "1  TLU&TN2 #10: The Court's Final Judgment, Order...  1993   0.095362  \n",
       "2                       Cyberpunk approaches reality  1988   0.200000  \n",
       "3                           Future Police -- thanks!  1987   0.158824  \n",
       "4                                         This group  1988  -0.122917  "
      ]
     },
     "execution_count": 3,
     "metadata": {},
     "output_type": "execute_result"
    }
   ],
   "source": [
    "forum1.head(5)"
   ]
  },
  {
   "cell_type": "code",
   "execution_count": 4,
   "id": "78fa530f",
   "metadata": {},
   "outputs": [
    {
     "data": {
      "text/html": [
       "<div>\n",
       "<style scoped>\n",
       "    .dataframe tbody tr th:only-of-type {\n",
       "        vertical-align: middle;\n",
       "    }\n",
       "\n",
       "    .dataframe tbody tr th {\n",
       "        vertical-align: top;\n",
       "    }\n",
       "\n",
       "    .dataframe thead th {\n",
       "        text-align: right;\n",
       "    }\n",
       "</style>\n",
       "<table border=\"1\" class=\"dataframe\">\n",
       "  <thead>\n",
       "    <tr style=\"text-align: right;\">\n",
       "      <th></th>\n",
       "      <th>Unnamed: 0</th>\n",
       "      <th>title</th>\n",
       "      <th>date</th>\n",
       "      <th>text</th>\n",
       "      <th>Comment</th>\n",
       "      <th>vote</th>\n",
       "      <th>image</th>\n",
       "      <th>Year</th>\n",
       "      <th>sentiment</th>\n",
       "    </tr>\n",
       "  </thead>\n",
       "  <tbody>\n",
       "    <tr>\n",
       "      <th>0</th>\n",
       "      <td>0</td>\n",
       "      <td>HK : wearable face projector to avoid face rec...</td>\n",
       "      <td>2020-03-01</td>\n",
       "      <td>[]</td>\n",
       "      <td>thats cool blinded wearing said eye pull yep a...</td>\n",
       "      <td>54500</td>\n",
       "      <td>NaN</td>\n",
       "      <td>2020</td>\n",
       "      <td>0.036216</td>\n",
       "    </tr>\n",
       "    <tr>\n",
       "      <th>1</th>\n",
       "      <td>1</td>\n",
       "      <td>Akira Gif</td>\n",
       "      <td>2018-03-02</td>\n",
       "      <td>[]</td>\n",
       "      <td>first thing thought hey look actual top thats ...</td>\n",
       "      <td>10000</td>\n",
       "      <td>https://i.imgur.com/enfw4eu.gif</td>\n",
       "      <td>2018</td>\n",
       "      <td>0.212592</td>\n",
       "    </tr>\n",
       "    <tr>\n",
       "      <th>2</th>\n",
       "      <td>2</td>\n",
       "      <td>Tron rollercoaster Shanghai Disneyland giving ...</td>\n",
       "      <td>2018-03-02</td>\n",
       "      <td>[]</td>\n",
       "      <td>tron legacy rated film story might bit pull pu...</td>\n",
       "      <td>7700</td>\n",
       "      <td>https://i.redd.it/yxomyotbcvd11.jpg</td>\n",
       "      <td>2018</td>\n",
       "      <td>0.065008</td>\n",
       "    </tr>\n",
       "    <tr>\n",
       "      <th>3</th>\n",
       "      <td>3</td>\n",
       "      <td>NeoTokyo 2175 A.D.</td>\n",
       "      <td>2018-03-02</td>\n",
       "      <td>[]</td>\n",
       "      <td>art go actually buy print site dont see drunk ...</td>\n",
       "      <td>7800</td>\n",
       "      <td>https://i.redd.it/kkbznotq2t011.jpg</td>\n",
       "      <td>2018</td>\n",
       "      <td>0.047725</td>\n",
       "    </tr>\n",
       "    <tr>\n",
       "      <th>4</th>\n",
       "      <td>4</td>\n",
       "      <td>My custom laptop is mildly cyberpunk.</td>\n",
       "      <td>2017-03-02</td>\n",
       "      <td>[]</td>\n",
       "      <td>get really cool raspberry pi display anker bat...</td>\n",
       "      <td>7800</td>\n",
       "      <td>https://i.imgur.com/z9PTmIl.jpg</td>\n",
       "      <td>2017</td>\n",
       "      <td>0.162013</td>\n",
       "    </tr>\n",
       "  </tbody>\n",
       "</table>\n",
       "</div>"
      ],
      "text/plain": [
       "   Unnamed: 0                                              title        date  \\\n",
       "0           0  HK : wearable face projector to avoid face rec...  2020-03-01   \n",
       "1           1                                          Akira Gif  2018-03-02   \n",
       "2           2  Tron rollercoaster Shanghai Disneyland giving ...  2018-03-02   \n",
       "3           3                                 NeoTokyo 2175 A.D.  2018-03-02   \n",
       "4           4              My custom laptop is mildly cyberpunk.  2017-03-02   \n",
       "\n",
       "  text                                            Comment   vote  \\\n",
       "0   []  thats cool blinded wearing said eye pull yep a...  54500   \n",
       "1   []  first thing thought hey look actual top thats ...  10000   \n",
       "2   []  tron legacy rated film story might bit pull pu...   7700   \n",
       "3   []  art go actually buy print site dont see drunk ...   7800   \n",
       "4   []  get really cool raspberry pi display anker bat...   7800   \n",
       "\n",
       "                                 image  Year  sentiment  \n",
       "0                                  NaN  2020   0.036216  \n",
       "1      https://i.imgur.com/enfw4eu.gif  2018   0.212592  \n",
       "2  https://i.redd.it/yxomyotbcvd11.jpg  2018   0.065008  \n",
       "3  https://i.redd.it/kkbznotq2t011.jpg  2018   0.047725  \n",
       "4      https://i.imgur.com/z9PTmIl.jpg  2017   0.162013  "
      ]
     },
     "execution_count": 4,
     "metadata": {},
     "output_type": "execute_result"
    }
   ],
   "source": [
    "forum2.head(5)"
   ]
  },
  {
   "cell_type": "code",
   "execution_count": 5,
   "id": "dc0b198b",
   "metadata": {},
   "outputs": [
    {
     "data": {
      "text/html": [
       "<div>\n",
       "<style scoped>\n",
       "    .dataframe tbody tr th:only-of-type {\n",
       "        vertical-align: middle;\n",
       "    }\n",
       "\n",
       "    .dataframe tbody tr th {\n",
       "        vertical-align: top;\n",
       "    }\n",
       "\n",
       "    .dataframe thead th {\n",
       "        text-align: right;\n",
       "    }\n",
       "</style>\n",
       "<table border=\"1\" class=\"dataframe\">\n",
       "  <thead>\n",
       "    <tr style=\"text-align: right;\">\n",
       "      <th></th>\n",
       "      <th>Unnamed: 0</th>\n",
       "      <th>postId</th>\n",
       "      <th>postNb</th>\n",
       "      <th>postDate</th>\n",
       "      <th>content</th>\n",
       "      <th>blockquote</th>\n",
       "      <th>img</th>\n",
       "      <th>links</th>\n",
       "      <th>categorie</th>\n",
       "      <th>topic</th>\n",
       "      <th>Year</th>\n",
       "      <th>sentiment</th>\n",
       "    </tr>\n",
       "  </thead>\n",
       "  <tbody>\n",
       "    <tr>\n",
       "      <th>0</th>\n",
       "      <td>0</td>\n",
       "      <td>p60291</td>\n",
       "      <td>1</td>\n",
       "      <td>1640736000000</td>\n",
       "      <td>scientist convinced dish brain cell theyre pad...</td>\n",
       "      <td>[]</td>\n",
       "      <td>[]</td>\n",
       "      <td>['https://ftw.usatoday.com/2021/12/scient']</td>\n",
       "      <td>Subversion</td>\n",
       "      <td>Human brain cells in a dish are playing pong</td>\n",
       "      <td>2021</td>\n",
       "      <td>-0.091667</td>\n",
       "    </tr>\n",
       "    <tr>\n",
       "      <th>1</th>\n",
       "      <td>1</td>\n",
       "      <td>p60298</td>\n",
       "      <td>2</td>\n",
       "      <td>1640995200000</td>\n",
       "      <td>thing seem kind slow cool kind slow however im...</td>\n",
       "      <td>[]</td>\n",
       "      <td>['https://cyberpunkforums.com/img/smilies/lol....</td>\n",
       "      <td>[]</td>\n",
       "      <td>Subversion</td>\n",
       "      <td>Human brain cells in a dish are playing pong</td>\n",
       "      <td>2022</td>\n",
       "      <td>0.144792</td>\n",
       "    </tr>\n",
       "    <tr>\n",
       "      <th>2</th>\n",
       "      <td>2</td>\n",
       "      <td>p60300</td>\n",
       "      <td>3</td>\n",
       "      <td>1640995200000</td>\n",
       "      <td>least learning curve ai little boy</td>\n",
       "      <td>[]</td>\n",
       "      <td>[]</td>\n",
       "      <td>[]</td>\n",
       "      <td>Subversion</td>\n",
       "      <td>Human brain cells in a dish are playing pong</td>\n",
       "      <td>2022</td>\n",
       "      <td>-0.243750</td>\n",
       "    </tr>\n",
       "    <tr>\n",
       "      <th>3</th>\n",
       "      <td>3</td>\n",
       "      <td>p60370</td>\n",
       "      <td>4</td>\n",
       "      <td>1642636800000</td>\n",
       "      <td>cant wait brain chopped turned organic latest</td>\n",
       "      <td>[]</td>\n",
       "      <td>[]</td>\n",
       "      <td>[]</td>\n",
       "      <td>Subversion</td>\n",
       "      <td>Human brain cells in a dish are playing pong</td>\n",
       "      <td>2022</td>\n",
       "      <td>0.500000</td>\n",
       "    </tr>\n",
       "    <tr>\n",
       "      <th>4</th>\n",
       "      <td>4</td>\n",
       "      <td>p60378</td>\n",
       "      <td>5</td>\n",
       "      <td>1642723200000</td>\n",
       "      <td>welcome welcome</td>\n",
       "      <td>[\"Can't wait for my brain to be chopped up and...</td>\n",
       "      <td>[]</td>\n",
       "      <td>[]</td>\n",
       "      <td>Subversion</td>\n",
       "      <td>Human brain cells in a dish are playing pong</td>\n",
       "      <td>2022</td>\n",
       "      <td>0.800000</td>\n",
       "    </tr>\n",
       "  </tbody>\n",
       "</table>\n",
       "</div>"
      ],
      "text/plain": [
       "   Unnamed: 0  postId  postNb       postDate  \\\n",
       "0           0  p60291       1  1640736000000   \n",
       "1           1  p60298       2  1640995200000   \n",
       "2           2  p60300       3  1640995200000   \n",
       "3           3  p60370       4  1642636800000   \n",
       "4           4  p60378       5  1642723200000   \n",
       "\n",
       "                                             content  \\\n",
       "0  scientist convinced dish brain cell theyre pad...   \n",
       "1  thing seem kind slow cool kind slow however im...   \n",
       "2                 least learning curve ai little boy   \n",
       "3      cant wait brain chopped turned organic latest   \n",
       "4                                    welcome welcome   \n",
       "\n",
       "                                          blockquote  \\\n",
       "0                                                 []   \n",
       "1                                                 []   \n",
       "2                                                 []   \n",
       "3                                                 []   \n",
       "4  [\"Can't wait for my brain to be chopped up and...   \n",
       "\n",
       "                                                 img  \\\n",
       "0                                                 []   \n",
       "1  ['https://cyberpunkforums.com/img/smilies/lol....   \n",
       "2                                                 []   \n",
       "3                                                 []   \n",
       "4                                                 []   \n",
       "\n",
       "                                         links   categorie  \\\n",
       "0  ['https://ftw.usatoday.com/2021/12/scient']  Subversion   \n",
       "1                                           []  Subversion   \n",
       "2                                           []  Subversion   \n",
       "3                                           []  Subversion   \n",
       "4                                           []  Subversion   \n",
       "\n",
       "                                          topic  Year  sentiment  \n",
       "0  Human brain cells in a dish are playing pong  2021  -0.091667  \n",
       "1  Human brain cells in a dish are playing pong  2022   0.144792  \n",
       "2  Human brain cells in a dish are playing pong  2022  -0.243750  \n",
       "3  Human brain cells in a dish are playing pong  2022   0.500000  \n",
       "4  Human brain cells in a dish are playing pong  2022   0.800000  "
      ]
     },
     "execution_count": 5,
     "metadata": {},
     "output_type": "execute_result"
    }
   ],
   "source": [
    "forum3.head(5)"
   ]
  },
  {
   "cell_type": "code",
   "execution_count": 6,
   "id": "b5371e78",
   "metadata": {},
   "outputs": [
    {
     "data": {
      "text/html": [
       "<div>\n",
       "<style scoped>\n",
       "    .dataframe tbody tr th:only-of-type {\n",
       "        vertical-align: middle;\n",
       "    }\n",
       "\n",
       "    .dataframe tbody tr th {\n",
       "        vertical-align: top;\n",
       "    }\n",
       "\n",
       "    .dataframe thead th {\n",
       "        text-align: right;\n",
       "    }\n",
       "</style>\n",
       "<table border=\"1\" class=\"dataframe\">\n",
       "  <thead>\n",
       "    <tr style=\"text-align: right;\">\n",
       "      <th></th>\n",
       "      <th>Unnamed: 0</th>\n",
       "      <th>username</th>\n",
       "      <th>date</th>\n",
       "      <th>title</th>\n",
       "      <th>replies</th>\n",
       "      <th>views</th>\n",
       "      <th>text</th>\n",
       "      <th>Year</th>\n",
       "      <th>sentiment</th>\n",
       "    </tr>\n",
       "  </thead>\n",
       "  <tbody>\n",
       "    <tr>\n",
       "      <th>0</th>\n",
       "      <td>0</td>\n",
       "      <td>nposecznick</td>\n",
       "      <td>2016-01-15</td>\n",
       "      <td>Novels with Shadowrun-like setting?</td>\n",
       "      <td>0</td>\n",
       "      <td>74</td>\n",
       "      <td>wondering could recommend good book similar se...</td>\n",
       "      <td>2016</td>\n",
       "      <td>0.237500</td>\n",
       "    </tr>\n",
       "    <tr>\n",
       "      <th>1</th>\n",
       "      <td>1</td>\n",
       "      <td>SFFWorld</td>\n",
       "      <td>2021-10-12</td>\n",
       "      <td>New post - A SPINDLE SPLINTERED by Alix E. Har...</td>\n",
       "      <td>6</td>\n",
       "      <td>248</td>\n",
       "      <td>harrow writer whose work shown power story ’ r...</td>\n",
       "      <td>2021</td>\n",
       "      <td>0.050000</td>\n",
       "    </tr>\n",
       "    <tr>\n",
       "      <th>2</th>\n",
       "      <td>2</td>\n",
       "      <td>KatG</td>\n",
       "      <td>2021-01-28</td>\n",
       "      <td>Authors We've Lost -- Storm Constantine and An...</td>\n",
       "      <td>6</td>\n",
       "      <td>359</td>\n",
       "      <td>meant get something let people fantasy author ...</td>\n",
       "      <td>2021</td>\n",
       "      <td>0.140000</td>\n",
       "    </tr>\n",
       "    <tr>\n",
       "      <th>3</th>\n",
       "      <td>3</td>\n",
       "      <td>SFFWorld</td>\n",
       "      <td>2020-11-03</td>\n",
       "      <td>New post - THE ONCE AND FUTURE WITCHES by Alix...</td>\n",
       "      <td>3</td>\n",
       "      <td>274</td>\n",
       "      <td>sisterhood woman ’ right witch harrow ’ second...</td>\n",
       "      <td>2020</td>\n",
       "      <td>0.087143</td>\n",
       "    </tr>\n",
       "    <tr>\n",
       "      <th>4</th>\n",
       "      <td>4</td>\n",
       "      <td>Sfinx</td>\n",
       "      <td>2020-07-23</td>\n",
       "      <td>Tips for summer holiday reading?</td>\n",
       "      <td>14</td>\n",
       "      <td>746</td>\n",
       "      <td>hey leaving soon couple week sun sea plenty ti...</td>\n",
       "      <td>2020</td>\n",
       "      <td>-0.250000</td>\n",
       "    </tr>\n",
       "  </tbody>\n",
       "</table>\n",
       "</div>"
      ],
      "text/plain": [
       "   Unnamed: 0     username        date  \\\n",
       "0           0  nposecznick  2016-01-15   \n",
       "1           1     SFFWorld  2021-10-12   \n",
       "2           2         KatG  2021-01-28   \n",
       "3           3     SFFWorld  2020-11-03   \n",
       "4           4        Sfinx  2020-07-23   \n",
       "\n",
       "                                               title  replies  views  \\\n",
       "0                Novels with Shadowrun-like setting?        0     74   \n",
       "1  New post - A SPINDLE SPLINTERED by Alix E. Har...        6    248   \n",
       "2  Authors We've Lost -- Storm Constantine and An...        6    359   \n",
       "3  New post - THE ONCE AND FUTURE WITCHES by Alix...        3    274   \n",
       "4                   Tips for summer holiday reading?       14    746   \n",
       "\n",
       "                                                text  Year  sentiment  \n",
       "0  wondering could recommend good book similar se...  2016   0.237500  \n",
       "1  harrow writer whose work shown power story ’ r...  2021   0.050000  \n",
       "2  meant get something let people fantasy author ...  2021   0.140000  \n",
       "3  sisterhood woman ’ right witch harrow ’ second...  2020   0.087143  \n",
       "4  hey leaving soon couple week sun sea plenty ti...  2020  -0.250000  "
      ]
     },
     "execution_count": 6,
     "metadata": {},
     "output_type": "execute_result"
    }
   ],
   "source": [
    "forum4.head(5)"
   ]
  },
  {
   "cell_type": "code",
   "execution_count": 7,
   "id": "0728a6f9",
   "metadata": {},
   "outputs": [
    {
     "name": "stderr",
     "output_type": "stream",
     "text": [
      "<ipython-input-7-1ea9fcad22f5>:2: SettingWithCopyWarning: \n",
      "A value is trying to be set on a copy of a slice from a DataFrame.\n",
      "Try using .loc[row_indexer,col_indexer] = value instead\n",
      "\n",
      "See the caveats in the documentation: https://pandas.pydata.org/pandas-docs/stable/user_guide/indexing.html#returning-a-view-versus-a-copy\n",
      "  df1['forum']=\"usenet\"\n"
     ]
    }
   ],
   "source": [
    "df1 = forum1[['sentiment','Year']]\n",
    "df1['forum']=\"usenet\""
   ]
  },
  {
   "cell_type": "code",
   "execution_count": 8,
   "id": "3a7d31b8",
   "metadata": {},
   "outputs": [
    {
     "name": "stderr",
     "output_type": "stream",
     "text": [
      "<ipython-input-8-a2f6ccc9628f>:2: SettingWithCopyWarning: \n",
      "A value is trying to be set on a copy of a slice from a DataFrame.\n",
      "Try using .loc[row_indexer,col_indexer] = value instead\n",
      "\n",
      "See the caveats in the documentation: https://pandas.pydata.org/pandas-docs/stable/user_guide/indexing.html#returning-a-view-versus-a-copy\n",
      "  df2['forum']=\"reddit\"\n"
     ]
    }
   ],
   "source": [
    "df2 = forum2[['sentiment','Year']]\n",
    "df2['forum']=\"reddit\""
   ]
  },
  {
   "cell_type": "code",
   "execution_count": 9,
   "id": "a4cdf32f",
   "metadata": {},
   "outputs": [
    {
     "name": "stderr",
     "output_type": "stream",
     "text": [
      "<ipython-input-9-f0f8c1724618>:2: SettingWithCopyWarning: \n",
      "A value is trying to be set on a copy of a slice from a DataFrame.\n",
      "Try using .loc[row_indexer,col_indexer] = value instead\n",
      "\n",
      "See the caveats in the documentation: https://pandas.pydata.org/pandas-docs/stable/user_guide/indexing.html#returning-a-view-versus-a-copy\n",
      "  df3['forum']=\"cyberpunkforums\"\n"
     ]
    }
   ],
   "source": [
    "df3 = forum3[['sentiment','Year']]\n",
    "df3['forum']=\"cyberpunkforums\""
   ]
  },
  {
   "cell_type": "code",
   "execution_count": 10,
   "id": "b9d18d79",
   "metadata": {},
   "outputs": [
    {
     "name": "stderr",
     "output_type": "stream",
     "text": [
      "<ipython-input-10-5350caebf088>:2: SettingWithCopyWarning: \n",
      "A value is trying to be set on a copy of a slice from a DataFrame.\n",
      "Try using .loc[row_indexer,col_indexer] = value instead\n",
      "\n",
      "See the caveats in the documentation: https://pandas.pydata.org/pandas-docs/stable/user_guide/indexing.html#returning-a-view-versus-a-copy\n",
      "  df4['forum']=\"sffworld\"\n"
     ]
    }
   ],
   "source": [
    "df4 = forum4[['sentiment','Year']]\n",
    "df4['forum']=\"sffworld\""
   ]
  },
  {
   "cell_type": "code",
   "execution_count": 11,
   "id": "68fe5e08",
   "metadata": {},
   "outputs": [],
   "source": [
    "count= df1.shape[0]+df2.shape[0]+df3.shape[0]+df4.shape[0]"
   ]
  },
  {
   "cell_type": "code",
   "execution_count": 12,
   "id": "25adcf7e",
   "metadata": {},
   "outputs": [
    {
     "data": {
      "text/plain": [
       "55969"
      ]
     },
     "execution_count": 12,
     "metadata": {},
     "output_type": "execute_result"
    }
   ],
   "source": [
    "count"
   ]
  },
  {
   "cell_type": "code",
   "execution_count": 13,
   "id": "f50e61db",
   "metadata": {},
   "outputs": [],
   "source": [
    "frame =[df1,df2,df3,df4]"
   ]
  },
  {
   "cell_type": "code",
   "execution_count": 40,
   "id": "eb1647bf",
   "metadata": {},
   "outputs": [
    {
     "data": {
      "text/html": [
       "<div>\n",
       "<style scoped>\n",
       "    .dataframe tbody tr th:only-of-type {\n",
       "        vertical-align: middle;\n",
       "    }\n",
       "\n",
       "    .dataframe tbody tr th {\n",
       "        vertical-align: top;\n",
       "    }\n",
       "\n",
       "    .dataframe thead th {\n",
       "        text-align: right;\n",
       "    }\n",
       "</style>\n",
       "<table border=\"1\" class=\"dataframe\">\n",
       "  <thead>\n",
       "    <tr style=\"text-align: right;\">\n",
       "      <th></th>\n",
       "      <th>sentiment</th>\n",
       "      <th>Year</th>\n",
       "      <th>forum</th>\n",
       "    </tr>\n",
       "  </thead>\n",
       "  <tbody>\n",
       "    <tr>\n",
       "      <th>0</th>\n",
       "      <td>0.373347</td>\n",
       "      <td>1988</td>\n",
       "      <td>usenet</td>\n",
       "    </tr>\n",
       "    <tr>\n",
       "      <th>1</th>\n",
       "      <td>0.095362</td>\n",
       "      <td>1993</td>\n",
       "      <td>usenet</td>\n",
       "    </tr>\n",
       "    <tr>\n",
       "      <th>2</th>\n",
       "      <td>0.200000</td>\n",
       "      <td>1988</td>\n",
       "      <td>usenet</td>\n",
       "    </tr>\n",
       "    <tr>\n",
       "      <th>3</th>\n",
       "      <td>0.158824</td>\n",
       "      <td>1987</td>\n",
       "      <td>usenet</td>\n",
       "    </tr>\n",
       "    <tr>\n",
       "      <th>4</th>\n",
       "      <td>-0.122917</td>\n",
       "      <td>1988</td>\n",
       "      <td>usenet</td>\n",
       "    </tr>\n",
       "    <tr>\n",
       "      <th>...</th>\n",
       "      <td>...</td>\n",
       "      <td>...</td>\n",
       "      <td>...</td>\n",
       "    </tr>\n",
       "    <tr>\n",
       "      <th>341</th>\n",
       "      <td>0.000000</td>\n",
       "      <td>2001</td>\n",
       "      <td>sffworld</td>\n",
       "    </tr>\n",
       "    <tr>\n",
       "      <th>342</th>\n",
       "      <td>0.160000</td>\n",
       "      <td>2000</td>\n",
       "      <td>sffworld</td>\n",
       "    </tr>\n",
       "    <tr>\n",
       "      <th>343</th>\n",
       "      <td>0.430000</td>\n",
       "      <td>2000</td>\n",
       "      <td>sffworld</td>\n",
       "    </tr>\n",
       "    <tr>\n",
       "      <th>344</th>\n",
       "      <td>0.160000</td>\n",
       "      <td>2018</td>\n",
       "      <td>sffworld</td>\n",
       "    </tr>\n",
       "    <tr>\n",
       "      <th>345</th>\n",
       "      <td>0.094643</td>\n",
       "      <td>2010</td>\n",
       "      <td>sffworld</td>\n",
       "    </tr>\n",
       "  </tbody>\n",
       "</table>\n",
       "<p>55969 rows × 3 columns</p>\n",
       "</div>"
      ],
      "text/plain": [
       "     sentiment  Year     forum\n",
       "0     0.373347  1988    usenet\n",
       "1     0.095362  1993    usenet\n",
       "2     0.200000  1988    usenet\n",
       "3     0.158824  1987    usenet\n",
       "4    -0.122917  1988    usenet\n",
       "..         ...   ...       ...\n",
       "341   0.000000  2001  sffworld\n",
       "342   0.160000  2000  sffworld\n",
       "343   0.430000  2000  sffworld\n",
       "344   0.160000  2018  sffworld\n",
       "345   0.094643  2010  sffworld\n",
       "\n",
       "[55969 rows x 3 columns]"
      ]
     },
     "execution_count": 40,
     "metadata": {},
     "output_type": "execute_result"
    }
   ],
   "source": [
    "data"
   ]
  },
  {
   "cell_type": "code",
   "execution_count": 15,
   "id": "ae2eb1bc",
   "metadata": {},
   "outputs": [],
   "source": [
    "data= pd.concat(frame)"
   ]
  },
  {
   "cell_type": "code",
   "execution_count": 16,
   "id": "e505989f",
   "metadata": {},
   "outputs": [],
   "source": [
    "mean_sent = data.groupby(by=[\"Year\"]).mean()[\"sentiment\"]"
   ]
  },
  {
   "cell_type": "code",
   "execution_count": 17,
   "id": "3c1fb58c",
   "metadata": {},
   "outputs": [
    {
     "data": {
      "text/plain": [
       "Year\n",
       "1987    0.064515\n",
       "1988    0.118396\n",
       "1989    0.096505\n",
       "1990    0.061470\n",
       "1991    0.120692\n",
       "1992    0.092107\n",
       "1993    0.086921\n",
       "1994    0.118243\n",
       "1995    0.068419\n",
       "1996    0.061771\n",
       "1997    0.079108\n",
       "1998    0.114915\n",
       "1999    0.039821\n",
       "2000    0.070791\n",
       "2001    0.159203\n",
       "2002    0.091205\n",
       "2003    0.136948\n",
       "2004    0.109485\n",
       "2005    0.178699\n",
       "2006    0.139751\n",
       "2007    0.149470\n",
       "2008    0.153268\n",
       "2009    0.164883\n",
       "2010    0.121158\n",
       "2011    0.094292\n",
       "2012    0.101307\n",
       "2013    0.102997\n",
       "2014    0.099905\n",
       "2015    0.093654\n",
       "2016    0.111579\n",
       "2017    0.098868\n",
       "2018    0.083790\n",
       "2019    0.078186\n",
       "2020    0.107837\n",
       "2021    0.099132\n",
       "2022    0.108825\n",
       "Name: sentiment, dtype: float64"
      ]
     },
     "execution_count": 17,
     "metadata": {},
     "output_type": "execute_result"
    }
   ],
   "source": [
    "mean_sent"
   ]
  },
  {
   "cell_type": "code",
   "execution_count": 18,
   "id": "48766e74",
   "metadata": {},
   "outputs": [],
   "source": [
    "count = data.groupby('Year').transform('count')"
   ]
  },
  {
   "cell_type": "code",
   "execution_count": 64,
   "id": "ced7450e",
   "metadata": {},
   "outputs": [
    {
     "data": {
      "text/plain": [
       "[<matplotlib.lines.Line2D at 0x1c67011e5e0>]"
      ]
     },
     "execution_count": 64,
     "metadata": {},
     "output_type": "execute_result"
    },
    {
     "data": {
      "image/png": "[encoded data removed]",
      "text/plain": [
       "<Figure size 432x288 with 1 Axes>"
      ]
     },
     "metadata": {
      "needs_background": "light"
     },
     "output_type": "display_data"
    }
   ],
   "source": [
    "data1 = data.loc[data['forum']!='sffworld']\n",
    "data10 = data.loc[data['forum']=='sffworld']\n",
    "\n",
    "test1 = data1.groupby('Year').mean()\n",
    "test10 = data10.groupby('Year').mean()\n",
    "\n",
    "test1 = pd.DataFrame(test1)\n",
    "\n",
    "plt.plot(test1,'bo-',label='type2')\n",
    "plt.plot(test10,'r+-',label='type1')"
   ]
  },
  {
   "cell_type": "code",
   "execution_count": 23,
   "id": "1bfa62fc",
   "metadata": {},
   "outputs": [],
   "source": [
    "data2 = data.loc[data['forum']!='reddit']\n",
    "data20 = data.loc[data['forum']=='reddit']\n",
    "\n",
    "test2 = data2.groupby('Year').mean()\n",
    "test20 = data20.groupby('Year').mean()\n",
    "\n",
    "plt.plot(test2,'bo-',label='type2')\n",
    "plt.plot(test20,'r+-',label='type2')"
   ]
  },
  {
   "cell_type": "code",
   "execution_count": 26,
   "id": "57503c89",
   "metadata": {},
   "outputs": [],
   "source": [
    "data3 = data.loc[data['forum']!='usenet']\n",
    "data30 = data.loc[data['forum']=='usenet']\n",
    "\n",
    "test3 = data3.groupby('Year').mean()\n",
    "test30 = data30.groupby('Year').mean()\n",
    "\n",
    "plt.plot(test3,'bo-',label='type2')\n",
    "plt.plot(test30,'r+-',label='type2')"
   ]
  },
  {
   "cell_type": "code",
   "execution_count": 29,
   "id": "e95de3a3",
   "metadata": {},
   "outputs": [],
   "source": [
    "data4 = data.loc[data['forum']!='cyberpunkforums']\n",
    "data40 = data.loc[data['forum']=='cyberpunkforums']\n",
    "\n",
    "test4 = data4.groupby('Year').mean()\n",
    "test40 = data40.groupby('Year').mean()\n",
    "\n",
    "plt.plot(test4,'bo-',label='type2')\n",
    "plt.plot(test40,'r+-',label='type2')"
   ]
  },
  {
   "cell_type": "code",
   "execution_count": 32,
   "id": "19b31060",
   "metadata": {},
   "outputs": [
    {
     "data": {
      "text/plain": [
       "(55969, 2)"
      ]
     },
     "execution_count": 32,
     "metadata": {},
     "output_type": "execute_result"
    }
   ],
   "source": [
    "count.shape"
   ]
  },
  {
   "cell_type": "code",
   "execution_count": 33,
   "id": "c8f6b551",
   "metadata": {},
   "outputs": [],
   "source": [
    "result = test10.append(test20)\n",
    "\n",
    "result = result.append(test30)\n",
    "result = result.append(test40)\n",
    "\n",
    "test = result.groupby(['Year']).mean()"
   ]
  },
  {
   "cell_type": "code",
   "execution_count": 36,
   "id": "767f28fd",
   "metadata": {},
   "outputs": [],
   "source": [
    "years = np.arange(1987,2023,1)"
   ]
  },
  {
   "cell_type": "code",
   "execution_count": 37,
   "id": "b281df28",
   "metadata": {},
   "outputs": [
    {
     "data": {
      "text/plain": [
       "[<matplotlib.lines.Line2D at 0x1c66fd26400>]"
      ]
     },
     "execution_count": 37,
     "metadata": {},
     "output_type": "execute_result"
    },
    {
     "data": {
      "image/png": "[encoded data removed]",
      "text/plain": [
       "<Figure size 432x288 with 1 Axes>"
      ]
     },
     "metadata": {
      "needs_background": "light"
     },
     "output_type": "display_data"
    }
   ],
   "source": [
    "plt.plot(test,'r+-',label='type2')\n",
    "plt.plot(years,mean_sent,'bo-',label='type2')"
   ]
  },
  {
   "cell_type": "code",
   "execution_count": null,
   "id": "eb6ae321",
   "metadata": {},
   "outputs": [],
   "source": []
  },
  {
   "cell_type": "markdown",
   "id": "3f8a17e6",
   "metadata": {},
   "source": [
    " ## Filter all comments that do not carry emotion"
   ]
  },
  {
   "cell_type": "code",
   "execution_count": 62,
   "id": "740c7fc9",
   "metadata": {},
   "outputs": [],
   "source": [
    "filterdata= data[np.absolute(data['sentiment'])>0.01]"
   ]
  },
  {
   "cell_type": "code",
   "execution_count": 63,
   "id": "00e4fbf8",
   "metadata": {},
   "outputs": [
    {
     "data": {
      "text/html": [
       "<div>\n",
       "<style scoped>\n",
       "    .dataframe tbody tr th:only-of-type {\n",
       "        vertical-align: middle;\n",
       "    }\n",
       "\n",
       "    .dataframe tbody tr th {\n",
       "        vertical-align: top;\n",
       "    }\n",
       "\n",
       "    .dataframe thead th {\n",
       "        text-align: right;\n",
       "    }\n",
       "</style>\n",
       "<table border=\"1\" class=\"dataframe\">\n",
       "  <thead>\n",
       "    <tr style=\"text-align: right;\">\n",
       "      <th></th>\n",
       "      <th>sentiment</th>\n",
       "      <th>Year</th>\n",
       "      <th>forum</th>\n",
       "    </tr>\n",
       "  </thead>\n",
       "  <tbody>\n",
       "    <tr>\n",
       "      <th>0</th>\n",
       "      <td>0.373347</td>\n",
       "      <td>1988</td>\n",
       "      <td>usenet</td>\n",
       "    </tr>\n",
       "    <tr>\n",
       "      <th>1</th>\n",
       "      <td>0.095362</td>\n",
       "      <td>1993</td>\n",
       "      <td>usenet</td>\n",
       "    </tr>\n",
       "    <tr>\n",
       "      <th>2</th>\n",
       "      <td>0.200000</td>\n",
       "      <td>1988</td>\n",
       "      <td>usenet</td>\n",
       "    </tr>\n",
       "    <tr>\n",
       "      <th>3</th>\n",
       "      <td>0.158824</td>\n",
       "      <td>1987</td>\n",
       "      <td>usenet</td>\n",
       "    </tr>\n",
       "    <tr>\n",
       "      <th>4</th>\n",
       "      <td>-0.122917</td>\n",
       "      <td>1988</td>\n",
       "      <td>usenet</td>\n",
       "    </tr>\n",
       "    <tr>\n",
       "      <th>...</th>\n",
       "      <td>...</td>\n",
       "      <td>...</td>\n",
       "      <td>...</td>\n",
       "    </tr>\n",
       "    <tr>\n",
       "      <th>340</th>\n",
       "      <td>0.100000</td>\n",
       "      <td>2001</td>\n",
       "      <td>sffworld</td>\n",
       "    </tr>\n",
       "    <tr>\n",
       "      <th>342</th>\n",
       "      <td>0.160000</td>\n",
       "      <td>2000</td>\n",
       "      <td>sffworld</td>\n",
       "    </tr>\n",
       "    <tr>\n",
       "      <th>343</th>\n",
       "      <td>0.430000</td>\n",
       "      <td>2000</td>\n",
       "      <td>sffworld</td>\n",
       "    </tr>\n",
       "    <tr>\n",
       "      <th>344</th>\n",
       "      <td>0.160000</td>\n",
       "      <td>2018</td>\n",
       "      <td>sffworld</td>\n",
       "    </tr>\n",
       "    <tr>\n",
       "      <th>345</th>\n",
       "      <td>0.094643</td>\n",
       "      <td>2010</td>\n",
       "      <td>sffworld</td>\n",
       "    </tr>\n",
       "  </tbody>\n",
       "</table>\n",
       "<p>40016 rows × 3 columns</p>\n",
       "</div>"
      ],
      "text/plain": [
       "     sentiment  Year     forum\n",
       "0     0.373347  1988    usenet\n",
       "1     0.095362  1993    usenet\n",
       "2     0.200000  1988    usenet\n",
       "3     0.158824  1987    usenet\n",
       "4    -0.122917  1988    usenet\n",
       "..         ...   ...       ...\n",
       "340   0.100000  2001  sffworld\n",
       "342   0.160000  2000  sffworld\n",
       "343   0.430000  2000  sffworld\n",
       "344   0.160000  2018  sffworld\n",
       "345   0.094643  2010  sffworld\n",
       "\n",
       "[40016 rows x 3 columns]"
      ]
     },
     "execution_count": 63,
     "metadata": {},
     "output_type": "execute_result"
    }
   ],
   "source": [
    "filterdata"
   ]
  },
  {
   "cell_type": "code",
   "execution_count": 65,
   "id": "3078167d",
   "metadata": {},
   "outputs": [
    {
     "data": {
      "text/plain": [
       "[<matplotlib.lines.Line2D at 0x1c6701823a0>]"
      ]
     },
     "execution_count": 65,
     "metadata": {},
     "output_type": "execute_result"
    },
    {
     "data": {
      "image/png": "[encoded data removed]",
      "text/plain": [
       "<Figure size 432x288 with 1 Axes>"
      ]
     },
     "metadata": {
      "needs_background": "light"
     },
     "output_type": "display_data"
    }
   ],
   "source": [
    "data1 = filterdata.loc[filterdata['forum']!='sffworld']\n",
    "data10 = filterdata.loc[filterdata['forum']=='sffworld']\n",
    "\n",
    "test1 = data1.groupby('Year').mean()\n",
    "test10 = data10.groupby('Year').mean()\n",
    "\n",
    "test1 = pd.DataFrame(test1)\n",
    "\n",
    "plt.plot(test1,'bo-',label='type2')\n",
    "plt.plot(test10,'r+-',label='type1')"
   ]
  },
  {
   "cell_type": "code",
   "execution_count": 66,
   "id": "4904fd2d",
   "metadata": {},
   "outputs": [
    {
     "data": {
      "text/plain": [
       "[<matplotlib.lines.Line2D at 0x1c6701d0f40>]"
      ]
     },
     "execution_count": 66,
     "metadata": {},
     "output_type": "execute_result"
    },
    {
     "data": {
      "image/png": "[encoded data removed]",
      "text/plain": [
       "<Figure size 432x288 with 1 Axes>"
      ]
     },
     "metadata": {
      "needs_background": "light"
     },
     "output_type": "display_data"
    }
   ],
   "source": [
    "data2 = filterdata.loc[filterdata['forum']!='reddit']\n",
    "data20 = filterdata.loc[filterdata['forum']=='reddit']\n",
    "\n",
    "test2 = data2.groupby('Year').mean()\n",
    "test20 = data20.groupby('Year').mean()\n",
    "\n",
    "plt.plot(test2,'bo-',label='type2')\n",
    "plt.plot(test20,'r+-',label='type2')"
   ]
  },
  {
   "cell_type": "code",
   "execution_count": 67,
   "id": "a83c2c2a",
   "metadata": {},
   "outputs": [
    {
     "data": {
      "text/plain": [
       "[<matplotlib.lines.Line2D at 0x1c670236610>]"
      ]
     },
     "execution_count": 67,
     "metadata": {},
     "output_type": "execute_result"
    },
    {
     "data": {
      "image/png": "[encoded data removed]",
      "text/plain": [
       "<Figure size 432x288 with 1 Axes>"
      ]
     },
     "metadata": {
      "needs_background": "light"
     },
     "output_type": "display_data"
    }
   ],
   "source": [
    "data3 = filterdata.loc[filterdata['forum']!='usenet']\n",
    "data30 = filterdata.loc[filterdata['forum']=='usenet']\n",
    "\n",
    "test3 = data3.groupby('Year').mean()\n",
    "test30 = data30.groupby('Year').mean()\n",
    "\n",
    "plt.plot(test3,'bo-',label='type2')\n",
    "plt.plot(test30,'r+-',label='type2')"
   ]
  },
  {
   "cell_type": "code",
   "execution_count": 68,
   "id": "13ef40e2",
   "metadata": {},
   "outputs": [
    {
     "data": {
      "text/plain": [
       "[<matplotlib.lines.Line2D at 0x1c670295340>]"
      ]
     },
     "execution_count": 68,
     "metadata": {},
     "output_type": "execute_result"
    },
    {
     "data": {
      "image/png": "[encoded data removed]",
      "text/plain": [
       "<Figure size 432x288 with 1 Axes>"
      ]
     },
     "metadata": {
      "needs_background": "light"
     },
     "output_type": "display_data"
    }
   ],
   "source": [
    "data4 = filterdata.loc[filterdata['forum']!='cyberpunkforums']\n",
    "data40 = filterdata.loc[filterdata['forum']=='cyberpunkforums']\n",
    "\n",
    "test4 = data4.groupby('Year').mean()\n",
    "test40 = data40.groupby('Year').mean()\n",
    "\n",
    "plt.plot(test4,'bo-',label='type2')\n",
    "plt.plot(test40,'r+-',label='type2')"
   ]
  },
  {
   "cell_type": "code",
   "execution_count": 69,
   "id": "ce2df1e3",
   "metadata": {},
   "outputs": [],
   "source": [
    "result = test10.append(test20)\n",
    "\n",
    "result = result.append(test30)\n",
    "result = result.append(test40)\n",
    "\n",
    "test = result.groupby(['Year']).mean()"
   ]
  },
  {
   "cell_type": "code",
   "execution_count": 70,
   "id": "5fcfe273",
   "metadata": {},
   "outputs": [],
   "source": [
    "years = np.arange(1987,2023,1)"
   ]
  },
  {
   "cell_type": "code",
   "execution_count": 71,
   "id": "6ebff8ce",
   "metadata": {},
   "outputs": [
    {
     "data": {
      "text/plain": [
       "[<matplotlib.lines.Line2D at 0x1c6702f5a00>]"
      ]
     },
     "execution_count": 71,
     "metadata": {},
     "output_type": "execute_result"
    },
    {
     "data": {
      "image/png": "[encoded data removed]",
      "text/plain": [
       "<Figure size 432x288 with 1 Axes>"
      ]
     },
     "metadata": {
      "needs_background": "light"
     },
     "output_type": "display_data"
    }
   ],
   "source": [
    "plt.plot(test,'r+-',label='type2')\n",
    "plt.plot(years,mean_sent,'bo-',label='type2')"
   ]
  },
  {
   "cell_type": "markdown",
   "id": "1487012c",
   "metadata": {},
   "source": [
    "Red plot is the tendance after filting the comments which have no or little sensitive"
   ]
  },
  {
   "cell_type": "markdown",
   "id": "39c27660",
   "metadata": {},
   "source": [
    "## Smoothing"
   ]
  },
  {
   "cell_type": "code",
   "execution_count": 80,
   "id": "863cfac1",
   "metadata": {},
   "outputs": [],
   "source": [
    "rollingtest = test.rolling(4).mean()\n",
    "rollingmean_sent = mean_sent.rolling(4).mean()"
   ]
  },
  {
   "cell_type": "code",
   "execution_count": 81,
   "id": "fef8a4b1",
   "metadata": {},
   "outputs": [
    {
     "data": {
      "text/plain": [
       "[<matplotlib.lines.Line2D at 0x1c670387640>]"
      ]
     },
     "execution_count": 81,
     "metadata": {},
     "output_type": "execute_result"
    },
    {
     "data": {
      "image/png": "[encoded data removed]",
      "text/plain": [
       "<Figure size 432x288 with 1 Axes>"
      ]
     },
     "metadata": {
      "needs_background": "light"
     },
     "output_type": "display_data"
    }
   ],
   "source": [
    "plt.plot(rollingtest,'r+-',label='type2')\n",
    "plt.plot(years,rollingmean_sent,'bo-',label='type2')"
   ]
  },
  {
   "cell_type": "markdown",
   "id": "97194c6f",
   "metadata": {},
   "source": [
    "After rolling , these points are much smoother"
   ]
  }
 ],
 "metadata": {
  "kernelspec": {
   "display_name": "Python 3",
   "language": "python",
   "name": "python3"
  },
  "language_info": {
   "codemirror_mode": {
    "name": "ipython",
    "version": 3
   },
   "file_extension": ".py",
   "mimetype": "text/x-python",
   "name": "python",
   "nbconvert_exporter": "python",
   "pygments_lexer": "ipython3",
   "version": "3.8.8"
  }
 },
 "nbformat": 4,
 "nbformat_minor": 5
}
