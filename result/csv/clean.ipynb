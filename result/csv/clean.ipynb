{
 "cells": [
  {
   "cell_type": "code",
   "execution_count": 1,
   "metadata": {},
   "outputs": [],
   "source": [
    "import pandas as pd\n",
    "import numpy as np\n",
    "import datetime\n",
    "import time\n",
    "import re\n",
    "import matplotlib.pyplot as plt\n",
    "import seaborn as sns\n",
    "import warnings\n",
    "warnings.filterwarnings(\"ignore\")"
   ]
  },
  {
   "cell_type": "markdown",
   "metadata": {},
   "source": [
    "### booknode"
   ]
  },
  {
   "cell_type": "code",
   "execution_count": 101,
   "metadata": {},
   "outputs": [
    {
     "data": {
      "text/html": [
       "<div>\n",
       "<style scoped>\n",
       "    .dataframe tbody tr th:only-of-type {\n",
       "        vertical-align: middle;\n",
       "    }\n",
       "\n",
       "    .dataframe tbody tr th {\n",
       "        vertical-align: top;\n",
       "    }\n",
       "\n",
       "    .dataframe thead th {\n",
       "        text-align: right;\n",
       "    }\n",
       "</style>\n",
       "<table border=\"1\" class=\"dataframe\">\n",
       "  <thead>\n",
       "    <tr style=\"text-align: right;\">\n",
       "      <th></th>\n",
       "      <th>topicTitle</th>\n",
       "      <th>commentID</th>\n",
       "      <th>datePost</th>\n",
       "      <th>content</th>\n",
       "      <th>links</th>\n",
       "      <th>img_link</th>\n",
       "      <th>blockquote</th>\n",
       "      <th>nbPostTopic</th>\n",
       "      <th>nbViewsTopic</th>\n",
       "      <th>topicId</th>\n",
       "      <th>datePostTopic</th>\n",
       "      <th>lastUpdateTopic</th>\n",
       "    </tr>\n",
       "  </thead>\n",
       "  <tbody>\n",
       "    <tr>\n",
       "      <th>0</th>\n",
       "      <td>Quel couple préférez-vous dans Red Queen ?</td>\n",
       "      <td>p18443555</td>\n",
       "      <td>2016-09-07T12:43:01+00:00</td>\n",
       "      <td>Bonjour tout le monde !\\n\\nSi vous êtes comme ...</td>\n",
       "      <td>[]</td>\n",
       "      <td>[./images/smilies/icon_mrgreen.gif, ./images/s...</td>\n",
       "      <td>[]</td>\n",
       "      <td>24</td>\n",
       "      <td>24</td>\n",
       "      <td>249255</td>\n",
       "      <td>2016-09-07T12:43:01+00:00</td>\n",
       "      <td>2022-01-01T22:33:31+00:00</td>\n",
       "    </tr>\n",
       "    <tr>\n",
       "      <th>1</th>\n",
       "      <td>Quel couple préférez-vous dans Red Queen ?</td>\n",
       "      <td>p18443935</td>\n",
       "      <td>2016-09-07T14:57:01+00:00</td>\n",
       "      <td>Tu n'es pas toute seule, je suis dans la team ...</td>\n",
       "      <td>[]</td>\n",
       "      <td>[./images/smilies/icon_e_biggrin.gif, ./images...</td>\n",
       "      <td>[]</td>\n",
       "      <td>24</td>\n",
       "      <td>24</td>\n",
       "      <td>249255</td>\n",
       "      <td>2016-09-07T12:43:01+00:00</td>\n",
       "      <td>2022-01-01T22:33:31+00:00</td>\n",
       "    </tr>\n",
       "    <tr>\n",
       "      <th>2</th>\n",
       "      <td>Quel couple préférez-vous dans Red Queen ?</td>\n",
       "      <td>p18444005</td>\n",
       "      <td>2016-09-07T15:19:38+00:00</td>\n",
       "      <td>Pour ma part, c'est également le couple Mare/M...</td>\n",
       "      <td>[]</td>\n",
       "      <td>[./images/smilies/icon_e_biggrin.gif, ./images...</td>\n",
       "      <td>[]</td>\n",
       "      <td>24</td>\n",
       "      <td>24</td>\n",
       "      <td>249255</td>\n",
       "      <td>2016-09-07T12:43:01+00:00</td>\n",
       "      <td>2022-01-01T22:33:31+00:00</td>\n",
       "    </tr>\n",
       "    <tr>\n",
       "      <th>3</th>\n",
       "      <td>Quel couple préférez-vous dans Red Queen ?</td>\n",
       "      <td>p18446735</td>\n",
       "      <td>2016-09-08T11:37:43+00:00</td>\n",
       "      <td>[BLOCKQUOTE]\\n\\nJe crois qu'on a tous eu la mê...</td>\n",
       "      <td>[]</td>\n",
       "      <td>[./images/smilies/icon_e_sad.gif, ./images/smi...</td>\n",
       "      <td>[LizzieB a écrit :Ce coup de théâtre m'a absol...</td>\n",
       "      <td>24</td>\n",
       "      <td>24</td>\n",
       "      <td>249255</td>\n",
       "      <td>2016-09-07T12:43:01+00:00</td>\n",
       "      <td>2022-01-01T22:33:31+00:00</td>\n",
       "    </tr>\n",
       "    <tr>\n",
       "      <th>4</th>\n",
       "      <td>Quel couple préférez-vous dans Red Queen ?</td>\n",
       "      <td>p18447085</td>\n",
       "      <td>2016-09-08T15:46:57+00:00</td>\n",
       "      <td>Personnellement, j'ai horreur de Cal. Il est p...</td>\n",
       "      <td>[]</td>\n",
       "      <td>[]</td>\n",
       "      <td>[]</td>\n",
       "      <td>24</td>\n",
       "      <td>24</td>\n",
       "      <td>249255</td>\n",
       "      <td>2016-09-07T12:43:01+00:00</td>\n",
       "      <td>2022-01-01T22:33:31+00:00</td>\n",
       "    </tr>\n",
       "  </tbody>\n",
       "</table>\n",
       "</div>"
      ],
      "text/plain": [
       "                                   topicTitle  commentID  \\\n",
       "0  Quel couple préférez-vous dans Red Queen ?  p18443555   \n",
       "1  Quel couple préférez-vous dans Red Queen ?  p18443935   \n",
       "2  Quel couple préférez-vous dans Red Queen ?  p18444005   \n",
       "3  Quel couple préférez-vous dans Red Queen ?  p18446735   \n",
       "4  Quel couple préférez-vous dans Red Queen ?  p18447085   \n",
       "\n",
       "                    datePost  \\\n",
       "0  2016-09-07T12:43:01+00:00   \n",
       "1  2016-09-07T14:57:01+00:00   \n",
       "2  2016-09-07T15:19:38+00:00   \n",
       "3  2016-09-08T11:37:43+00:00   \n",
       "4  2016-09-08T15:46:57+00:00   \n",
       "\n",
       "                                             content links  \\\n",
       "0  Bonjour tout le monde !\\n\\nSi vous êtes comme ...    []   \n",
       "1  Tu n'es pas toute seule, je suis dans la team ...    []   \n",
       "2  Pour ma part, c'est également le couple Mare/M...    []   \n",
       "3  [BLOCKQUOTE]\\n\\nJe crois qu'on a tous eu la mê...    []   \n",
       "4  Personnellement, j'ai horreur de Cal. Il est p...    []   \n",
       "\n",
       "                                            img_link  \\\n",
       "0  [./images/smilies/icon_mrgreen.gif, ./images/s...   \n",
       "1  [./images/smilies/icon_e_biggrin.gif, ./images...   \n",
       "2  [./images/smilies/icon_e_biggrin.gif, ./images...   \n",
       "3  [./images/smilies/icon_e_sad.gif, ./images/smi...   \n",
       "4                                                 []   \n",
       "\n",
       "                                          blockquote  nbPostTopic  \\\n",
       "0                                                 []           24   \n",
       "1                                                 []           24   \n",
       "2                                                 []           24   \n",
       "3  [LizzieB a écrit :Ce coup de théâtre m'a absol...           24   \n",
       "4                                                 []           24   \n",
       "\n",
       "   nbViewsTopic  topicId              datePostTopic            lastUpdateTopic  \n",
       "0            24   249255  2016-09-07T12:43:01+00:00  2022-01-01T22:33:31+00:00  \n",
       "1            24   249255  2016-09-07T12:43:01+00:00  2022-01-01T22:33:31+00:00  \n",
       "2            24   249255  2016-09-07T12:43:01+00:00  2022-01-01T22:33:31+00:00  \n",
       "3            24   249255  2016-09-07T12:43:01+00:00  2022-01-01T22:33:31+00:00  \n",
       "4            24   249255  2016-09-07T12:43:01+00:00  2022-01-01T22:33:31+00:00  "
      ]
     },
     "execution_count": 101,
     "metadata": {},
     "output_type": "execute_result"
    }
   ],
   "source": [
    "booknode=pd.read_json(\"data/booknode.json\")\n",
    "booknode.head()"
   ]
  },
  {
   "cell_type": "code",
   "execution_count": 102,
   "metadata": {},
   "outputs": [],
   "source": [
    "def booknode_data_clean(char):\n",
    "    data=char.split('T')\n",
    "    return data[0]\n",
    "booknode['datePost']=booknode.apply(lambda x : booknode_data_clean(x['datePost']),axis=1)\n",
    "booknode['datePostTopic']=booknode.apply(lambda x : booknode_data_clean(x['datePostTopic']),axis=1)\n",
    "booknode['lastUpdateTopic']=booknode.apply(lambda x : booknode_data_clean(x['lastUpdateTopic']),axis=1)"
   ]
  },
  {
   "cell_type": "code",
   "execution_count": 103,
   "metadata": {},
   "outputs": [],
   "source": [
    "booknode['datePost']=pd.to_datetime(booknode['datePost'], format='%Y-%m-%d')\n",
    "booknode['datePostTopic']=pd.to_datetime(booknode['datePostTopic'], format='%Y-%m-%d')\n",
    "booknode['lastUpdateTopic']=pd.to_datetime(booknode['lastUpdateTopic'], format='%Y-%m-%d')"
   ]
  },
  {
   "cell_type": "code",
   "execution_count": 104,
   "metadata": {},
   "outputs": [],
   "source": [
    "booknode['content']=booknode.apply(lambda x: x['content'].replace('\\n','').replace('[','').replace(']',''),axis=1)"
   ]
  },
  {
   "cell_type": "code",
   "execution_count": 105,
   "metadata": {},
   "outputs": [],
   "source": [
    "booknode['Year'] = booknode['datePost'].dt.year "
   ]
  },
  {
   "cell_type": "code",
   "execution_count": 106,
   "metadata": {},
   "outputs": [
    {
     "data": {
      "text/plain": [
       "2014    867\n",
       "2013    799\n",
       "2012    494\n",
       "2020    209\n",
       "2015    194\n",
       "2018    170\n",
       "2017    147\n",
       "2019     89\n",
       "2016     70\n",
       "2011     27\n",
       "2021     11\n",
       "2022      1\n",
       "Name: Year, dtype: int64"
      ]
     },
     "execution_count": 106,
     "metadata": {},
     "output_type": "execute_result"
    }
   ],
   "source": [
    "booknode['Year'].value_counts()"
   ]
  },
  {
   "cell_type": "code",
   "execution_count": 107,
   "metadata": {
    "scrolled": true
   },
   "outputs": [
    {
     "data": {
      "image/png": "[encoded data removed]",
      "text/plain": [
       "<Figure size 720x360 with 1 Axes>"
      ]
     },
     "metadata": {
      "needs_background": "light"
     },
     "output_type": "display_data"
    }
   ],
   "source": [
    "plt.figure(figsize=(10,5))\n",
    "sns.distplot(booknode['Year'],bins=20,hist_kws={\"color\":\"steelblue\"})\n",
    "plt.title(\"booknode_kde\")\n",
    "plt.show()"
   ]
  },
  {
   "cell_type": "code",
   "execution_count": 9,
   "metadata": {},
   "outputs": [],
   "source": [
    "booknode.drop('Year',axis=1,inplace=True)"
   ]
  },
  {
   "cell_type": "code",
   "execution_count": 108,
   "metadata": {},
   "outputs": [],
   "source": [
    "booknode.to_csv('result/csv/booknode.csv')# 存储为csv格式\n",
    "booknode.to_json('result/json/booknode.json',orient='records')#"
   ]
  },
  {
   "cell_type": "markdown",
   "metadata": {},
   "source": [
    "#### 数据中 links、img_link、blockquote 为list 形式，故 不用去清洗掉[]\n",
    "\n",
    "若要清洗 使用如下方法：</br>\n",
    "example：<br>\n",
    "booknode['links']=booknode.apply(lambda x: str(x['links']).replace('[','').replace(']',''),axis=1)<br>\n",
    "此方法会把list 转为 str格式"
   ]
  },
  {
   "cell_type": "markdown",
   "metadata": {},
   "source": [
    "### cyberpunkforums"
   ]
  },
  {
   "cell_type": "code",
   "execution_count": 109,
   "metadata": {},
   "outputs": [
    {
     "data": {
      "text/html": [
       "<div>\n",
       "<style scoped>\n",
       "    .dataframe tbody tr th:only-of-type {\n",
       "        vertical-align: middle;\n",
       "    }\n",
       "\n",
       "    .dataframe tbody tr th {\n",
       "        vertical-align: top;\n",
       "    }\n",
       "\n",
       "    .dataframe thead th {\n",
       "        text-align: right;\n",
       "    }\n",
       "</style>\n",
       "<table border=\"1\" class=\"dataframe\">\n",
       "  <thead>\n",
       "    <tr style=\"text-align: right;\">\n",
       "      <th></th>\n",
       "      <th>postId</th>\n",
       "      <th>postNb</th>\n",
       "      <th>postDate</th>\n",
       "      <th>content</th>\n",
       "      <th>blockquote</th>\n",
       "      <th>img</th>\n",
       "      <th>links</th>\n",
       "      <th>categorie</th>\n",
       "      <th>topic</th>\n",
       "    </tr>\n",
       "  </thead>\n",
       "  <tbody>\n",
       "    <tr>\n",
       "      <th>0</th>\n",
       "      <td>p60291</td>\n",
       "      <td>1</td>\n",
       "      <td>12/29/21 2:01pm</td>\n",
       "      <td>[Scientists convinced a petri dish of brain ce...</td>\n",
       "      <td>[]</td>\n",
       "      <td>[]</td>\n",
       "      <td>[https://ftw.usatoday.com/2021/12/scient]</td>\n",
       "      <td>Subversion</td>\n",
       "      <td>Human brain cells in a dish are playing pong</td>\n",
       "    </tr>\n",
       "    <tr>\n",
       "      <th>1</th>\n",
       "      <td>p60298</td>\n",
       "      <td>2</td>\n",
       "      <td>01/01/22 2:24pm</td>\n",
       "      <td>[Things seem kind of slow here, which is cool ...</td>\n",
       "      <td>[]</td>\n",
       "      <td>[https://cyberpunkforums.com/img/smilies/lol.gif]</td>\n",
       "      <td>[]</td>\n",
       "      <td>Subversion</td>\n",
       "      <td>Human brain cells in a dish are playing pong</td>\n",
       "    </tr>\n",
       "    <tr>\n",
       "      <th>2</th>\n",
       "      <td>p60300</td>\n",
       "      <td>3</td>\n",
       "      <td>01/01/22 4:00pm</td>\n",
       "      <td>[At least the learning curve is quicker than t...</td>\n",
       "      <td>[]</td>\n",
       "      <td>[]</td>\n",
       "      <td>[]</td>\n",
       "      <td>Subversion</td>\n",
       "      <td>Human brain cells in a dish are playing pong</td>\n",
       "    </tr>\n",
       "    <tr>\n",
       "      <th>3</th>\n",
       "      <td>p60370</td>\n",
       "      <td>4</td>\n",
       "      <td>01/20/22 5:08pm</td>\n",
       "      <td>[Can't wait for my brain to be chopped up and ...</td>\n",
       "      <td>[]</td>\n",
       "      <td>[]</td>\n",
       "      <td>[]</td>\n",
       "      <td>Subversion</td>\n",
       "      <td>Human brain cells in a dish are playing pong</td>\n",
       "    </tr>\n",
       "    <tr>\n",
       "      <th>4</th>\n",
       "      <td>p60378</td>\n",
       "      <td>5</td>\n",
       "      <td>01/21/22 9:43am</td>\n",
       "      <td>[Welcome welcome]</td>\n",
       "      <td>[Can't wait for my brain to be chopped up and ...</td>\n",
       "      <td>[]</td>\n",
       "      <td>[]</td>\n",
       "      <td>Subversion</td>\n",
       "      <td>Human brain cells in a dish are playing pong</td>\n",
       "    </tr>\n",
       "  </tbody>\n",
       "</table>\n",
       "</div>"
      ],
      "text/plain": [
       "   postId  postNb         postDate  \\\n",
       "0  p60291       1  12/29/21 2:01pm   \n",
       "1  p60298       2  01/01/22 2:24pm   \n",
       "2  p60300       3  01/01/22 4:00pm   \n",
       "3  p60370       4  01/20/22 5:08pm   \n",
       "4  p60378       5  01/21/22 9:43am   \n",
       "\n",
       "                                             content  \\\n",
       "0  [Scientists convinced a petri dish of brain ce...   \n",
       "1  [Things seem kind of slow here, which is cool ...   \n",
       "2  [At least the learning curve is quicker than t...   \n",
       "3  [Can't wait for my brain to be chopped up and ...   \n",
       "4                                  [Welcome welcome]   \n",
       "\n",
       "                                          blockquote  \\\n",
       "0                                                 []   \n",
       "1                                                 []   \n",
       "2                                                 []   \n",
       "3                                                 []   \n",
       "4  [Can't wait for my brain to be chopped up and ...   \n",
       "\n",
       "                                                 img  \\\n",
       "0                                                 []   \n",
       "1  [https://cyberpunkforums.com/img/smilies/lol.gif]   \n",
       "2                                                 []   \n",
       "3                                                 []   \n",
       "4                                                 []   \n",
       "\n",
       "                                       links   categorie  \\\n",
       "0  [https://ftw.usatoday.com/2021/12/scient]  Subversion   \n",
       "1                                         []  Subversion   \n",
       "2                                         []  Subversion   \n",
       "3                                         []  Subversion   \n",
       "4                                         []  Subversion   \n",
       "\n",
       "                                          topic  \n",
       "0  Human brain cells in a dish are playing pong  \n",
       "1  Human brain cells in a dish are playing pong  \n",
       "2  Human brain cells in a dish are playing pong  \n",
       "3  Human brain cells in a dish are playing pong  \n",
       "4  Human brain cells in a dish are playing pong  "
      ]
     },
     "execution_count": 109,
     "metadata": {},
     "output_type": "execute_result"
    }
   ],
   "source": [
    "cyberpunkforums=pd.read_json('data/cyberpunkforums.json')\n",
    "cyberpunkforums.head()"
   ]
  },
  {
   "cell_type": "code",
   "execution_count": 110,
   "metadata": {},
   "outputs": [],
   "source": [
    "def cyberpunkforums_date_clean(char):\n",
    "    cut_char=char.split('/')\n",
    "    if len(cut_char)>=2:\n",
    "        month=cut_char[0]\n",
    "        day=cut_char[1]\n",
    "        year=str(20)+str(cut_char[2].split(' ')[0])\n",
    "        end=str(year)+'-'+str(month)+'-'+str(day)\n",
    "    elif cut_char[0]=='Yesterday':\n",
    "        end='2022-3-1'\n",
    "    else:\n",
    "        end='2022-3-2'\n",
    "    return end"
   ]
  },
  {
   "cell_type": "code",
   "execution_count": 111,
   "metadata": {},
   "outputs": [],
   "source": [
    "cyberpunkforums['postDate']=cyberpunkforums.apply(lambda x : cyberpunkforums_date_clean(x['postDate']),axis=1)\n",
    "cyberpunkforums['postDate']=pd.to_datetime(cyberpunkforums['postDate'], format='%Y-%m-%d')"
   ]
  },
  {
   "cell_type": "code",
   "execution_count": 112,
   "metadata": {},
   "outputs": [],
   "source": [
    "cyberpunkforums['Year'] = cyberpunkforums['postDate'].dt.year "
   ]
  },
  {
   "cell_type": "code",
   "execution_count": 113,
   "metadata": {},
   "outputs": [
    {
     "data": {
      "text/plain": [
       "2012    15601\n",
       "2013     9509\n",
       "2011     8530\n",
       "2014     4989\n",
       "2016     3368\n",
       "2015     3060\n",
       "2017     3032\n",
       "2020     1396\n",
       "2018     1392\n",
       "2021     1279\n",
       "2019      948\n",
       "2022      265\n",
       "Name: Year, dtype: int64"
      ]
     },
     "execution_count": 113,
     "metadata": {},
     "output_type": "execute_result"
    }
   ],
   "source": [
    "cyberpunkforums['Year'].value_counts()"
   ]
  },
  {
   "cell_type": "code",
   "execution_count": 114,
   "metadata": {},
   "outputs": [
    {
     "data": {
      "image/png": "[encoded data removed]",
      "text/plain": [
       "<Figure size 720x360 with 1 Axes>"
      ]
     },
     "metadata": {
      "needs_background": "light"
     },
     "output_type": "display_data"
    }
   ],
   "source": [
    "plt.figure(figsize=(10,5))\n",
    "sns.distplot(cyberpunkforums['Year'],bins=20,hist_kws={\"color\":\"steelblue\"})\n",
    "plt.title(\"cyberpunkforums_kde\")\n",
    "plt.show()"
   ]
  },
  {
   "cell_type": "code",
   "execution_count": 17,
   "metadata": {},
   "outputs": [
    {
     "data": {
      "text/plain": [
       "list"
      ]
     },
     "execution_count": 17,
     "metadata": {},
     "output_type": "execute_result"
    }
   ],
   "source": [
    "type(cyberpunkforums.content[0])"
   ]
  },
  {
   "cell_type": "code",
   "execution_count": 18,
   "metadata": {},
   "outputs": [
    {
     "data": {
      "text/plain": [
       "list"
      ]
     },
     "execution_count": 18,
     "metadata": {},
     "output_type": "execute_result"
    }
   ],
   "source": [
    "type(cyberpunkforums.img[0])"
   ]
  },
  {
   "cell_type": "code",
   "execution_count": 19,
   "metadata": {},
   "outputs": [],
   "source": [
    "cyberpunkforums.drop('Year',axis=1,inplace=True)"
   ]
  },
  {
   "cell_type": "code",
   "execution_count": 115,
   "metadata": {},
   "outputs": [],
   "source": [
    "cyberpunkforums.to_csv('result/csv/cyberpunkforums.csv')# 存储为csv格式\n",
    "cyberpunkforums.to_json('result/json/cyberpunkforums.json',orient='records')#"
   ]
  },
  {
   "cell_type": "markdown",
   "metadata": {},
   "source": [
    "#### 数据中 content、blockquote、img、links 为list 形式，故 不用去清洗掉[]\n",
    "\n",
    "若要清洗 使用如下方法：</br>\n",
    "example：<br>\n",
    "cyberpunkforums['links']=cyberpunkforums.apply(lambda x: str(x['links']).replace('[','').replace(']',''),axis=1)"
   ]
  },
  {
   "cell_type": "markdown",
   "metadata": {},
   "source": [
    "### reddit4"
   ]
  },
  {
   "cell_type": "code",
   "execution_count": 46,
   "metadata": {},
   "outputs": [
    {
     "data": {
      "text/html": [
       "<div>\n",
       "<style scoped>\n",
       "    .dataframe tbody tr th:only-of-type {\n",
       "        vertical-align: middle;\n",
       "    }\n",
       "\n",
       "    .dataframe tbody tr th {\n",
       "        vertical-align: top;\n",
       "    }\n",
       "\n",
       "    .dataframe thead th {\n",
       "        text-align: right;\n",
       "    }\n",
       "</style>\n",
       "<table border=\"1\" class=\"dataframe\">\n",
       "  <thead>\n",
       "    <tr style=\"text-align: right;\">\n",
       "      <th></th>\n",
       "      <th>title</th>\n",
       "      <th>date</th>\n",
       "      <th>text</th>\n",
       "      <th>Comment</th>\n",
       "      <th>vote</th>\n",
       "      <th>image</th>\n",
       "    </tr>\n",
       "  </thead>\n",
       "  <tbody>\n",
       "    <tr>\n",
       "      <th>0</th>\n",
       "      <td>HK : wearable face projector to avoid face rec...</td>\n",
       "      <td>2 years ago</td>\n",
       "      <td>[]</td>\n",
       "      <td>[Thats cool, but how blinded are you wearing t...</td>\n",
       "      <td>54.5k</td>\n",
       "      <td>None</td>\n",
       "    </tr>\n",
       "    <tr>\n",
       "      <th>1</th>\n",
       "      <td>Akira Gif</td>\n",
       "      <td>4 years ago</td>\n",
       "      <td>[]</td>\n",
       "      <td>[[刪除], The first thing I thought was \"hey look...</td>\n",
       "      <td>10.0k</td>\n",
       "      <td>https://i.imgur.com/enfw4eu.gif</td>\n",
       "    </tr>\n",
       "    <tr>\n",
       "      <th>2</th>\n",
       "      <td>Tron rollercoaster Shanghai Disneyland giving ...</td>\n",
       "      <td>4 years ago</td>\n",
       "      <td>[]</td>\n",
       "      <td>[Tron legacy is such an under rated film. Stor...</td>\n",
       "      <td>7.7k</td>\n",
       "      <td>https://i.redd.it/yxomyotbcvd11.jpg</td>\n",
       "    </tr>\n",
       "    <tr>\n",
       "      <th>3</th>\n",
       "      <td>NeoTokyo 2175 A.D.</td>\n",
       "      <td>4 years ago</td>\n",
       "      <td>[]</td>\n",
       "      <td>[Art by [Josan Gonzalez!] (, ), Where do I go ...</td>\n",
       "      <td>7.8k</td>\n",
       "      <td>https://i.redd.it/kkbznotq2t011.jpg</td>\n",
       "    </tr>\n",
       "    <tr>\n",
       "      <th>4</th>\n",
       "      <td>My custom laptop is mildly cyberpunk.</td>\n",
       "      <td>5 years ago</td>\n",
       "      <td>[]</td>\n",
       "      <td>[I get a fallout vibe from it too. It's really...</td>\n",
       "      <td>7.8k</td>\n",
       "      <td>https://i.imgur.com/z9PTmIl.jpg</td>\n",
       "    </tr>\n",
       "  </tbody>\n",
       "</table>\n",
       "</div>"
      ],
      "text/plain": [
       "                                               title         date text  \\\n",
       "0  HK : wearable face projector to avoid face rec...  2 years ago   []   \n",
       "1                                          Akira Gif  4 years ago   []   \n",
       "2  Tron rollercoaster Shanghai Disneyland giving ...  4 years ago   []   \n",
       "3                                 NeoTokyo 2175 A.D.  4 years ago   []   \n",
       "4              My custom laptop is mildly cyberpunk.  5 years ago   []   \n",
       "\n",
       "                                             Comment   vote  \\\n",
       "0  [Thats cool, but how blinded are you wearing t...  54.5k   \n",
       "1  [[刪除], The first thing I thought was \"hey look...  10.0k   \n",
       "2  [Tron legacy is such an under rated film. Stor...   7.7k   \n",
       "3  [Art by [Josan Gonzalez!] (, ), Where do I go ...   7.8k   \n",
       "4  [I get a fallout vibe from it too. It's really...   7.8k   \n",
       "\n",
       "                                 image  \n",
       "0                                 None  \n",
       "1      https://i.imgur.com/enfw4eu.gif  \n",
       "2  https://i.redd.it/yxomyotbcvd11.jpg  \n",
       "3  https://i.redd.it/kkbznotq2t011.jpg  \n",
       "4      https://i.imgur.com/z9PTmIl.jpg  "
      ]
     },
     "execution_count": 46,
     "metadata": {},
     "output_type": "execute_result"
    }
   ],
   "source": [
    "reddit4=pd.read_json('data/reddit4.json')\n",
    "reddit4.head()"
   ]
  },
  {
   "cell_type": "code",
   "execution_count": 47,
   "metadata": {},
   "outputs": [
    {
     "data": {
      "text/html": [
       "<div>\n",
       "<style scoped>\n",
       "    .dataframe tbody tr th:only-of-type {\n",
       "        vertical-align: middle;\n",
       "    }\n",
       "\n",
       "    .dataframe tbody tr th {\n",
       "        vertical-align: top;\n",
       "    }\n",
       "\n",
       "    .dataframe thead th {\n",
       "        text-align: right;\n",
       "    }\n",
       "</style>\n",
       "<table border=\"1\" class=\"dataframe\">\n",
       "  <thead>\n",
       "    <tr style=\"text-align: right;\">\n",
       "      <th></th>\n",
       "      <th>title</th>\n",
       "      <th>date</th>\n",
       "      <th>text</th>\n",
       "      <th>Comment</th>\n",
       "      <th>vote</th>\n",
       "      <th>image</th>\n",
       "    </tr>\n",
       "  </thead>\n",
       "  <tbody>\n",
       "    <tr>\n",
       "      <th>0</th>\n",
       "      <td>HK : wearable face projector to avoid face rec...</td>\n",
       "      <td>2 years ago</td>\n",
       "      <td>[]</td>\n",
       "      <td>[Thats cool, but how blinded are you wearing t...</td>\n",
       "      <td>54.5k</td>\n",
       "      <td>None</td>\n",
       "    </tr>\n",
       "    <tr>\n",
       "      <th>1</th>\n",
       "      <td>Akira Gif</td>\n",
       "      <td>4 years ago</td>\n",
       "      <td>[]</td>\n",
       "      <td>[[刪除], The first thing I thought was \"hey look...</td>\n",
       "      <td>10.0k</td>\n",
       "      <td>https://i.imgur.com/enfw4eu.gif</td>\n",
       "    </tr>\n",
       "    <tr>\n",
       "      <th>2</th>\n",
       "      <td>Tron rollercoaster Shanghai Disneyland giving ...</td>\n",
       "      <td>4 years ago</td>\n",
       "      <td>[]</td>\n",
       "      <td>[Tron legacy is such an under rated film. Stor...</td>\n",
       "      <td>7.7k</td>\n",
       "      <td>https://i.redd.it/yxomyotbcvd11.jpg</td>\n",
       "    </tr>\n",
       "    <tr>\n",
       "      <th>3</th>\n",
       "      <td>NeoTokyo 2175 A.D.</td>\n",
       "      <td>4 years ago</td>\n",
       "      <td>[]</td>\n",
       "      <td>[Art by [Josan Gonzalez!] (, ), Where do I go ...</td>\n",
       "      <td>7.8k</td>\n",
       "      <td>https://i.redd.it/kkbznotq2t011.jpg</td>\n",
       "    </tr>\n",
       "    <tr>\n",
       "      <th>4</th>\n",
       "      <td>My custom laptop is mildly cyberpunk.</td>\n",
       "      <td>5 years ago</td>\n",
       "      <td>[]</td>\n",
       "      <td>[I get a fallout vibe from it too. It's really...</td>\n",
       "      <td>7.8k</td>\n",
       "      <td>https://i.imgur.com/z9PTmIl.jpg</td>\n",
       "    </tr>\n",
       "    <tr>\n",
       "      <th>...</th>\n",
       "      <td>...</td>\n",
       "      <td>...</td>\n",
       "      <td>...</td>\n",
       "      <td>...</td>\n",
       "      <td>...</td>\n",
       "      <td>...</td>\n",
       "    </tr>\n",
       "    <tr>\n",
       "      <th>158</th>\n",
       "      <td>I always wanted to fly around a cyberpunk city...</td>\n",
       "      <td>2 years ago</td>\n",
       "      <td>[]</td>\n",
       "      <td>[Multipass: a Taxi Driver Story., [刪除], Negati...</td>\n",
       "      <td>21.6k</td>\n",
       "      <td>None</td>\n",
       "    </tr>\n",
       "    <tr>\n",
       "      <th>159</th>\n",
       "      <td>The Sunrise must be televised. You can't see i...</td>\n",
       "      <td>3 years ago</td>\n",
       "      <td>[]</td>\n",
       "      <td>[Not sure if it's been changed to actually sho...</td>\n",
       "      <td>23.4k</td>\n",
       "      <td>https://i.redd.it/5cq2fkz1huy11.jpg</td>\n",
       "    </tr>\n",
       "    <tr>\n",
       "      <th>160</th>\n",
       "      <td>Chinatown</td>\n",
       "      <td>4 years ago</td>\n",
       "      <td>[]</td>\n",
       "      <td>[Who's the artist?, Give credit, [刪除], What a ...</td>\n",
       "      <td>24.2k</td>\n",
       "      <td>https://i.imgur.com/mMLkxGK.png</td>\n",
       "    </tr>\n",
       "    <tr>\n",
       "      <th>161</th>\n",
       "      <td>Drove out to a friends house at midnight when ...</td>\n",
       "      <td>4 years ago</td>\n",
       "      <td>[]</td>\n",
       "      <td>[Pretty sure that’s against Jedi regulation le...</td>\n",
       "      <td>24.8k</td>\n",
       "      <td>https://i.redd.it/dacgjzq4sjj01.jpg</td>\n",
       "    </tr>\n",
       "    <tr>\n",
       "      <th>162</th>\n",
       "      <td>Cyberpunk failed us</td>\n",
       "      <td>4 years ago</td>\n",
       "      <td>[]</td>\n",
       "      <td>[A true dystopia..., dystopia with a friendly ...</td>\n",
       "      <td>25.2k</td>\n",
       "      <td>https://i.imgur.com/QCiUxHO.png</td>\n",
       "    </tr>\n",
       "  </tbody>\n",
       "</table>\n",
       "<p>163 rows × 6 columns</p>\n",
       "</div>"
      ],
      "text/plain": [
       "                                                 title         date text  \\\n",
       "0    HK : wearable face projector to avoid face rec...  2 years ago   []   \n",
       "1                                            Akira Gif  4 years ago   []   \n",
       "2    Tron rollercoaster Shanghai Disneyland giving ...  4 years ago   []   \n",
       "3                                   NeoTokyo 2175 A.D.  4 years ago   []   \n",
       "4                My custom laptop is mildly cyberpunk.  5 years ago   []   \n",
       "..                                                 ...          ...  ...   \n",
       "158  I always wanted to fly around a cyberpunk city...  2 years ago   []   \n",
       "159  The Sunrise must be televised. You can't see i...  3 years ago   []   \n",
       "160                                          Chinatown  4 years ago   []   \n",
       "161  Drove out to a friends house at midnight when ...  4 years ago   []   \n",
       "162                                Cyberpunk failed us  4 years ago   []   \n",
       "\n",
       "                                               Comment   vote  \\\n",
       "0    [Thats cool, but how blinded are you wearing t...  54.5k   \n",
       "1    [[刪除], The first thing I thought was \"hey look...  10.0k   \n",
       "2    [Tron legacy is such an under rated film. Stor...   7.7k   \n",
       "3    [Art by [Josan Gonzalez!] (, ), Where do I go ...   7.8k   \n",
       "4    [I get a fallout vibe from it too. It's really...   7.8k   \n",
       "..                                                 ...    ...   \n",
       "158  [Multipass: a Taxi Driver Story., [刪除], Negati...  21.6k   \n",
       "159  [Not sure if it's been changed to actually sho...  23.4k   \n",
       "160  [Who's the artist?, Give credit, [刪除], What a ...  24.2k   \n",
       "161  [Pretty sure that’s against Jedi regulation le...  24.8k   \n",
       "162  [A true dystopia..., dystopia with a friendly ...  25.2k   \n",
       "\n",
       "                                   image  \n",
       "0                                   None  \n",
       "1        https://i.imgur.com/enfw4eu.gif  \n",
       "2    https://i.redd.it/yxomyotbcvd11.jpg  \n",
       "3    https://i.redd.it/kkbznotq2t011.jpg  \n",
       "4        https://i.imgur.com/z9PTmIl.jpg  \n",
       "..                                   ...  \n",
       "158                                 None  \n",
       "159  https://i.redd.it/5cq2fkz1huy11.jpg  \n",
       "160      https://i.imgur.com/mMLkxGK.png  \n",
       "161  https://i.redd.it/dacgjzq4sjj01.jpg  \n",
       "162      https://i.imgur.com/QCiUxHO.png  \n",
       "\n",
       "[163 rows x 6 columns]"
      ]
     },
     "execution_count": 47,
     "metadata": {},
     "output_type": "execute_result"
    }
   ],
   "source": [
    "reddit4"
   ]
  },
  {
   "cell_type": "code",
   "execution_count": 48,
   "metadata": {},
   "outputs": [
    {
     "data": {
      "text/plain": [
       "4 years ago      87\n",
       "3 years ago      28\n",
       "2 years ago      14\n",
       "5 years ago      14\n",
       "1 year ago        8\n",
       "2 months ago      2\n",
       "10 months ago     2\n",
       "5 months ago      2\n",
       "8 months ago      2\n",
       "1 month ago       1\n",
       "11 days ago       1\n",
       "3 months ago      1\n",
       "7 months ago      1\n",
       "Name: date, dtype: int64"
      ]
     },
     "execution_count": 48,
     "metadata": {},
     "output_type": "execute_result"
    }
   ],
   "source": [
    "reddit4['date'].value_counts()"
   ]
  },
  {
   "cell_type": "code",
   "execution_count": 49,
   "metadata": {},
   "outputs": [],
   "source": [
    "def reddit_date_clean(char):\n",
    "    list_char=char.split(' ')\n",
    "    num=list_char[0]\n",
    "    type_date=list_char[1]\n",
    "    flag = datetime.datetime.strptime('2022-03-01', '%Y-%m-%d')\n",
    "    if type_date==\"years\" or type_date==\"year\":\n",
    "        ago=int(num)*365\n",
    "        delta = datetime.timedelta(days=ago)\n",
    "    elif type_date==\"months\" or type_date==\"month\" :\n",
    "        ago=int(num)*30\n",
    "        delta = datetime.timedelta(days=ago)\n",
    "    elif type_date==\"days\" or type_date==\"day\" :\n",
    "        ago=int(num)\n",
    "        delta = datetime.timedelta(days=ago)\n",
    "    else:\n",
    "        delta = datetime.timedelta(days=0)\n",
    "    end=flag-delta\n",
    "    return end.strftime('%Y-%m-%d')"
   ]
  },
  {
   "cell_type": "code",
   "execution_count": 50,
   "metadata": {},
   "outputs": [],
   "source": [
    "reddit4['date']=reddit4.apply(lambda x : reddit_date_clean(x['date']),axis=1)"
   ]
  },
  {
   "cell_type": "code",
   "execution_count": 51,
   "metadata": {},
   "outputs": [
    {
     "data": {
      "text/plain": [
       "0"
      ]
     },
     "execution_count": 51,
     "metadata": {},
     "output_type": "execute_result"
    }
   ],
   "source": [
    "reddit4.vote.isnull().sum()"
   ]
  },
  {
   "cell_type": "markdown",
   "metadata": {},
   "source": [
    "vote 无空值 <br>\n",
    "数值转化 example： 3.1K → 3100"
   ]
  },
  {
   "cell_type": "code",
   "execution_count": 52,
   "metadata": {},
   "outputs": [],
   "source": [
    "def k_to_num(char):\n",
    "    flag='k'\n",
    "    if flag in char:\n",
    "        end=float(char.replace('k',''))*1000\n",
    "    elif char=='Vote':\n",
    "        end=0\n",
    "    else:\n",
    "        end = float(char)\n",
    "    return end"
   ]
  },
  {
   "cell_type": "code",
   "execution_count": 53,
   "metadata": {},
   "outputs": [],
   "source": [
    "reddit4['vote']=reddit4.apply(lambda x : k_to_num(x['vote']),axis=1)"
   ]
  },
  {
   "cell_type": "code",
   "execution_count": 54,
   "metadata": {},
   "outputs": [
    {
     "data": {
      "text/html": [
       "<div>\n",
       "<style scoped>\n",
       "    .dataframe tbody tr th:only-of-type {\n",
       "        vertical-align: middle;\n",
       "    }\n",
       "\n",
       "    .dataframe tbody tr th {\n",
       "        vertical-align: top;\n",
       "    }\n",
       "\n",
       "    .dataframe thead th {\n",
       "        text-align: right;\n",
       "    }\n",
       "</style>\n",
       "<table border=\"1\" class=\"dataframe\">\n",
       "  <thead>\n",
       "    <tr style=\"text-align: right;\">\n",
       "      <th></th>\n",
       "      <th>title</th>\n",
       "      <th>date</th>\n",
       "      <th>text</th>\n",
       "      <th>Comment</th>\n",
       "      <th>vote</th>\n",
       "      <th>image</th>\n",
       "    </tr>\n",
       "  </thead>\n",
       "  <tbody>\n",
       "    <tr>\n",
       "      <th>0</th>\n",
       "      <td>HK : wearable face projector to avoid face rec...</td>\n",
       "      <td>2020-03-01</td>\n",
       "      <td>[]</td>\n",
       "      <td>[Thats cool, but how blinded are you wearing t...</td>\n",
       "      <td>54500.0</td>\n",
       "      <td>None</td>\n",
       "    </tr>\n",
       "    <tr>\n",
       "      <th>1</th>\n",
       "      <td>Akira Gif</td>\n",
       "      <td>2018-03-02</td>\n",
       "      <td>[]</td>\n",
       "      <td>[[刪除], The first thing I thought was \"hey look...</td>\n",
       "      <td>10000.0</td>\n",
       "      <td>https://i.imgur.com/enfw4eu.gif</td>\n",
       "    </tr>\n",
       "    <tr>\n",
       "      <th>2</th>\n",
       "      <td>Tron rollercoaster Shanghai Disneyland giving ...</td>\n",
       "      <td>2018-03-02</td>\n",
       "      <td>[]</td>\n",
       "      <td>[Tron legacy is such an under rated film. Stor...</td>\n",
       "      <td>7700.0</td>\n",
       "      <td>https://i.redd.it/yxomyotbcvd11.jpg</td>\n",
       "    </tr>\n",
       "    <tr>\n",
       "      <th>3</th>\n",
       "      <td>NeoTokyo 2175 A.D.</td>\n",
       "      <td>2018-03-02</td>\n",
       "      <td>[]</td>\n",
       "      <td>[Art by [Josan Gonzalez!] (, ), Where do I go ...</td>\n",
       "      <td>7800.0</td>\n",
       "      <td>https://i.redd.it/kkbznotq2t011.jpg</td>\n",
       "    </tr>\n",
       "    <tr>\n",
       "      <th>4</th>\n",
       "      <td>My custom laptop is mildly cyberpunk.</td>\n",
       "      <td>2017-03-02</td>\n",
       "      <td>[]</td>\n",
       "      <td>[I get a fallout vibe from it too. It's really...</td>\n",
       "      <td>7800.0</td>\n",
       "      <td>https://i.imgur.com/z9PTmIl.jpg</td>\n",
       "    </tr>\n",
       "  </tbody>\n",
       "</table>\n",
       "</div>"
      ],
      "text/plain": [
       "                                               title        date text  \\\n",
       "0  HK : wearable face projector to avoid face rec...  2020-03-01   []   \n",
       "1                                          Akira Gif  2018-03-02   []   \n",
       "2  Tron rollercoaster Shanghai Disneyland giving ...  2018-03-02   []   \n",
       "3                                 NeoTokyo 2175 A.D.  2018-03-02   []   \n",
       "4              My custom laptop is mildly cyberpunk.  2017-03-02   []   \n",
       "\n",
       "                                             Comment     vote  \\\n",
       "0  [Thats cool, but how blinded are you wearing t...  54500.0   \n",
       "1  [[刪除], The first thing I thought was \"hey look...  10000.0   \n",
       "2  [Tron legacy is such an under rated film. Stor...   7700.0   \n",
       "3  [Art by [Josan Gonzalez!] (, ), Where do I go ...   7800.0   \n",
       "4  [I get a fallout vibe from it too. It's really...   7800.0   \n",
       "\n",
       "                                 image  \n",
       "0                                 None  \n",
       "1      https://i.imgur.com/enfw4eu.gif  \n",
       "2  https://i.redd.it/yxomyotbcvd11.jpg  \n",
       "3  https://i.redd.it/kkbznotq2t011.jpg  \n",
       "4      https://i.imgur.com/z9PTmIl.jpg  "
      ]
     },
     "execution_count": 54,
     "metadata": {},
     "output_type": "execute_result"
    }
   ],
   "source": [
    "reddit4.head()"
   ]
  },
  {
   "cell_type": "code",
   "execution_count": 55,
   "metadata": {},
   "outputs": [
    {
     "data": {
      "text/plain": [
       "list"
      ]
     },
     "execution_count": 55,
     "metadata": {},
     "output_type": "execute_result"
    }
   ],
   "source": [
    "type(reddit4.Comment[1])"
   ]
  },
  {
   "cell_type": "code",
   "execution_count": 56,
   "metadata": {},
   "outputs": [],
   "source": [
    "def del_special(list_char):\n",
    "    for i in range(len(list_char)):\n",
    "        list_char[i]=list_char[i].replace('[刪除]','')\n",
    "    end_list = [i for i in list_char if i != '']\n",
    "    return end_list"
   ]
  },
  {
   "cell_type": "code",
   "execution_count": 57,
   "metadata": {},
   "outputs": [],
   "source": [
    "reddit4['Comment']=reddit4.apply(lambda x : del_special(x['Comment']),axis=1)"
   ]
  },
  {
   "cell_type": "code",
   "execution_count": 58,
   "metadata": {},
   "outputs": [],
   "source": [
    "reddit4['date']=pd.to_datetime(reddit4['date'], format='%Y-%m-%d')"
   ]
  },
  {
   "cell_type": "code",
   "execution_count": 59,
   "metadata": {},
   "outputs": [
    {
     "name": "stdout",
     "output_type": "stream",
     "text": [
      "<class 'pandas.core.frame.DataFrame'>\n",
      "RangeIndex: 163 entries, 0 to 162\n",
      "Data columns (total 6 columns):\n",
      " #   Column   Non-Null Count  Dtype         \n",
      "---  ------   --------------  -----         \n",
      " 0   title    163 non-null    object        \n",
      " 1   date     163 non-null    datetime64[ns]\n",
      " 2   text     163 non-null    object        \n",
      " 3   Comment  163 non-null    object        \n",
      " 4   vote     163 non-null    float64       \n",
      " 5   image    114 non-null    object        \n",
      "dtypes: datetime64[ns](1), float64(1), object(4)\n",
      "memory usage: 7.8+ KB\n"
     ]
    }
   ],
   "source": [
    "reddit4.info()"
   ]
  },
  {
   "cell_type": "code",
   "execution_count": 60,
   "metadata": {},
   "outputs": [],
   "source": [
    "reddit4['Year'] = reddit4['date'].dt.year "
   ]
  },
  {
   "cell_type": "code",
   "execution_count": 61,
   "metadata": {},
   "outputs": [
    {
     "data": {
      "text/plain": [
       "2018    87\n",
       "2019    28\n",
       "2021    18\n",
       "2020    14\n",
       "2017    14\n",
       "2022     2\n",
       "Name: Year, dtype: int64"
      ]
     },
     "execution_count": 61,
     "metadata": {},
     "output_type": "execute_result"
    }
   ],
   "source": [
    "reddit4['Year'].value_counts()"
   ]
  },
  {
   "cell_type": "code",
   "execution_count": 62,
   "metadata": {},
   "outputs": [
    {
     "data": {
      "image/png": "[encoded data removed]",
      "text/plain": [
       "<Figure size 720x360 with 1 Axes>"
      ]
     },
     "metadata": {
      "needs_background": "light"
     },
     "output_type": "display_data"
    }
   ],
   "source": [
    "plt.figure(figsize=(10,5))\n",
    "sns.distplot(reddit4['Year'],bins=20,hist_kws={\"color\":\"steelblue\"})\n",
    "plt.title(\"reddit4_kde\")\n",
    "plt.show()"
   ]
  },
  {
   "cell_type": "code",
   "execution_count": 63,
   "metadata": {},
   "outputs": [],
   "source": [
    "# reddit4.drop('Year',axis=1,inplace=True)"
   ]
  },
  {
   "cell_type": "code",
   "execution_count": 64,
   "metadata": {},
   "outputs": [
    {
     "data": {
      "text/plain": [
       "list"
      ]
     },
     "execution_count": 64,
     "metadata": {},
     "output_type": "execute_result"
    }
   ],
   "source": [
    "type(reddit4.text[0])"
   ]
  },
  {
   "cell_type": "code",
   "execution_count": 65,
   "metadata": {},
   "outputs": [],
   "source": [
    "reddit4.to_csv('result/csv/reddit4.csv')# 存储为csv格式\n",
    "reddit4.to_json('result/json/reddit4.json',orient='records')#"
   ]
  },
  {
   "cell_type": "code",
   "execution_count": 66,
   "metadata": {},
   "outputs": [
    {
     "data": {
      "text/html": [
       "<div>\n",
       "<style scoped>\n",
       "    .dataframe tbody tr th:only-of-type {\n",
       "        vertical-align: middle;\n",
       "    }\n",
       "\n",
       "    .dataframe tbody tr th {\n",
       "        vertical-align: top;\n",
       "    }\n",
       "\n",
       "    .dataframe thead th {\n",
       "        text-align: right;\n",
       "    }\n",
       "</style>\n",
       "<table border=\"1\" class=\"dataframe\">\n",
       "  <thead>\n",
       "    <tr style=\"text-align: right;\">\n",
       "      <th></th>\n",
       "      <th>title</th>\n",
       "      <th>date</th>\n",
       "      <th>text</th>\n",
       "      <th>Comment</th>\n",
       "      <th>vote</th>\n",
       "      <th>image</th>\n",
       "      <th>Year</th>\n",
       "    </tr>\n",
       "  </thead>\n",
       "  <tbody>\n",
       "    <tr>\n",
       "      <th>0</th>\n",
       "      <td>HK : wearable face projector to avoid face rec...</td>\n",
       "      <td>2020-03-01</td>\n",
       "      <td>[]</td>\n",
       "      <td>[Thats cool, but how blinded are you wearing t...</td>\n",
       "      <td>54500.0</td>\n",
       "      <td>None</td>\n",
       "      <td>2020</td>\n",
       "    </tr>\n",
       "    <tr>\n",
       "      <th>1</th>\n",
       "      <td>Akira Gif</td>\n",
       "      <td>2018-03-02</td>\n",
       "      <td>[]</td>\n",
       "      <td>[The first thing I thought was \"hey look, actu...</td>\n",
       "      <td>10000.0</td>\n",
       "      <td>https://i.imgur.com/enfw4eu.gif</td>\n",
       "      <td>2018</td>\n",
       "    </tr>\n",
       "    <tr>\n",
       "      <th>2</th>\n",
       "      <td>Tron rollercoaster Shanghai Disneyland giving ...</td>\n",
       "      <td>2018-03-02</td>\n",
       "      <td>[]</td>\n",
       "      <td>[Tron legacy is such an under rated film. Stor...</td>\n",
       "      <td>7700.0</td>\n",
       "      <td>https://i.redd.it/yxomyotbcvd11.jpg</td>\n",
       "      <td>2018</td>\n",
       "    </tr>\n",
       "    <tr>\n",
       "      <th>3</th>\n",
       "      <td>NeoTokyo 2175 A.D.</td>\n",
       "      <td>2018-03-02</td>\n",
       "      <td>[]</td>\n",
       "      <td>[Art by [Josan Gonzalez!] (, ), Where do I go ...</td>\n",
       "      <td>7800.0</td>\n",
       "      <td>https://i.redd.it/kkbznotq2t011.jpg</td>\n",
       "      <td>2018</td>\n",
       "    </tr>\n",
       "    <tr>\n",
       "      <th>4</th>\n",
       "      <td>My custom laptop is mildly cyberpunk.</td>\n",
       "      <td>2017-03-02</td>\n",
       "      <td>[]</td>\n",
       "      <td>[I get a fallout vibe from it too. It's really...</td>\n",
       "      <td>7800.0</td>\n",
       "      <td>https://i.imgur.com/z9PTmIl.jpg</td>\n",
       "      <td>2017</td>\n",
       "    </tr>\n",
       "  </tbody>\n",
       "</table>\n",
       "</div>"
      ],
      "text/plain": [
       "                                               title       date text  \\\n",
       "0  HK : wearable face projector to avoid face rec... 2020-03-01   []   \n",
       "1                                          Akira Gif 2018-03-02   []   \n",
       "2  Tron rollercoaster Shanghai Disneyland giving ... 2018-03-02   []   \n",
       "3                                 NeoTokyo 2175 A.D. 2018-03-02   []   \n",
       "4              My custom laptop is mildly cyberpunk. 2017-03-02   []   \n",
       "\n",
       "                                             Comment     vote  \\\n",
       "0  [Thats cool, but how blinded are you wearing t...  54500.0   \n",
       "1  [The first thing I thought was \"hey look, actu...  10000.0   \n",
       "2  [Tron legacy is such an under rated film. Stor...   7700.0   \n",
       "3  [Art by [Josan Gonzalez!] (, ), Where do I go ...   7800.0   \n",
       "4  [I get a fallout vibe from it too. It's really...   7800.0   \n",
       "\n",
       "                                 image  Year  \n",
       "0                                 None  2020  \n",
       "1      https://i.imgur.com/enfw4eu.gif  2018  \n",
       "2  https://i.redd.it/yxomyotbcvd11.jpg  2018  \n",
       "3  https://i.redd.it/kkbznotq2t011.jpg  2018  \n",
       "4      https://i.imgur.com/z9PTmIl.jpg  2017  "
      ]
     },
     "execution_count": 66,
     "metadata": {},
     "output_type": "execute_result"
    }
   ],
   "source": [
    "reddit4.head()"
   ]
  },
  {
   "cell_type": "markdown",
   "metadata": {},
   "source": [
    "####  如需清洗 单元格内list子元素 可仿造 del_special 函数写法"
   ]
  },
  {
   "cell_type": "markdown",
   "metadata": {},
   "source": [
    "### reddit_data2"
   ]
  },
  {
   "cell_type": "code",
   "execution_count": 8,
   "metadata": {},
   "outputs": [
    {
     "data": {
      "text/html": [
       "<div>\n",
       "<style scoped>\n",
       "    .dataframe tbody tr th:only-of-type {\n",
       "        vertical-align: middle;\n",
       "    }\n",
       "\n",
       "    .dataframe tbody tr th {\n",
       "        vertical-align: top;\n",
       "    }\n",
       "\n",
       "    .dataframe thead th {\n",
       "        text-align: right;\n",
       "    }\n",
       "</style>\n",
       "<table border=\"1\" class=\"dataframe\">\n",
       "  <thead>\n",
       "    <tr style=\"text-align: right;\">\n",
       "      <th></th>\n",
       "      <th>title</th>\n",
       "      <th>date</th>\n",
       "      <th>text</th>\n",
       "      <th>Comment</th>\n",
       "      <th>vote</th>\n",
       "      <th>image</th>\n",
       "    </tr>\n",
       "  </thead>\n",
       "  <tbody>\n",
       "    <tr>\n",
       "      <th>0</th>\n",
       "      <td>Ordering pizza in the future [OC]</td>\n",
       "      <td>1 day ago</td>\n",
       "      <td>[]</td>\n",
       "      <td>[The past was black and white, the present is ...</td>\n",
       "      <td>3.0k</td>\n",
       "      <td>None</td>\n",
       "    </tr>\n",
       "    <tr>\n",
       "      <th>1</th>\n",
       "      <td>Neuromancer feels like Biopunk now</td>\n",
       "      <td>4 days ago</td>\n",
       "      <td>[I have read the Neuromancer for the second ti...</td>\n",
       "      <td>[I have read the Neuromancer for the second ti...</td>\n",
       "      <td>0</td>\n",
       "      <td>None</td>\n",
       "    </tr>\n",
       "    <tr>\n",
       "      <th>2</th>\n",
       "      <td>19th Trolley - a photo I took and edited in Vi...</td>\n",
       "      <td>5 days ago</td>\n",
       "      <td>[]</td>\n",
       "      <td>[\"19 Trūlikas\" - here's the latest cyber Vilni...</td>\n",
       "      <td>942</td>\n",
       "      <td>https://i.redd.it/ld5bw0mi3zg81.jpg</td>\n",
       "    </tr>\n",
       "    <tr>\n",
       "      <th>3</th>\n",
       "      <td>3D Arm design used for reference on my shortfilm</td>\n",
       "      <td>5 days ago</td>\n",
       "      <td>[]</td>\n",
       "      <td>[Just like Geno's and mega man., Full video: ,...</td>\n",
       "      <td>137</td>\n",
       "      <td>None</td>\n",
       "    </tr>\n",
       "    <tr>\n",
       "      <th>4</th>\n",
       "      <td>The future is now</td>\n",
       "      <td>5 days ago</td>\n",
       "      <td>[]</td>\n",
       "      <td>[What happened to this sub, Living in the 21st...</td>\n",
       "      <td>210</td>\n",
       "      <td>https://i.redd.it/niguawyr12h81.png</td>\n",
       "    </tr>\n",
       "  </tbody>\n",
       "</table>\n",
       "</div>"
      ],
      "text/plain": [
       "                                               title        date  \\\n",
       "0                  Ordering pizza in the future [OC]   1 day ago   \n",
       "1                 Neuromancer feels like Biopunk now  4 days ago   \n",
       "2  19th Trolley - a photo I took and edited in Vi...  5 days ago   \n",
       "3   3D Arm design used for reference on my shortfilm  5 days ago   \n",
       "4                                  The future is now  5 days ago   \n",
       "\n",
       "                                                text  \\\n",
       "0                                                 []   \n",
       "1  [I have read the Neuromancer for the second ti...   \n",
       "2                                                 []   \n",
       "3                                                 []   \n",
       "4                                                 []   \n",
       "\n",
       "                                             Comment  vote  \\\n",
       "0  [The past was black and white, the present is ...  3.0k   \n",
       "1  [I have read the Neuromancer for the second ti...     0   \n",
       "2  [\"19 Trūlikas\" - here's the latest cyber Vilni...   942   \n",
       "3  [Just like Geno's and mega man., Full video: ,...   137   \n",
       "4  [What happened to this sub, Living in the 21st...   210   \n",
       "\n",
       "                                 image  \n",
       "0                                 None  \n",
       "1                                 None  \n",
       "2  https://i.redd.it/ld5bw0mi3zg81.jpg  \n",
       "3                                 None  \n",
       "4  https://i.redd.it/niguawyr12h81.png  "
      ]
     },
     "execution_count": 8,
     "metadata": {},
     "output_type": "execute_result"
    }
   ],
   "source": [
    "reddit_data2=pd.read_json('data/reddit_data2.json')\n",
    "reddit_data2.head()"
   ]
  },
  {
   "cell_type": "code",
   "execution_count": 9,
   "metadata": {},
   "outputs": [
    {
     "data": {
      "text/html": [
       "<div>\n",
       "<style scoped>\n",
       "    .dataframe tbody tr th:only-of-type {\n",
       "        vertical-align: middle;\n",
       "    }\n",
       "\n",
       "    .dataframe tbody tr th {\n",
       "        vertical-align: top;\n",
       "    }\n",
       "\n",
       "    .dataframe thead th {\n",
       "        text-align: right;\n",
       "    }\n",
       "</style>\n",
       "<table border=\"1\" class=\"dataframe\">\n",
       "  <thead>\n",
       "    <tr style=\"text-align: right;\">\n",
       "      <th></th>\n",
       "      <th>title</th>\n",
       "      <th>date</th>\n",
       "      <th>text</th>\n",
       "      <th>Comment</th>\n",
       "      <th>vote</th>\n",
       "      <th>image</th>\n",
       "    </tr>\n",
       "  </thead>\n",
       "  <tbody>\n",
       "    <tr>\n",
       "      <th>0</th>\n",
       "      <td>Ordering pizza in the future [OC]</td>\n",
       "      <td>1 day ago</td>\n",
       "      <td>[]</td>\n",
       "      <td>[The past was black and white, the present is ...</td>\n",
       "      <td>3.0k</td>\n",
       "      <td>None</td>\n",
       "    </tr>\n",
       "    <tr>\n",
       "      <th>1</th>\n",
       "      <td>Neuromancer feels like Biopunk now</td>\n",
       "      <td>4 days ago</td>\n",
       "      <td>[I have read the Neuromancer for the second ti...</td>\n",
       "      <td>[I have read the Neuromancer for the second ti...</td>\n",
       "      <td>0</td>\n",
       "      <td>None</td>\n",
       "    </tr>\n",
       "    <tr>\n",
       "      <th>2</th>\n",
       "      <td>19th Trolley - a photo I took and edited in Vi...</td>\n",
       "      <td>5 days ago</td>\n",
       "      <td>[]</td>\n",
       "      <td>[\"19 Trūlikas\" - here's the latest cyber Vilni...</td>\n",
       "      <td>942</td>\n",
       "      <td>https://i.redd.it/ld5bw0mi3zg81.jpg</td>\n",
       "    </tr>\n",
       "    <tr>\n",
       "      <th>3</th>\n",
       "      <td>3D Arm design used for reference on my shortfilm</td>\n",
       "      <td>5 days ago</td>\n",
       "      <td>[]</td>\n",
       "      <td>[Just like Geno's and mega man., Full video: ,...</td>\n",
       "      <td>137</td>\n",
       "      <td>None</td>\n",
       "    </tr>\n",
       "    <tr>\n",
       "      <th>4</th>\n",
       "      <td>The future is now</td>\n",
       "      <td>5 days ago</td>\n",
       "      <td>[]</td>\n",
       "      <td>[What happened to this sub, Living in the 21st...</td>\n",
       "      <td>210</td>\n",
       "      <td>https://i.redd.it/niguawyr12h81.png</td>\n",
       "    </tr>\n",
       "    <tr>\n",
       "      <th>...</th>\n",
       "      <td>...</td>\n",
       "      <td>...</td>\n",
       "      <td>...</td>\n",
       "      <td>...</td>\n",
       "      <td>...</td>\n",
       "      <td>...</td>\n",
       "    </tr>\n",
       "    <tr>\n",
       "      <th>70</th>\n",
       "      <td>Lego Blade Runner 2049 Spinner</td>\n",
       "      <td>21 hours ago</td>\n",
       "      <td>[]</td>\n",
       "      <td>[If you want to build this too, here's the lin...</td>\n",
       "      <td>403</td>\n",
       "      <td>https://i.redd.it/n95f0ffhfth81.jpg</td>\n",
       "    </tr>\n",
       "    <tr>\n",
       "      <th>71</th>\n",
       "      <td>\"Syberpunk\" by YIJING WANG</td>\n",
       "      <td>1 hour ago</td>\n",
       "      <td>[]</td>\n",
       "      <td>[Members, Online]</td>\n",
       "      <td>Vote</td>\n",
       "      <td>None</td>\n",
       "    </tr>\n",
       "    <tr>\n",
       "      <th>72</th>\n",
       "      <td>Handmade cyberpunk statue off ebay</td>\n",
       "      <td>1 hour ago</td>\n",
       "      <td>[]</td>\n",
       "      <td>[bought this off a french seller - she makes t...</td>\n",
       "      <td>Vote</td>\n",
       "      <td>None</td>\n",
       "    </tr>\n",
       "    <tr>\n",
       "      <th>73</th>\n",
       "      <td>I was making a trailer for my Cyberpunk RED tt...</td>\n",
       "      <td>11 hours ago</td>\n",
       "      <td>[]</td>\n",
       "      <td>[Breaking CR law is cyberpunk as hell, Can't s...</td>\n",
       "      <td>178</td>\n",
       "      <td>None</td>\n",
       "    </tr>\n",
       "    <tr>\n",
       "      <th>74</th>\n",
       "      <td>Connected?</td>\n",
       "      <td>4 hours ago</td>\n",
       "      <td>[]</td>\n",
       "      <td>[Nice!, Thanks :), If someone is interested an...</td>\n",
       "      <td>78</td>\n",
       "      <td>https://i.redd.it/mholcfp7myh81.png</td>\n",
       "    </tr>\n",
       "  </tbody>\n",
       "</table>\n",
       "<p>75 rows × 6 columns</p>\n",
       "</div>"
      ],
      "text/plain": [
       "                                                title          date  \\\n",
       "0                   Ordering pizza in the future [OC]     1 day ago   \n",
       "1                  Neuromancer feels like Biopunk now    4 days ago   \n",
       "2   19th Trolley - a photo I took and edited in Vi...    5 days ago   \n",
       "3    3D Arm design used for reference on my shortfilm    5 days ago   \n",
       "4                                   The future is now    5 days ago   \n",
       "..                                                ...           ...   \n",
       "70                     Lego Blade Runner 2049 Spinner  21 hours ago   \n",
       "71                         \"Syberpunk\" by YIJING WANG    1 hour ago   \n",
       "72                 Handmade cyberpunk statue off ebay    1 hour ago   \n",
       "73  I was making a trailer for my Cyberpunk RED tt...  11 hours ago   \n",
       "74                                         Connected?   4 hours ago   \n",
       "\n",
       "                                                 text  \\\n",
       "0                                                  []   \n",
       "1   [I have read the Neuromancer for the second ti...   \n",
       "2                                                  []   \n",
       "3                                                  []   \n",
       "4                                                  []   \n",
       "..                                                ...   \n",
       "70                                                 []   \n",
       "71                                                 []   \n",
       "72                                                 []   \n",
       "73                                                 []   \n",
       "74                                                 []   \n",
       "\n",
       "                                              Comment  vote  \\\n",
       "0   [The past was black and white, the present is ...  3.0k   \n",
       "1   [I have read the Neuromancer for the second ti...     0   \n",
       "2   [\"19 Trūlikas\" - here's the latest cyber Vilni...   942   \n",
       "3   [Just like Geno's and mega man., Full video: ,...   137   \n",
       "4   [What happened to this sub, Living in the 21st...   210   \n",
       "..                                                ...   ...   \n",
       "70  [If you want to build this too, here's the lin...   403   \n",
       "71                                  [Members, Online]  Vote   \n",
       "72  [bought this off a french seller - she makes t...  Vote   \n",
       "73  [Breaking CR law is cyberpunk as hell, Can't s...   178   \n",
       "74  [Nice!, Thanks :), If someone is interested an...    78   \n",
       "\n",
       "                                  image  \n",
       "0                                  None  \n",
       "1                                  None  \n",
       "2   https://i.redd.it/ld5bw0mi3zg81.jpg  \n",
       "3                                  None  \n",
       "4   https://i.redd.it/niguawyr12h81.png  \n",
       "..                                  ...  \n",
       "70  https://i.redd.it/n95f0ffhfth81.jpg  \n",
       "71                                 None  \n",
       "72                                 None  \n",
       "73                                 None  \n",
       "74  https://i.redd.it/mholcfp7myh81.png  \n",
       "\n",
       "[75 rows x 6 columns]"
      ]
     },
     "execution_count": 9,
     "metadata": {},
     "output_type": "execute_result"
    }
   ],
   "source": [
    "reddit_data2"
   ]
  },
  {
   "cell_type": "code",
   "execution_count": 133,
   "metadata": {},
   "outputs": [],
   "source": [
    "reddit_data2['date']=reddit_data2.apply(lambda x : reddit_date_clean(x['date']),axis=1)\n",
    "reddit_data2['vote']=reddit_data2.apply(lambda x : k_to_num(x['vote']),axis=1)\n",
    "reddit_data2['Comment']=reddit_data2.apply(lambda x : del_special(x['Comment']),axis=1)"
   ]
  },
  {
   "cell_type": "code",
   "execution_count": 134,
   "metadata": {},
   "outputs": [],
   "source": [
    "reddit_data2['date']=pd.to_datetime(reddit_data2['date'], format='%Y-%m-%d')"
   ]
  },
  {
   "cell_type": "code",
   "execution_count": 135,
   "metadata": {},
   "outputs": [
    {
     "name": "stdout",
     "output_type": "stream",
     "text": [
      "<class 'pandas.core.frame.DataFrame'>\n",
      "RangeIndex: 75 entries, 0 to 74\n",
      "Data columns (total 6 columns):\n",
      " #   Column   Non-Null Count  Dtype         \n",
      "---  ------   --------------  -----         \n",
      " 0   title    75 non-null     object        \n",
      " 1   date     75 non-null     datetime64[ns]\n",
      " 2   text     75 non-null     object        \n",
      " 3   Comment  75 non-null     object        \n",
      " 4   vote     75 non-null     float64       \n",
      " 5   image    26 non-null     object        \n",
      "dtypes: datetime64[ns](1), float64(1), object(4)\n",
      "memory usage: 3.6+ KB\n"
     ]
    }
   ],
   "source": [
    "reddit_data2.info()"
   ]
  },
  {
   "cell_type": "code",
   "execution_count": 136,
   "metadata": {},
   "outputs": [
    {
     "data": {
      "text/plain": [
       "2022    75\n",
       "Name: Year, dtype: int64"
      ]
     },
     "execution_count": 136,
     "metadata": {},
     "output_type": "execute_result"
    }
   ],
   "source": [
    "reddit_data2['Year'] = reddit_data2['date'].dt.year \n",
    "reddit_data2['Year'].value_counts()"
   ]
  },
  {
   "cell_type": "code",
   "execution_count": 137,
   "metadata": {},
   "outputs": [
    {
     "data": {
      "image/png": "[encoded data removed]",
      "text/plain": [
       "<Figure size 720x360 with 1 Axes>"
      ]
     },
     "metadata": {
      "needs_background": "light"
     },
     "output_type": "display_data"
    }
   ],
   "source": [
    "plt.figure(figsize=(10,5))\n",
    "sns.distplot(reddit_data2['Year'],bins=20,hist_kws={\"color\":\"steelblue\"})\n",
    "plt.title(\"reddit_data2_kde\")\n",
    "plt.show()"
   ]
  },
  {
   "cell_type": "code",
   "execution_count": 47,
   "metadata": {},
   "outputs": [],
   "source": [
    "#reddit_data2.drop('Year',axis=1,inplace=True)"
   ]
  },
  {
   "cell_type": "code",
   "execution_count": 138,
   "metadata": {},
   "outputs": [],
   "source": [
    "reddit_data2.to_csv('result/csv/reddit_data2.csv')# 存储为csv格式\n",
    "reddit_data2.to_json('result/json/reddit_data2.json',orient='records')#"
   ]
  },
  {
   "cell_type": "markdown",
   "metadata": {},
   "source": [
    "#### 处理步骤同 reddit4"
   ]
  },
  {
   "cell_type": "markdown",
   "metadata": {},
   "source": [
    "### reddit_data3"
   ]
  },
  {
   "cell_type": "code",
   "execution_count": 139,
   "metadata": {},
   "outputs": [
    {
     "data": {
      "text/html": [
       "<div>\n",
       "<style scoped>\n",
       "    .dataframe tbody tr th:only-of-type {\n",
       "        vertical-align: middle;\n",
       "    }\n",
       "\n",
       "    .dataframe tbody tr th {\n",
       "        vertical-align: top;\n",
       "    }\n",
       "\n",
       "    .dataframe thead th {\n",
       "        text-align: right;\n",
       "    }\n",
       "</style>\n",
       "<table border=\"1\" class=\"dataframe\">\n",
       "  <thead>\n",
       "    <tr style=\"text-align: right;\">\n",
       "      <th></th>\n",
       "      <th>title</th>\n",
       "      <th>date</th>\n",
       "      <th>text</th>\n",
       "      <th>Comment</th>\n",
       "      <th>vote</th>\n",
       "      <th>image</th>\n",
       "    </tr>\n",
       "  </thead>\n",
       "  <tbody>\n",
       "    <tr>\n",
       "      <th>0</th>\n",
       "      <td>[Announcement] -- Saturdays are now officially...</td>\n",
       "      <td>6 years ago</td>\n",
       "      <td>[We want fresh, new content, original content ...</td>\n",
       "      <td>[We want fresh, new content, original content ...</td>\n",
       "      <td>202</td>\n",
       "      <td>None</td>\n",
       "    </tr>\n",
       "    <tr>\n",
       "      <th>1</th>\n",
       "      <td>Some art for my upcoming indie video game wher...</td>\n",
       "      <td>3 days ago</td>\n",
       "      <td>[Not enough is known about the plot of the mov...</td>\n",
       "      <td>[Looks dope as heeeell!, Love the color scheme...</td>\n",
       "      <td>901</td>\n",
       "      <td>None</td>\n",
       "    </tr>\n",
       "    <tr>\n",
       "      <th>2</th>\n",
       "      <td>My amazing boyfriend just posted a short scifi...</td>\n",
       "      <td>3 days ago</td>\n",
       "      <td>[Not enough is known about the plot of the mov...</td>\n",
       "      <td>[I think it's really lovely you promoting him ...</td>\n",
       "      <td>83</td>\n",
       "      <td>None</td>\n",
       "    </tr>\n",
       "    <tr>\n",
       "      <th>3</th>\n",
       "      <td>[SPS] I make composites of 'dystopian' picture...</td>\n",
       "      <td>2 days ago</td>\n",
       "      <td>[As a scifi writer, I don't write 'dystopian s...</td>\n",
       "      <td>[As a scifi writer, I don't write 'dystopian s...</td>\n",
       "      <td>1</td>\n",
       "      <td>https://inkican.com/okay-you-can-stop-writing-...</td>\n",
       "    </tr>\n",
       "    <tr>\n",
       "      <th>4</th>\n",
       "      <td>Looking for a recommendation</td>\n",
       "      <td>2 days ago</td>\n",
       "      <td>[One of my favorite books is Gone World by Tom...</td>\n",
       "      <td>[One of my favorite books is Gone World by Tom...</td>\n",
       "      <td>2</td>\n",
       "      <td>None</td>\n",
       "    </tr>\n",
       "  </tbody>\n",
       "</table>\n",
       "</div>"
      ],
      "text/plain": [
       "                                               title         date  \\\n",
       "0  [Announcement] -- Saturdays are now officially...  6 years ago   \n",
       "1  Some art for my upcoming indie video game wher...   3 days ago   \n",
       "2  My amazing boyfriend just posted a short scifi...   3 days ago   \n",
       "3  [SPS] I make composites of 'dystopian' picture...   2 days ago   \n",
       "4                       Looking for a recommendation   2 days ago   \n",
       "\n",
       "                                                text  \\\n",
       "0  [We want fresh, new content, original content ...   \n",
       "1  [Not enough is known about the plot of the mov...   \n",
       "2  [Not enough is known about the plot of the mov...   \n",
       "3  [As a scifi writer, I don't write 'dystopian s...   \n",
       "4  [One of my favorite books is Gone World by Tom...   \n",
       "\n",
       "                                             Comment vote  \\\n",
       "0  [We want fresh, new content, original content ...  202   \n",
       "1  [Looks dope as heeeell!, Love the color scheme...  901   \n",
       "2  [I think it's really lovely you promoting him ...   83   \n",
       "3  [As a scifi writer, I don't write 'dystopian s...    1   \n",
       "4  [One of my favorite books is Gone World by Tom...    2   \n",
       "\n",
       "                                               image  \n",
       "0                                               None  \n",
       "1                                               None  \n",
       "2                                               None  \n",
       "3  https://inkican.com/okay-you-can-stop-writing-...  \n",
       "4                                               None  "
      ]
     },
     "execution_count": 139,
     "metadata": {},
     "output_type": "execute_result"
    }
   ],
   "source": [
    "reddit_data3=pd.read_json('data/reddit_data3.json')\n",
    "reddit_data3.head()"
   ]
  },
  {
   "cell_type": "code",
   "execution_count": 140,
   "metadata": {},
   "outputs": [
    {
     "data": {
      "text/plain": [
       "2 days ago      7\n",
       "1 day ago       5\n",
       "3 days ago      3\n",
       "5 hours ago     2\n",
       "6 years ago     1\n",
       "22 hours ago    1\n",
       "15 hours ago    1\n",
       "9 hours ago     1\n",
       "8 hours ago     1\n",
       "4 hours ago     1\n",
       "13 hours ago    1\n",
       "1 hour ago      1\n",
       "11 hours ago    1\n",
       "14 hours ago    1\n",
       "Name: date, dtype: int64"
      ]
     },
     "execution_count": 140,
     "metadata": {},
     "output_type": "execute_result"
    }
   ],
   "source": [
    "reddit_data3['date'].value_counts()"
   ]
  },
  {
   "cell_type": "code",
   "execution_count": 141,
   "metadata": {},
   "outputs": [],
   "source": [
    "reddit_data3['date']=reddit_data3.apply(lambda x : reddit_date_clean(x['date']),axis=1)\n",
    "reddit_data3['vote']=reddit_data3.apply(lambda x : k_to_num(x['vote']),axis=1)\n",
    "reddit_data3['Comment']=reddit_data3.apply(lambda x : del_special(x['Comment']),axis=1)"
   ]
  },
  {
   "cell_type": "code",
   "execution_count": 142,
   "metadata": {},
   "outputs": [],
   "source": [
    "reddit_data3['date']=pd.to_datetime(reddit_data2['date'], format='%Y-%m-%d')"
   ]
  },
  {
   "cell_type": "code",
   "execution_count": 143,
   "metadata": {},
   "outputs": [
    {
     "name": "stdout",
     "output_type": "stream",
     "text": [
      "<class 'pandas.core.frame.DataFrame'>\n",
      "RangeIndex: 27 entries, 0 to 26\n",
      "Data columns (total 6 columns):\n",
      " #   Column   Non-Null Count  Dtype         \n",
      "---  ------   --------------  -----         \n",
      " 0   title    27 non-null     object        \n",
      " 1   date     27 non-null     datetime64[ns]\n",
      " 2   text     27 non-null     object        \n",
      " 3   Comment  27 non-null     object        \n",
      " 4   vote     27 non-null     float64       \n",
      " 5   image    1 non-null      object        \n",
      "dtypes: datetime64[ns](1), float64(1), object(4)\n",
      "memory usage: 1.4+ KB\n"
     ]
    }
   ],
   "source": [
    "reddit_data3.info()"
   ]
  },
  {
   "cell_type": "code",
   "execution_count": 144,
   "metadata": {},
   "outputs": [
    {
     "data": {
      "text/plain": [
       "2022    27\n",
       "Name: Year, dtype: int64"
      ]
     },
     "execution_count": 144,
     "metadata": {},
     "output_type": "execute_result"
    }
   ],
   "source": [
    "reddit_data3['Year'] = reddit_data3['date'].dt.year \n",
    "reddit_data3['Year'].value_counts()"
   ]
  },
  {
   "cell_type": "code",
   "execution_count": 145,
   "metadata": {},
   "outputs": [
    {
     "data": {
      "image/png": "[encoded data removed]",
      "text/plain": [
       "<Figure size 720x360 with 1 Axes>"
      ]
     },
     "metadata": {
      "needs_background": "light"
     },
     "output_type": "display_data"
    }
   ],
   "source": [
    "plt.figure(figsize=(10,5))\n",
    "sns.distplot(reddit_data3['Year'],bins=20,hist_kws={\"color\":\"steelblue\"})\n",
    "plt.title(\"reddit_data3_kde\")\n",
    "plt.show()"
   ]
  },
  {
   "cell_type": "code",
   "execution_count": 56,
   "metadata": {},
   "outputs": [],
   "source": [
    "#reddit_data3.drop('Year',axis=1,inplace=True)"
   ]
  },
  {
   "cell_type": "code",
   "execution_count": 147,
   "metadata": {},
   "outputs": [],
   "source": [
    "reddit_data3.to_csv('result/csv/reddit_data3.csv')# 存储为csv格式\n",
    "reddit_data3.to_json('result/json/reddit_data3.json',orient='records')#"
   ]
  },
  {
   "cell_type": "markdown",
   "metadata": {},
   "source": [
    "#### 处理步骤同 reddit4"
   ]
  },
  {
   "cell_type": "markdown",
   "metadata": {},
   "source": [
    "### sffchronicles"
   ]
  },
  {
   "cell_type": "code",
   "execution_count": 148,
   "metadata": {},
   "outputs": [
    {
     "data": {
      "text/html": [
       "<div>\n",
       "<style scoped>\n",
       "    .dataframe tbody tr th:only-of-type {\n",
       "        vertical-align: middle;\n",
       "    }\n",
       "\n",
       "    .dataframe tbody tr th {\n",
       "        vertical-align: top;\n",
       "    }\n",
       "\n",
       "    .dataframe thead th {\n",
       "        text-align: right;\n",
       "    }\n",
       "</style>\n",
       "<table border=\"1\" class=\"dataframe\">\n",
       "  <thead>\n",
       "    <tr style=\"text-align: right;\">\n",
       "      <th></th>\n",
       "      <th>title</th>\n",
       "      <th>name</th>\n",
       "      <th>time</th>\n",
       "      <th>forum</th>\n",
       "      <th>text</th>\n",
       "      <th>message</th>\n",
       "    </tr>\n",
       "  </thead>\n",
       "  <tbody>\n",
       "    <tr>\n",
       "      <th>0</th>\n",
       "      <td>What did you blog about today?</td>\n",
       "      <td>bretbernhoft</td>\n",
       "      <td>Feb 21, 2022</td>\n",
       "      <td>SFF Lounge</td>\n",
       "      <td>I am still, slowly writing an article on the p...</td>\n",
       "      <td>27</td>\n",
       "    </tr>\n",
       "    <tr>\n",
       "      <th>1</th>\n",
       "      <td>What did you blog about today?</td>\n",
       "      <td>Wayne Mack</td>\n",
       "      <td>Feb 21, 2022</td>\n",
       "      <td>Writing Discussion</td>\n",
       "      <td>I just recently watched \"Alita: Battle Angel,\"...</td>\n",
       "      <td>836</td>\n",
       "    </tr>\n",
       "    <tr>\n",
       "      <th>2</th>\n",
       "      <td>What did you blog about today?</td>\n",
       "      <td>WSDuffy</td>\n",
       "      <td>Feb 21, 2022</td>\n",
       "      <td>Critiques</td>\n",
       "      <td>Thank you for sharing this. My notes below</td>\n",
       "      <td>70</td>\n",
       "    </tr>\n",
       "    <tr>\n",
       "      <th>3</th>\n",
       "      <td>What did you blog about today?</td>\n",
       "      <td>ctg</td>\n",
       "      <td>Feb 21, 2022</td>\n",
       "      <td>The Mandalorian &amp; Book of Boba Fett</td>\n",
       "      <td>First of all, a small confession, I do not con...</td>\n",
       "      <td>8,719</td>\n",
       "    </tr>\n",
       "    <tr>\n",
       "      <th>4</th>\n",
       "      <td>What did you blog about today?</td>\n",
       "      <td>tobl</td>\n",
       "      <td>Feb 21, 2022</td>\n",
       "      <td>Book Discussion</td>\n",
       "      <td>you mean like that stupid psychological prison...</td>\n",
       "      <td>1,296</td>\n",
       "    </tr>\n",
       "  </tbody>\n",
       "</table>\n",
       "</div>"
      ],
      "text/plain": [
       "                            title          name          time  \\\n",
       "0  What did you blog about today?  bretbernhoft  Feb 21, 2022   \n",
       "1  What did you blog about today?    Wayne Mack  Feb 21, 2022   \n",
       "2  What did you blog about today?       WSDuffy  Feb 21, 2022   \n",
       "3  What did you blog about today?           ctg  Feb 21, 2022   \n",
       "4  What did you blog about today?          tobl  Feb 21, 2022   \n",
       "\n",
       "                                 forum  \\\n",
       "0                           SFF Lounge   \n",
       "1                   Writing Discussion   \n",
       "2                            Critiques   \n",
       "3  The Mandalorian & Book of Boba Fett   \n",
       "4                      Book Discussion   \n",
       "\n",
       "                                                text message  \n",
       "0  I am still, slowly writing an article on the p...      27  \n",
       "1  I just recently watched \"Alita: Battle Angel,\"...     836  \n",
       "2         Thank you for sharing this. My notes below      70  \n",
       "3  First of all, a small confession, I do not con...   8,719  \n",
       "4  you mean like that stupid psychological prison...   1,296  "
      ]
     },
     "execution_count": 148,
     "metadata": {},
     "output_type": "execute_result"
    }
   ],
   "source": [
    "sffchronicles=pd.read_json('data/sffchronicles.json')\n",
    "sffchronicles.head()"
   ]
  },
  {
   "cell_type": "code",
   "execution_count": 149,
   "metadata": {},
   "outputs": [
    {
     "name": "stdout",
     "output_type": "stream",
     "text": [
      "<class 'pandas.core.frame.DataFrame'>\n",
      "RangeIndex: 176 entries, 0 to 175\n",
      "Data columns (total 6 columns):\n",
      " #   Column   Non-Null Count  Dtype \n",
      "---  ------   --------------  ----- \n",
      " 0   title    176 non-null    object\n",
      " 1   name     176 non-null    object\n",
      " 2   time     176 non-null    object\n",
      " 3   forum    176 non-null    object\n",
      " 4   text     176 non-null    object\n",
      " 5   message  176 non-null    object\n",
      "dtypes: object(6)\n",
      "memory usage: 8.4+ KB\n"
     ]
    }
   ],
   "source": [
    "sffchronicles.info()"
   ]
  },
  {
   "cell_type": "code",
   "execution_count": 150,
   "metadata": {},
   "outputs": [],
   "source": [
    "sffchronicles['time']=sffchronicles.apply(lambda x : datetime.datetime.strptime(x['time'],\"%b %d, %Y\").strftime('%Y-%m-%d'),axis=1)"
   ]
  },
  {
   "cell_type": "code",
   "execution_count": 151,
   "metadata": {},
   "outputs": [],
   "source": [
    "sffchronicles['time']=pd.to_datetime(sffchronicles['time'], format='%Y-%m-%d')"
   ]
  },
  {
   "cell_type": "code",
   "execution_count": 152,
   "metadata": {},
   "outputs": [],
   "source": [
    "sffchronicles['message']=sffchronicles.apply(lambda x : int(x['message'].replace(',','')),axis=1)"
   ]
  },
  {
   "cell_type": "code",
   "execution_count": 153,
   "metadata": {},
   "outputs": [],
   "source": [
    "sffchronicles['text']=sffchronicles.apply(lambda x : x['text'].replace('\\n','').replace('\\t',''),axis=1)"
   ]
  },
  {
   "cell_type": "code",
   "execution_count": 154,
   "metadata": {},
   "outputs": [
    {
     "data": {
      "text/plain": [
       "2022    176\n",
       "Name: Year, dtype: int64"
      ]
     },
     "execution_count": 154,
     "metadata": {},
     "output_type": "execute_result"
    }
   ],
   "source": [
    "sffchronicles['Year'] = sffchronicles['time'].dt.year \n",
    "sffchronicles['Year'].value_counts()"
   ]
  },
  {
   "cell_type": "code",
   "execution_count": 155,
   "metadata": {},
   "outputs": [
    {
     "data": {
      "image/png": "[encoded data removed]",
      "text/plain": [
       "<Figure size 720x360 with 1 Axes>"
      ]
     },
     "metadata": {
      "needs_background": "light"
     },
     "output_type": "display_data"
    }
   ],
   "source": [
    "plt.figure(figsize=(10,5))\n",
    "sns.distplot(sffchronicles['Year'],bins=20,hist_kws={\"color\":\"steelblue\"})\n",
    "plt.title(\"sffchronicles_kde\")\n",
    "plt.show()"
   ]
  },
  {
   "cell_type": "code",
   "execution_count": 66,
   "metadata": {},
   "outputs": [],
   "source": [
    "#sffchronicles.drop('Year',axis=1,inplace=True)"
   ]
  },
  {
   "cell_type": "code",
   "execution_count": 67,
   "metadata": {},
   "outputs": [
    {
     "data": {
      "text/html": [
       "<div>\n",
       "<style scoped>\n",
       "    .dataframe tbody tr th:only-of-type {\n",
       "        vertical-align: middle;\n",
       "    }\n",
       "\n",
       "    .dataframe tbody tr th {\n",
       "        vertical-align: top;\n",
       "    }\n",
       "\n",
       "    .dataframe thead th {\n",
       "        text-align: right;\n",
       "    }\n",
       "</style>\n",
       "<table border=\"1\" class=\"dataframe\">\n",
       "  <thead>\n",
       "    <tr style=\"text-align: right;\">\n",
       "      <th></th>\n",
       "      <th>title</th>\n",
       "      <th>name</th>\n",
       "      <th>time</th>\n",
       "      <th>forum</th>\n",
       "      <th>text</th>\n",
       "      <th>message</th>\n",
       "    </tr>\n",
       "  </thead>\n",
       "  <tbody>\n",
       "    <tr>\n",
       "      <th>0</th>\n",
       "      <td>What did you blog about today?</td>\n",
       "      <td>bretbernhoft</td>\n",
       "      <td>2022-02-21</td>\n",
       "      <td>SFF Lounge</td>\n",
       "      <td>I am still, slowly writing an article on the p...</td>\n",
       "      <td>27</td>\n",
       "    </tr>\n",
       "    <tr>\n",
       "      <th>1</th>\n",
       "      <td>What did you blog about today?</td>\n",
       "      <td>Wayne Mack</td>\n",
       "      <td>2022-02-21</td>\n",
       "      <td>Writing Discussion</td>\n",
       "      <td>I just recently watched \"Alita: Battle Angel,\"...</td>\n",
       "      <td>836</td>\n",
       "    </tr>\n",
       "    <tr>\n",
       "      <th>2</th>\n",
       "      <td>What did you blog about today?</td>\n",
       "      <td>WSDuffy</td>\n",
       "      <td>2022-02-21</td>\n",
       "      <td>Critiques</td>\n",
       "      <td>Thank you for sharing this. My notes below</td>\n",
       "      <td>70</td>\n",
       "    </tr>\n",
       "    <tr>\n",
       "      <th>3</th>\n",
       "      <td>What did you blog about today?</td>\n",
       "      <td>ctg</td>\n",
       "      <td>2022-02-21</td>\n",
       "      <td>The Mandalorian &amp; Book of Boba Fett</td>\n",
       "      <td>First of all, a small confession, I do not con...</td>\n",
       "      <td>8719</td>\n",
       "    </tr>\n",
       "    <tr>\n",
       "      <th>4</th>\n",
       "      <td>What did you blog about today?</td>\n",
       "      <td>tobl</td>\n",
       "      <td>2022-02-21</td>\n",
       "      <td>Book Discussion</td>\n",
       "      <td>you mean like that stupid psychological prison...</td>\n",
       "      <td>1296</td>\n",
       "    </tr>\n",
       "    <tr>\n",
       "      <th>...</th>\n",
       "      <td>...</td>\n",
       "      <td>...</td>\n",
       "      <td>...</td>\n",
       "      <td>...</td>\n",
       "      <td>...</td>\n",
       "      <td>...</td>\n",
       "    </tr>\n",
       "    <tr>\n",
       "      <th>171</th>\n",
       "      <td>Why do people say things like this?  Fandom or...</td>\n",
       "      <td>Star-child</td>\n",
       "      <td>2022-02-21</td>\n",
       "      <td>Book Discussion</td>\n",
       "      <td>Urban fantasy seems to be similar to the inter...</td>\n",
       "      <td>479</td>\n",
       "    </tr>\n",
       "    <tr>\n",
       "      <th>172</th>\n",
       "      <td>Why do people say things like this?  Fandom or...</td>\n",
       "      <td>Star-child</td>\n",
       "      <td>2022-02-21</td>\n",
       "      <td>Book Discussion</td>\n",
       "      <td>You can find those subjects going back to the ...</td>\n",
       "      <td>479</td>\n",
       "    </tr>\n",
       "    <tr>\n",
       "      <th>173</th>\n",
       "      <td>Why do people say things like this?  Fandom or...</td>\n",
       "      <td>Serendipity</td>\n",
       "      <td>2022-02-21</td>\n",
       "      <td>Book Discussion</td>\n",
       "      <td>Science fiction themes tend to be cumulative i...</td>\n",
       "      <td>1254</td>\n",
       "    </tr>\n",
       "    <tr>\n",
       "      <th>174</th>\n",
       "      <td>Why do people say things like this?  Fandom or...</td>\n",
       "      <td>Randy M.</td>\n",
       "      <td>2022-02-21</td>\n",
       "      <td>Book Discussion</td>\n",
       "      <td></td>\n",
       "      <td>2136</td>\n",
       "    </tr>\n",
       "    <tr>\n",
       "      <th>175</th>\n",
       "      <td>Why do people say things like this?  Fandom or...</td>\n",
       "      <td>ctg</td>\n",
       "      <td>2022-02-21</td>\n",
       "      <td>General TV Discussion</td>\n",
       "      <td></td>\n",
       "      <td>8719</td>\n",
       "    </tr>\n",
       "  </tbody>\n",
       "</table>\n",
       "<p>176 rows × 6 columns</p>\n",
       "</div>"
      ],
      "text/plain": [
       "                                                 title          name  \\\n",
       "0                       What did you blog about today?  bretbernhoft   \n",
       "1                       What did you blog about today?    Wayne Mack   \n",
       "2                       What did you blog about today?       WSDuffy   \n",
       "3                       What did you blog about today?           ctg   \n",
       "4                       What did you blog about today?          tobl   \n",
       "..                                                 ...           ...   \n",
       "171  Why do people say things like this?  Fandom or...    Star-child   \n",
       "172  Why do people say things like this?  Fandom or...    Star-child   \n",
       "173  Why do people say things like this?  Fandom or...   Serendipity   \n",
       "174  Why do people say things like this?  Fandom or...      Randy M.   \n",
       "175  Why do people say things like this?  Fandom or...           ctg   \n",
       "\n",
       "          time                                forum  \\\n",
       "0   2022-02-21                           SFF Lounge   \n",
       "1   2022-02-21                   Writing Discussion   \n",
       "2   2022-02-21                            Critiques   \n",
       "3   2022-02-21  The Mandalorian & Book of Boba Fett   \n",
       "4   2022-02-21                      Book Discussion   \n",
       "..         ...                                  ...   \n",
       "171 2022-02-21                      Book Discussion   \n",
       "172 2022-02-21                      Book Discussion   \n",
       "173 2022-02-21                      Book Discussion   \n",
       "174 2022-02-21                      Book Discussion   \n",
       "175 2022-02-21                General TV Discussion   \n",
       "\n",
       "                                                  text  message  \n",
       "0    I am still, slowly writing an article on the p...       27  \n",
       "1    I just recently watched \"Alita: Battle Angel,\"...      836  \n",
       "2           Thank you for sharing this. My notes below       70  \n",
       "3    First of all, a small confession, I do not con...     8719  \n",
       "4    you mean like that stupid psychological prison...     1296  \n",
       "..                                                 ...      ...  \n",
       "171  Urban fantasy seems to be similar to the inter...      479  \n",
       "172  You can find those subjects going back to the ...      479  \n",
       "173  Science fiction themes tend to be cumulative i...     1254  \n",
       "174                                                        2136  \n",
       "175                                                        8719  \n",
       "\n",
       "[176 rows x 6 columns]"
      ]
     },
     "execution_count": 67,
     "metadata": {},
     "output_type": "execute_result"
    }
   ],
   "source": [
    "sffchronicles"
   ]
  },
  {
   "cell_type": "code",
   "execution_count": 156,
   "metadata": {},
   "outputs": [],
   "source": [
    "sffchronicles.to_csv('result/csv/sffchronicles.csv')# 存储为csv格式\n",
    "sffchronicles.to_json('result/json/sffchronicles.json',orient='records')#"
   ]
  },
  {
   "cell_type": "markdown",
   "metadata": {},
   "source": [
    "#### 处理完毕"
   ]
  },
  {
   "cell_type": "markdown",
   "metadata": {},
   "source": [
    "### sffworld"
   ]
  },
  {
   "cell_type": "code",
   "execution_count": 157,
   "metadata": {},
   "outputs": [
    {
     "data": {
      "text/html": [
       "<div>\n",
       "<style scoped>\n",
       "    .dataframe tbody tr th:only-of-type {\n",
       "        vertical-align: middle;\n",
       "    }\n",
       "\n",
       "    .dataframe tbody tr th {\n",
       "        vertical-align: top;\n",
       "    }\n",
       "\n",
       "    .dataframe thead th {\n",
       "        text-align: right;\n",
       "    }\n",
       "</style>\n",
       "<table border=\"1\" class=\"dataframe\">\n",
       "  <thead>\n",
       "    <tr style=\"text-align: right;\">\n",
       "      <th></th>\n",
       "      <th>username</th>\n",
       "      <th>date</th>\n",
       "      <th>title</th>\n",
       "      <th>replies</th>\n",
       "      <th>views</th>\n",
       "      <th>text</th>\n",
       "    </tr>\n",
       "  </thead>\n",
       "  <tbody>\n",
       "    <tr>\n",
       "      <th>0</th>\n",
       "      <td>nposecznick</td>\n",
       "      <td>2016-01-15</td>\n",
       "      <td>Novels with Shadowrun-like setting?</td>\n",
       "      <td>0</td>\n",
       "      <td>74</td>\n",
       "      <td>I was wondering if any of you could recommend ...</td>\n",
       "    </tr>\n",
       "    <tr>\n",
       "      <th>1</th>\n",
       "      <td>SFFWorld</td>\n",
       "      <td>2021-10-12</td>\n",
       "      <td>New post - A SPINDLE SPLINTERED by Alix E. Har...</td>\n",
       "      <td>6</td>\n",
       "      <td>248</td>\n",
       "      <td>Alix Harrow is a writer whose work has shown t...</td>\n",
       "    </tr>\n",
       "    <tr>\n",
       "      <th>2</th>\n",
       "      <td>KatG</td>\n",
       "      <td>2021-01-28</td>\n",
       "      <td>Authors We've Lost -- Storm Constantine and An...</td>\n",
       "      <td>6</td>\n",
       "      <td>359</td>\n",
       "      <td>I meant to get something up on this earlier, b...</td>\n",
       "    </tr>\n",
       "    <tr>\n",
       "      <th>3</th>\n",
       "      <td>SFFWorld</td>\n",
       "      <td>2020-11-03</td>\n",
       "      <td>New post - THE ONCE AND FUTURE WITCHES by Alix...</td>\n",
       "      <td>3</td>\n",
       "      <td>274</td>\n",
       "      <td>Sisterhood. Women’s rights. Personhood. Witche...</td>\n",
       "    </tr>\n",
       "    <tr>\n",
       "      <th>4</th>\n",
       "      <td>Sfinx</td>\n",
       "      <td>2020-07-23</td>\n",
       "      <td>Tips for summer holiday reading?</td>\n",
       "      <td>14</td>\n",
       "      <td>746</td>\n",
       "      <td>Hey all, \\n\\nLeaving soon for a couple of week...</td>\n",
       "    </tr>\n",
       "  </tbody>\n",
       "</table>\n",
       "</div>"
      ],
      "text/plain": [
       "      username       date                                              title  \\\n",
       "0  nposecznick 2016-01-15                Novels with Shadowrun-like setting?   \n",
       "1     SFFWorld 2021-10-12  New post - A SPINDLE SPLINTERED by Alix E. Har...   \n",
       "2         KatG 2021-01-28  Authors We've Lost -- Storm Constantine and An...   \n",
       "3     SFFWorld 2020-11-03  New post - THE ONCE AND FUTURE WITCHES by Alix...   \n",
       "4        Sfinx 2020-07-23                   Tips for summer holiday reading?   \n",
       "\n",
       "   replies  views                                               text  \n",
       "0        0     74  I was wondering if any of you could recommend ...  \n",
       "1        6    248  Alix Harrow is a writer whose work has shown t...  \n",
       "2        6    359  I meant to get something up on this earlier, b...  \n",
       "3        3    274  Sisterhood. Women’s rights. Personhood. Witche...  \n",
       "4       14    746  Hey all, \\n\\nLeaving soon for a couple of week...  "
      ]
     },
     "execution_count": 157,
     "metadata": {},
     "output_type": "execute_result"
    }
   ],
   "source": [
    "sffworld=pd.read_json('data/sffworld.json')\n",
    "sffworld.head()"
   ]
  },
  {
   "cell_type": "code",
   "execution_count": 158,
   "metadata": {},
   "outputs": [
    {
     "name": "stdout",
     "output_type": "stream",
     "text": [
      "<class 'pandas.core.frame.DataFrame'>\n",
      "RangeIndex: 346 entries, 0 to 345\n",
      "Data columns (total 6 columns):\n",
      " #   Column    Non-Null Count  Dtype         \n",
      "---  ------    --------------  -----         \n",
      " 0   username  346 non-null    object        \n",
      " 1   date      346 non-null    datetime64[ns]\n",
      " 2   title     346 non-null    object        \n",
      " 3   replies   346 non-null    int64         \n",
      " 4   views     346 non-null    int64         \n",
      " 5   text      346 non-null    object        \n",
      "dtypes: datetime64[ns](1), int64(2), object(3)\n",
      "memory usage: 16.3+ KB\n"
     ]
    }
   ],
   "source": [
    "sffworld.info()"
   ]
  },
  {
   "cell_type": "code",
   "execution_count": 159,
   "metadata": {},
   "outputs": [],
   "source": [
    "sffworld['text']=sffworld.apply(lambda x : x['text'].replace('\\n','').replace('\\t',''),axis=1)"
   ]
  },
  {
   "cell_type": "code",
   "execution_count": 160,
   "metadata": {},
   "outputs": [
    {
     "data": {
      "text/plain": [
       "2010    30\n",
       "2006    30\n",
       "2007    27\n",
       "2005    26\n",
       "2008    24\n",
       "2016    23\n",
       "2011    20\n",
       "2009    20\n",
       "2004    19\n",
       "2012    15\n",
       "2003    15\n",
       "2015    13\n",
       "2014    13\n",
       "2002    11\n",
       "2017    11\n",
       "2013    10\n",
       "2001     9\n",
       "2019     7\n",
       "2020     6\n",
       "2018     6\n",
       "2000     5\n",
       "2021     5\n",
       "2022     1\n",
       "Name: Year, dtype: int64"
      ]
     },
     "execution_count": 160,
     "metadata": {},
     "output_type": "execute_result"
    }
   ],
   "source": [
    "sffworld['Year'] = sffworld['date'].dt.year \n",
    "sffworld['Year'].value_counts()"
   ]
  },
  {
   "cell_type": "code",
   "execution_count": 161,
   "metadata": {},
   "outputs": [
    {
     "data": {
      "image/png": "[encoded data removed]",
      "text/plain": [
       "<Figure size 720x360 with 1 Axes>"
      ]
     },
     "metadata": {
      "needs_background": "light"
     },
     "output_type": "display_data"
    }
   ],
   "source": [
    "plt.figure(figsize=(10,5))\n",
    "sns.distplot(sffworld['Year'],bins=20,hist_kws={\"color\":\"steelblue\"})\n",
    "plt.title(\"sffworld_kde\")\n",
    "plt.show()"
   ]
  },
  {
   "cell_type": "code",
   "execution_count": 74,
   "metadata": {},
   "outputs": [],
   "source": [
    "#sffworld.drop('Year',axis=1,inplace=True)"
   ]
  },
  {
   "cell_type": "code",
   "execution_count": 75,
   "metadata": {},
   "outputs": [
    {
     "data": {
      "text/html": [
       "<div>\n",
       "<style scoped>\n",
       "    .dataframe tbody tr th:only-of-type {\n",
       "        vertical-align: middle;\n",
       "    }\n",
       "\n",
       "    .dataframe tbody tr th {\n",
       "        vertical-align: top;\n",
       "    }\n",
       "\n",
       "    .dataframe thead th {\n",
       "        text-align: right;\n",
       "    }\n",
       "</style>\n",
       "<table border=\"1\" class=\"dataframe\">\n",
       "  <thead>\n",
       "    <tr style=\"text-align: right;\">\n",
       "      <th></th>\n",
       "      <th>username</th>\n",
       "      <th>date</th>\n",
       "      <th>title</th>\n",
       "      <th>replies</th>\n",
       "      <th>views</th>\n",
       "      <th>text</th>\n",
       "    </tr>\n",
       "  </thead>\n",
       "  <tbody>\n",
       "    <tr>\n",
       "      <th>0</th>\n",
       "      <td>nposecznick</td>\n",
       "      <td>2016-01-15</td>\n",
       "      <td>Novels with Shadowrun-like setting?</td>\n",
       "      <td>0</td>\n",
       "      <td>74</td>\n",
       "      <td>I was wondering if any of you could recommend ...</td>\n",
       "    </tr>\n",
       "    <tr>\n",
       "      <th>1</th>\n",
       "      <td>SFFWorld</td>\n",
       "      <td>2021-10-12</td>\n",
       "      <td>New post - A SPINDLE SPLINTERED by Alix E. Har...</td>\n",
       "      <td>6</td>\n",
       "      <td>248</td>\n",
       "      <td>Alix Harrow is a writer whose work has shown t...</td>\n",
       "    </tr>\n",
       "    <tr>\n",
       "      <th>2</th>\n",
       "      <td>KatG</td>\n",
       "      <td>2021-01-28</td>\n",
       "      <td>Authors We've Lost -- Storm Constantine and An...</td>\n",
       "      <td>6</td>\n",
       "      <td>359</td>\n",
       "      <td>I meant to get something up on this earlier, b...</td>\n",
       "    </tr>\n",
       "    <tr>\n",
       "      <th>3</th>\n",
       "      <td>SFFWorld</td>\n",
       "      <td>2020-11-03</td>\n",
       "      <td>New post - THE ONCE AND FUTURE WITCHES by Alix...</td>\n",
       "      <td>3</td>\n",
       "      <td>274</td>\n",
       "      <td>Sisterhood. Women’s rights. Personhood. Witche...</td>\n",
       "    </tr>\n",
       "    <tr>\n",
       "      <th>4</th>\n",
       "      <td>Sfinx</td>\n",
       "      <td>2020-07-23</td>\n",
       "      <td>Tips for summer holiday reading?</td>\n",
       "      <td>14</td>\n",
       "      <td>746</td>\n",
       "      <td>Hey all, Leaving soon for a couple of weeks of...</td>\n",
       "    </tr>\n",
       "    <tr>\n",
       "      <th>...</th>\n",
       "      <td>...</td>\n",
       "      <td>...</td>\n",
       "      <td>...</td>\n",
       "      <td>...</td>\n",
       "      <td>...</td>\n",
       "      <td>...</td>\n",
       "    </tr>\n",
       "    <tr>\n",
       "      <th>341</th>\n",
       "      <td>XYMOX</td>\n",
       "      <td>2001-04-18</td>\n",
       "      <td>what was the last book to be released.......</td>\n",
       "      <td>1</td>\n",
       "      <td>1000</td>\n",
       "      <td>by William Gibson?</td>\n",
       "    </tr>\n",
       "    <tr>\n",
       "      <th>342</th>\n",
       "      <td>Keyoke</td>\n",
       "      <td>2000-11-17</td>\n",
       "      <td>Uplift War?</td>\n",
       "      <td>3</td>\n",
       "      <td>2000</td>\n",
       "      <td>Has anyone read this?  My big question is it n...</td>\n",
       "    </tr>\n",
       "    <tr>\n",
       "      <th>343</th>\n",
       "      <td>Keyoke</td>\n",
       "      <td>2000-09-08</td>\n",
       "      <td>Deathstalker - Greene.</td>\n",
       "      <td>3</td>\n",
       "      <td>2000</td>\n",
       "      <td>I know that the above series is not the pinnac...</td>\n",
       "    </tr>\n",
       "    <tr>\n",
       "      <th>344</th>\n",
       "      <td>ctrandall</td>\n",
       "      <td>2018-06-03</td>\n",
       "      <td>What sff book would you make required reading?</td>\n",
       "      <td>17</td>\n",
       "      <td>4000</td>\n",
       "      <td>If you could set one sff book as required read...</td>\n",
       "    </tr>\n",
       "    <tr>\n",
       "      <th>345</th>\n",
       "      <td>Zillarian</td>\n",
       "      <td>2010-10-05</td>\n",
       "      <td>Alternate Military Historical Fiction... SciFi?</td>\n",
       "      <td>1</td>\n",
       "      <td>485</td>\n",
       "      <td>I've been working on a list of Military Scienc...</td>\n",
       "    </tr>\n",
       "  </tbody>\n",
       "</table>\n",
       "<p>346 rows × 6 columns</p>\n",
       "</div>"
      ],
      "text/plain": [
       "        username       date  \\\n",
       "0    nposecznick 2016-01-15   \n",
       "1       SFFWorld 2021-10-12   \n",
       "2           KatG 2021-01-28   \n",
       "3       SFFWorld 2020-11-03   \n",
       "4          Sfinx 2020-07-23   \n",
       "..           ...        ...   \n",
       "341        XYMOX 2001-04-18   \n",
       "342       Keyoke 2000-11-17   \n",
       "343       Keyoke 2000-09-08   \n",
       "344    ctrandall 2018-06-03   \n",
       "345    Zillarian 2010-10-05   \n",
       "\n",
       "                                                 title  replies  views  \\\n",
       "0                  Novels with Shadowrun-like setting?        0     74   \n",
       "1    New post - A SPINDLE SPLINTERED by Alix E. Har...        6    248   \n",
       "2    Authors We've Lost -- Storm Constantine and An...        6    359   \n",
       "3    New post - THE ONCE AND FUTURE WITCHES by Alix...        3    274   \n",
       "4                     Tips for summer holiday reading?       14    746   \n",
       "..                                                 ...      ...    ...   \n",
       "341       what was the last book to be released.......        1   1000   \n",
       "342                                        Uplift War?        3   2000   \n",
       "343                             Deathstalker - Greene.        3   2000   \n",
       "344     What sff book would you make required reading?       17   4000   \n",
       "345    Alternate Military Historical Fiction... SciFi?        1    485   \n",
       "\n",
       "                                                  text  \n",
       "0    I was wondering if any of you could recommend ...  \n",
       "1    Alix Harrow is a writer whose work has shown t...  \n",
       "2    I meant to get something up on this earlier, b...  \n",
       "3    Sisterhood. Women’s rights. Personhood. Witche...  \n",
       "4    Hey all, Leaving soon for a couple of weeks of...  \n",
       "..                                                 ...  \n",
       "341                                 by William Gibson?  \n",
       "342  Has anyone read this?  My big question is it n...  \n",
       "343  I know that the above series is not the pinnac...  \n",
       "344  If you could set one sff book as required read...  \n",
       "345  I've been working on a list of Military Scienc...  \n",
       "\n",
       "[346 rows x 6 columns]"
      ]
     },
     "execution_count": 75,
     "metadata": {},
     "output_type": "execute_result"
    }
   ],
   "source": [
    "sffworld"
   ]
  },
  {
   "cell_type": "code",
   "execution_count": 162,
   "metadata": {},
   "outputs": [],
   "source": [
    "sffworld.to_csv('result/csv/sffworld.csv')# 存储为csv格式\n",
    "sffworld.to_json('result/json/sffworld.json',orient='records')#"
   ]
  },
  {
   "cell_type": "markdown",
   "metadata": {},
   "source": []
  },
  {
   "cell_type": "markdown",
   "metadata": {},
   "source": [
    "### usenet"
   ]
  },
  {
   "cell_type": "code",
   "execution_count": 165,
   "metadata": {},
   "outputs": [
    {
     "data": {
      "text/html": [
       "<div>\n",
       "<style scoped>\n",
       "    .dataframe tbody tr th:only-of-type {\n",
       "        vertical-align: middle;\n",
       "    }\n",
       "\n",
       "    .dataframe tbody tr th {\n",
       "        vertical-align: top;\n",
       "    }\n",
       "\n",
       "    .dataframe thead th {\n",
       "        text-align: right;\n",
       "    }\n",
       "</style>\n",
       "<table border=\"1\" class=\"dataframe\">\n",
       "  <thead>\n",
       "    <tr style=\"text-align: right;\">\n",
       "      <th></th>\n",
       "      <th>content</th>\n",
       "      <th>date_post</th>\n",
       "      <th>comment</th>\n",
       "      <th>idPost</th>\n",
       "      <th>replyTo</th>\n",
       "      <th>idTopic</th>\n",
       "      <th>titleTopic</th>\n",
       "    </tr>\n",
       "  </thead>\n",
       "  <tbody>\n",
       "    <tr>\n",
       "      <th>0</th>\n",
       "      <td>News Flash!!  Back issues of the special Cyber...</td>\n",
       "      <td>17/02/1988 14:47:41 UTC</td>\n",
       "      <td>[]</td>\n",
       "      <td>bba8a573-1471-460a-8b73-f904d6219eaf</td>\n",
       "      <td>0</td>\n",
       "      <td>PDI2MDdAaGFkZG9jay5JU0MuQ09NPg</td>\n",
       "      <td>Science Fiction EYE</td>\n",
       "    </tr>\n",
       "    <tr>\n",
       "      <th>1</th>\n",
       "      <td>10. The Court's Final Judgement, Order, and De...</td>\n",
       "      <td>13/07/1993 01:23:023 UTC</td>\n",
       "      <td>[]</td>\n",
       "      <td>166b50d0-432c-43b2-a180-f5daf1b95d43</td>\n",
       "      <td>0</td>\n",
       "      <td>PDkzMDcxMzA2MjMuQUEwMTI4OEBwcmltdXMuY29tPg</td>\n",
       "      <td>TLU&amp;TN2 #10: The Court's Final Judgment, Order...</td>\n",
       "    </tr>\n",
       "    <tr>\n",
       "      <th>2</th>\n",
       "      <td>Reprinted from The Globe and Mail, Thursday Ma...</td>\n",
       "      <td>12/04/1988 02:25:10 UTC</td>\n",
       "      <td>[]</td>\n",
       "      <td>e44431c8-c337-4601-ba99-ecbc38dbb1c5</td>\n",
       "      <td>0</td>\n",
       "      <td>PDM5ODRAd2F0Y2dsLndhdGVybG9vLmVkdT4</td>\n",
       "      <td>Cyberpunk approaches reality</td>\n",
       "    </tr>\n",
       "    <tr>\n",
       "      <th>3</th>\n",
       "      <td>Awhile back I posted an article asking for spe...</td>\n",
       "      <td>16/11/1987 09:04:30 UTC</td>\n",
       "      <td>[]</td>\n",
       "      <td>9cd86c17-11ad-40b9-aef5-4d11e1985adf</td>\n",
       "      <td>0</td>\n",
       "      <td>PDE3MDdAaGFkZG9jay5JU0MuQ09NPg</td>\n",
       "      <td>Future Police -- thanks!</td>\n",
       "    </tr>\n",
       "    <tr>\n",
       "      <th>4</th>\n",
       "      <td>I hate to bother any of you out there with thi...</td>\n",
       "      <td>15/04/1988 21:32:56 UTC</td>\n",
       "      <td>[]</td>\n",
       "      <td>953a59b6-ac8f-47d5-aa00-80423bf4bd9c</td>\n",
       "      <td>0</td>\n",
       "      <td>PDM5NDU1Q09LQFBTVVZNQT4</td>\n",
       "      <td>This group</td>\n",
       "    </tr>\n",
       "  </tbody>\n",
       "</table>\n",
       "</div>"
      ],
      "text/plain": [
       "                                             content  \\\n",
       "0  News Flash!!  Back issues of the special Cyber...   \n",
       "1  10. The Court's Final Judgement, Order, and De...   \n",
       "2  Reprinted from The Globe and Mail, Thursday Ma...   \n",
       "3  Awhile back I posted an article asking for spe...   \n",
       "4  I hate to bother any of you out there with thi...   \n",
       "\n",
       "                  date_post comment                                idPost  \\\n",
       "0   17/02/1988 14:47:41 UTC      []  bba8a573-1471-460a-8b73-f904d6219eaf   \n",
       "1  13/07/1993 01:23:023 UTC      []  166b50d0-432c-43b2-a180-f5daf1b95d43   \n",
       "2   12/04/1988 02:25:10 UTC      []  e44431c8-c337-4601-ba99-ecbc38dbb1c5   \n",
       "3   16/11/1987 09:04:30 UTC      []  9cd86c17-11ad-40b9-aef5-4d11e1985adf   \n",
       "4   15/04/1988 21:32:56 UTC      []  953a59b6-ac8f-47d5-aa00-80423bf4bd9c   \n",
       "\n",
       "  replyTo                                     idTopic  \\\n",
       "0       0              PDI2MDdAaGFkZG9jay5JU0MuQ09NPg   \n",
       "1       0  PDkzMDcxMzA2MjMuQUEwMTI4OEBwcmltdXMuY29tPg   \n",
       "2       0         PDM5ODRAd2F0Y2dsLndhdGVybG9vLmVkdT4   \n",
       "3       0              PDE3MDdAaGFkZG9jay5JU0MuQ09NPg   \n",
       "4       0                     PDM5NDU1Q09LQFBTVVZNQT4   \n",
       "\n",
       "                                          titleTopic  \n",
       "0                                Science Fiction EYE  \n",
       "1  TLU&TN2 #10: The Court's Final Judgment, Order...  \n",
       "2                       Cyberpunk approaches reality  \n",
       "3                           Future Police -- thanks!  \n",
       "4                                         This group  "
      ]
     },
     "execution_count": 165,
     "metadata": {},
     "output_type": "execute_result"
    }
   ],
   "source": [
    "usenet=pd.read_json('data/usenet.json')\n",
    "usenet.head()"
   ]
  },
  {
   "cell_type": "code",
   "execution_count": 166,
   "metadata": {},
   "outputs": [
    {
     "name": "stdout",
     "output_type": "stream",
     "text": [
      "<class 'pandas.core.frame.DataFrame'>\n",
      "RangeIndex: 2091 entries, 0 to 2090\n",
      "Data columns (total 7 columns):\n",
      " #   Column      Non-Null Count  Dtype \n",
      "---  ------      --------------  ----- \n",
      " 0   content     2091 non-null   object\n",
      " 1   date_post   2091 non-null   object\n",
      " 2   comment     2091 non-null   object\n",
      " 3   idPost      2091 non-null   object\n",
      " 4   replyTo     2091 non-null   object\n",
      " 5   idTopic     2091 non-null   object\n",
      " 6   titleTopic  2089 non-null   object\n",
      "dtypes: object(7)\n",
      "memory usage: 114.5+ KB\n"
     ]
    }
   ],
   "source": [
    "usenet.info()"
   ]
  },
  {
   "cell_type": "code",
   "execution_count": 167,
   "metadata": {},
   "outputs": [
    {
     "data": {
      "text/plain": [
       "datetime.datetime(1988, 2, 17, 14, 47, 41)"
      ]
     },
     "execution_count": 167,
     "metadata": {},
     "output_type": "execute_result"
    }
   ],
   "source": [
    "datetime.datetime.strptime(usenet.date_post[0],\"%d/%m/%Y %H:%M:%S UTC\")"
   ]
  },
  {
   "cell_type": "code",
   "execution_count": 168,
   "metadata": {},
   "outputs": [],
   "source": [
    "usenet['date_post']=usenet.apply(lambda x : datetime.datetime.strptime(x['date_post'].split(' ')[0],\"%d/%m/%Y\").strftime('%Y-%m-%d'),axis=1)"
   ]
  },
  {
   "cell_type": "code",
   "execution_count": 169,
   "metadata": {},
   "outputs": [],
   "source": [
    "usenet['date_post']=pd.to_datetime(usenet['date_post'], format='%Y-%m-%d')"
   ]
  },
  {
   "cell_type": "code",
   "execution_count": 170,
   "metadata": {},
   "outputs": [
    {
     "name": "stdout",
     "output_type": "stream",
     "text": [
      "<class 'pandas.core.frame.DataFrame'>\n",
      "RangeIndex: 2091 entries, 0 to 2090\n",
      "Data columns (total 7 columns):\n",
      " #   Column      Non-Null Count  Dtype         \n",
      "---  ------      --------------  -----         \n",
      " 0   content     2091 non-null   object        \n",
      " 1   date_post   2091 non-null   datetime64[ns]\n",
      " 2   comment     2091 non-null   object        \n",
      " 3   idPost      2091 non-null   object        \n",
      " 4   replyTo     2091 non-null   object        \n",
      " 5   idTopic     2091 non-null   object        \n",
      " 6   titleTopic  2089 non-null   object        \n",
      "dtypes: datetime64[ns](1), object(6)\n",
      "memory usage: 114.5+ KB\n"
     ]
    }
   ],
   "source": [
    "usenet.info()"
   ]
  },
  {
   "cell_type": "code",
   "execution_count": 171,
   "metadata": {},
   "outputs": [
    {
     "data": {
      "text/plain": [
       "1996    741\n",
       "1999    352\n",
       "1997    256\n",
       "1988    163\n",
       "1993    109\n",
       "1987     79\n",
       "2002     68\n",
       "1992     58\n",
       "1994     57\n",
       "1995     39\n",
       "2000     35\n",
       "1998     32\n",
       "1990     28\n",
       "2003     23\n",
       "1991     22\n",
       "2001     16\n",
       "1989      9\n",
       "2004      2\n",
       "2009      1\n",
       "2010      1\n",
       "Name: Year, dtype: int64"
      ]
     },
     "execution_count": 171,
     "metadata": {},
     "output_type": "execute_result"
    }
   ],
   "source": [
    "usenet['Year'] = usenet['date_post'].dt.year \n",
    "usenet['Year'].value_counts()"
   ]
  },
  {
   "cell_type": "code",
   "execution_count": 172,
   "metadata": {},
   "outputs": [
    {
     "data": {
      "image/png": "[encoded data removed]",
      "text/plain": [
       "<Figure size 720x360 with 1 Axes>"
      ]
     },
     "metadata": {
      "needs_background": "light"
     },
     "output_type": "display_data"
    }
   ],
   "source": [
    "plt.figure(figsize=(10,5))\n",
    "sns.distplot(usenet['Year'],bins=20,hist_kws={\"color\":\"steelblue\"})\n",
    "plt.title(\"usenet\")\n",
    "plt.show()"
   ]
  },
  {
   "cell_type": "code",
   "execution_count": 173,
   "metadata": {},
   "outputs": [],
   "source": [
    "#usenet.drop('Year',axis=1,inplace=True)"
   ]
  },
  {
   "cell_type": "code",
   "execution_count": 174,
   "metadata": {},
   "outputs": [
    {
     "data": {
      "text/html": [
       "<div>\n",
       "<style scoped>\n",
       "    .dataframe tbody tr th:only-of-type {\n",
       "        vertical-align: middle;\n",
       "    }\n",
       "\n",
       "    .dataframe tbody tr th {\n",
       "        vertical-align: top;\n",
       "    }\n",
       "\n",
       "    .dataframe thead th {\n",
       "        text-align: right;\n",
       "    }\n",
       "</style>\n",
       "<table border=\"1\" class=\"dataframe\">\n",
       "  <thead>\n",
       "    <tr style=\"text-align: right;\">\n",
       "      <th></th>\n",
       "      <th>content</th>\n",
       "      <th>date_post</th>\n",
       "      <th>comment</th>\n",
       "      <th>idPost</th>\n",
       "      <th>replyTo</th>\n",
       "      <th>idTopic</th>\n",
       "      <th>titleTopic</th>\n",
       "      <th>Year</th>\n",
       "    </tr>\n",
       "  </thead>\n",
       "  <tbody>\n",
       "    <tr>\n",
       "      <th>0</th>\n",
       "      <td>News Flash!!  Back issues of the special Cyber...</td>\n",
       "      <td>1988-02-17</td>\n",
       "      <td>[]</td>\n",
       "      <td>bba8a573-1471-460a-8b73-f904d6219eaf</td>\n",
       "      <td>0</td>\n",
       "      <td>PDI2MDdAaGFkZG9jay5JU0MuQ09NPg</td>\n",
       "      <td>Science Fiction EYE</td>\n",
       "      <td>1988</td>\n",
       "    </tr>\n",
       "    <tr>\n",
       "      <th>1</th>\n",
       "      <td>10. The Court's Final Judgement, Order, and De...</td>\n",
       "      <td>1993-07-13</td>\n",
       "      <td>[]</td>\n",
       "      <td>166b50d0-432c-43b2-a180-f5daf1b95d43</td>\n",
       "      <td>0</td>\n",
       "      <td>PDkzMDcxMzA2MjMuQUEwMTI4OEBwcmltdXMuY29tPg</td>\n",
       "      <td>TLU&amp;TN2 #10: The Court's Final Judgment, Order...</td>\n",
       "      <td>1993</td>\n",
       "    </tr>\n",
       "    <tr>\n",
       "      <th>2</th>\n",
       "      <td>Reprinted from The Globe and Mail, Thursday Ma...</td>\n",
       "      <td>1988-04-12</td>\n",
       "      <td>[]</td>\n",
       "      <td>e44431c8-c337-4601-ba99-ecbc38dbb1c5</td>\n",
       "      <td>0</td>\n",
       "      <td>PDM5ODRAd2F0Y2dsLndhdGVybG9vLmVkdT4</td>\n",
       "      <td>Cyberpunk approaches reality</td>\n",
       "      <td>1988</td>\n",
       "    </tr>\n",
       "    <tr>\n",
       "      <th>3</th>\n",
       "      <td>Awhile back I posted an article asking for spe...</td>\n",
       "      <td>1987-11-16</td>\n",
       "      <td>[]</td>\n",
       "      <td>9cd86c17-11ad-40b9-aef5-4d11e1985adf</td>\n",
       "      <td>0</td>\n",
       "      <td>PDE3MDdAaGFkZG9jay5JU0MuQ09NPg</td>\n",
       "      <td>Future Police -- thanks!</td>\n",
       "      <td>1987</td>\n",
       "    </tr>\n",
       "    <tr>\n",
       "      <th>4</th>\n",
       "      <td>I hate to bother any of you out there with thi...</td>\n",
       "      <td>1988-04-15</td>\n",
       "      <td>[]</td>\n",
       "      <td>953a59b6-ac8f-47d5-aa00-80423bf4bd9c</td>\n",
       "      <td>0</td>\n",
       "      <td>PDM5NDU1Q09LQFBTVVZNQT4</td>\n",
       "      <td>This group</td>\n",
       "      <td>1988</td>\n",
       "    </tr>\n",
       "    <tr>\n",
       "      <th>...</th>\n",
       "      <td>...</td>\n",
       "      <td>...</td>\n",
       "      <td>...</td>\n",
       "      <td>...</td>\n",
       "      <td>...</td>\n",
       "      <td>...</td>\n",
       "      <td>...</td>\n",
       "      <td>...</td>\n",
       "    </tr>\n",
       "    <tr>\n",
       "      <th>2086</th>\n",
       "      <td>How do I penetrate amidst it conventionally?  ...</td>\n",
       "      <td>1999-07-03</td>\n",
       "      <td>[]</td>\n",
       "      <td>ba1198af-85d9-4b81-9eac-6a355e914d59</td>\n",
       "      <td>159e577d-e51e-4144-86bc-14fbb400fb3a</td>\n",
       "      <td>PDM3NzdmYTdiLjBAbmV3czEubXdlYi5jby56YT4</td>\n",
       "      <td>Damage Control.......</td>\n",
       "      <td>1999</td>\n",
       "    </tr>\n",
       "    <tr>\n",
       "      <th>2087</th>\n",
       "      <td>I admitted neither explored before they were t...</td>\n",
       "      <td>1999-07-03</td>\n",
       "      <td>[]</td>\n",
       "      <td>8b445641-eeb4-4ffa-9335-1faa4934148e</td>\n",
       "      <td>159e577d-e51e-4144-86bc-14fbb400fb3a</td>\n",
       "      <td>PDM3NzdmYTdiLjBAbmV3czEubXdlYi5jby56YT4</td>\n",
       "      <td>Damage Control.......</td>\n",
       "      <td>1999</td>\n",
       "    </tr>\n",
       "    <tr>\n",
       "      <th>2088</th>\n",
       "      <td>Each oracle - seven pursuant a last - minus th...</td>\n",
       "      <td>1999-07-03</td>\n",
       "      <td>[]</td>\n",
       "      <td>13136d3a-b645-41c1-b997-2ef728ff8011</td>\n",
       "      <td>159e577d-e51e-4144-86bc-14fbb400fb3a</td>\n",
       "      <td>PDM3NzdmYTdiLjBAbmV3czEubXdlYi5jby56YT4</td>\n",
       "      <td>Damage Control.......</td>\n",
       "      <td>1999</td>\n",
       "    </tr>\n",
       "    <tr>\n",
       "      <th>2089</th>\n",
       "      <td>Each oracle - seven pursuant a last - minus th...</td>\n",
       "      <td>1999-07-03</td>\n",
       "      <td>[]</td>\n",
       "      <td>c3501562-493f-4427-a67d-e4f48d30f849</td>\n",
       "      <td>159e577d-e51e-4144-86bc-14fbb400fb3a</td>\n",
       "      <td>PDM3NzdmYTdiLjBAbmV3czEubXdlYi5jby56YT4</td>\n",
       "      <td>Damage Control.......</td>\n",
       "      <td>1999</td>\n",
       "    </tr>\n",
       "    <tr>\n",
       "      <th>2090</th>\n",
       "      <td>Nightly that or gratefully another, chuffing c...</td>\n",
       "      <td>1999-07-03</td>\n",
       "      <td>[]</td>\n",
       "      <td>043f4861-5b13-4f95-b70e-2039ca16ef59</td>\n",
       "      <td>159e577d-e51e-4144-86bc-14fbb400fb3a</td>\n",
       "      <td>PDM3NzdmYTdiLjBAbmV3czEubXdlYi5jby56YT4</td>\n",
       "      <td>Damage Control.......</td>\n",
       "      <td>1999</td>\n",
       "    </tr>\n",
       "  </tbody>\n",
       "</table>\n",
       "<p>2091 rows × 8 columns</p>\n",
       "</div>"
      ],
      "text/plain": [
       "                                                content  date_post comment  \\\n",
       "0     News Flash!!  Back issues of the special Cyber... 1988-02-17      []   \n",
       "1     10. The Court's Final Judgement, Order, and De... 1993-07-13      []   \n",
       "2     Reprinted from The Globe and Mail, Thursday Ma... 1988-04-12      []   \n",
       "3     Awhile back I posted an article asking for spe... 1987-11-16      []   \n",
       "4     I hate to bother any of you out there with thi... 1988-04-15      []   \n",
       "...                                                 ...        ...     ...   \n",
       "2086  How do I penetrate amidst it conventionally?  ... 1999-07-03      []   \n",
       "2087  I admitted neither explored before they were t... 1999-07-03      []   \n",
       "2088  Each oracle - seven pursuant a last - minus th... 1999-07-03      []   \n",
       "2089  Each oracle - seven pursuant a last - minus th... 1999-07-03      []   \n",
       "2090  Nightly that or gratefully another, chuffing c... 1999-07-03      []   \n",
       "\n",
       "                                    idPost  \\\n",
       "0     bba8a573-1471-460a-8b73-f904d6219eaf   \n",
       "1     166b50d0-432c-43b2-a180-f5daf1b95d43   \n",
       "2     e44431c8-c337-4601-ba99-ecbc38dbb1c5   \n",
       "3     9cd86c17-11ad-40b9-aef5-4d11e1985adf   \n",
       "4     953a59b6-ac8f-47d5-aa00-80423bf4bd9c   \n",
       "...                                    ...   \n",
       "2086  ba1198af-85d9-4b81-9eac-6a355e914d59   \n",
       "2087  8b445641-eeb4-4ffa-9335-1faa4934148e   \n",
       "2088  13136d3a-b645-41c1-b997-2ef728ff8011   \n",
       "2089  c3501562-493f-4427-a67d-e4f48d30f849   \n",
       "2090  043f4861-5b13-4f95-b70e-2039ca16ef59   \n",
       "\n",
       "                                   replyTo  \\\n",
       "0                                        0   \n",
       "1                                        0   \n",
       "2                                        0   \n",
       "3                                        0   \n",
       "4                                        0   \n",
       "...                                    ...   \n",
       "2086  159e577d-e51e-4144-86bc-14fbb400fb3a   \n",
       "2087  159e577d-e51e-4144-86bc-14fbb400fb3a   \n",
       "2088  159e577d-e51e-4144-86bc-14fbb400fb3a   \n",
       "2089  159e577d-e51e-4144-86bc-14fbb400fb3a   \n",
       "2090  159e577d-e51e-4144-86bc-14fbb400fb3a   \n",
       "\n",
       "                                         idTopic  \\\n",
       "0                 PDI2MDdAaGFkZG9jay5JU0MuQ09NPg   \n",
       "1     PDkzMDcxMzA2MjMuQUEwMTI4OEBwcmltdXMuY29tPg   \n",
       "2            PDM5ODRAd2F0Y2dsLndhdGVybG9vLmVkdT4   \n",
       "3                 PDE3MDdAaGFkZG9jay5JU0MuQ09NPg   \n",
       "4                        PDM5NDU1Q09LQFBTVVZNQT4   \n",
       "...                                          ...   \n",
       "2086     PDM3NzdmYTdiLjBAbmV3czEubXdlYi5jby56YT4   \n",
       "2087     PDM3NzdmYTdiLjBAbmV3czEubXdlYi5jby56YT4   \n",
       "2088     PDM3NzdmYTdiLjBAbmV3czEubXdlYi5jby56YT4   \n",
       "2089     PDM3NzdmYTdiLjBAbmV3czEubXdlYi5jby56YT4   \n",
       "2090     PDM3NzdmYTdiLjBAbmV3czEubXdlYi5jby56YT4   \n",
       "\n",
       "                                             titleTopic  Year  \n",
       "0                                   Science Fiction EYE  1988  \n",
       "1     TLU&TN2 #10: The Court's Final Judgment, Order...  1993  \n",
       "2                          Cyberpunk approaches reality  1988  \n",
       "3                              Future Police -- thanks!  1987  \n",
       "4                                            This group  1988  \n",
       "...                                                 ...   ...  \n",
       "2086                              Damage Control.......  1999  \n",
       "2087                              Damage Control.......  1999  \n",
       "2088                              Damage Control.......  1999  \n",
       "2089                              Damage Control.......  1999  \n",
       "2090                              Damage Control.......  1999  \n",
       "\n",
       "[2091 rows x 8 columns]"
      ]
     },
     "execution_count": 174,
     "metadata": {},
     "output_type": "execute_result"
    }
   ],
   "source": [
    "usenet"
   ]
  },
  {
   "cell_type": "code",
   "execution_count": 87,
   "metadata": {},
   "outputs": [],
   "source": [
    "# 不改变 list 形式，在list内清洗\n",
    "#def del_special(list_char):\n",
    "#    for i in range(len(list_char)):\n",
    "#        list_char[i]=list_char[i].replace('/n','').replace('>','')\n",
    "#    end_list = [i for i in list_char if i != '']\n",
    "#    return end_list"
   ]
  },
  {
   "cell_type": "code",
   "execution_count": 176,
   "metadata": {},
   "outputs": [],
   "source": [
    "usenet.to_csv('result/csv/usenet.csv')# 存储为csv格式\n",
    "usenet.to_json('result/json/usenet.json',orient='records')#"
   ]
  },
  {
   "cell_type": "markdown",
   "metadata": {},
   "source": [
    "#### usenet数据中 comment 为list形式 \n",
    "清洗方式如上\n",
    "如需强制按照str清洗可参考 booknode 的中最后的清洗方法\n",
    "\n",
    "如需保留原list 格式 可参考注释掉的函数，lambda方式调用即可，replace规则可为  →  replace('/n','').replace('>','')\n",
    "\n",
    "这次数据清洗需要改进的地方：针对json格式的数据最后的保存工作，应该是按照行保存，但是如果不加入（orient='records'）参数，就会变成按照列保存，此处需要注意。\n",
    "\n"
   ]
  },
  {
   "cell_type": "code",
   "execution_count": 118,
   "metadata": {},
   "outputs": [],
   "source": [
    "data = {'Year':['2014','2016','2017','2018','2019','2020','2021','2022'],\n",
    "       'Cyberpunk':[0,0,169800,1016600,319800,205100,190000,17900],\n",
    "       'Total':[109000,221800,1186500,1922900,1697700,2335100,1746900,666400]}"
   ]
  },
  {
   "cell_type": "code",
   "execution_count": 4,
   "metadata": {},
   "outputs": [],
   "source": [
    "movies=pd.read_json('movies2.json')"
   ]
  },
  {
   "cell_type": "code",
   "execution_count": 5,
   "metadata": {},
   "outputs": [
    {
     "data": {
      "text/html": [
       "<div>\n",
       "<style scoped>\n",
       "    .dataframe tbody tr th:only-of-type {\n",
       "        vertical-align: middle;\n",
       "    }\n",
       "\n",
       "    .dataframe tbody tr th {\n",
       "        vertical-align: top;\n",
       "    }\n",
       "\n",
       "    .dataframe thead th {\n",
       "        text-align: right;\n",
       "    }\n",
       "</style>\n",
       "<table border=\"1\" class=\"dataframe\">\n",
       "  <thead>\n",
       "    <tr style=\"text-align: right;\">\n",
       "      <th></th>\n",
       "      <th>title</th>\n",
       "      <th>date</th>\n",
       "      <th>text</th>\n",
       "      <th>Comment</th>\n",
       "      <th>vote</th>\n",
       "      <th>image</th>\n",
       "    </tr>\n",
       "  </thead>\n",
       "  <tbody>\n",
       "    <tr>\n",
       "      <th>0</th>\n",
       "      <td>The Senate. Upvote this so that people see it ...</td>\n",
       "      <td>5 years ago</td>\n",
       "      <td>[So I'm 16 years old, and I finally watched th...</td>\n",
       "      <td>[Annnd it's the most upvoted reddit post of al...</td>\n",
       "      <td>390k</td>\n",
       "      <td>None</td>\n",
       "    </tr>\n",
       "    <tr>\n",
       "      <th>1</th>\n",
       "      <td>Bob Odenkirk Stable After Suffering “Heart-Rel...</td>\n",
       "      <td>9 months ago</td>\n",
       "      <td>[So I'm 16 years old, and I finally watched th...</td>\n",
       "      <td>[Big sigh of relief here, Here's the latest fr...</td>\n",
       "      <td>77.5k</td>\n",
       "      <td>None</td>\n",
       "    </tr>\n",
       "    <tr>\n",
       "      <th>2</th>\n",
       "      <td>50,000 sign petition for Disney to rehire Jame...</td>\n",
       "      <td>4 years ago</td>\n",
       "      <td>[So I'm 16 years old, and I finally watched th...</td>\n",
       "      <td>[I’ll be genuinely interested in the outcome o...</td>\n",
       "      <td>78.0k</td>\n",
       "      <td>None</td>\n",
       "    </tr>\n",
       "    <tr>\n",
       "      <th>3</th>\n",
       "      <td>‘Deadpool 3’ Confirmed for the MCU; Kevin Feig...</td>\n",
       "      <td>1 year ago</td>\n",
       "      <td>[So I'm 16 years old, and I finally watched th...</td>\n",
       "      <td>[Quote from Feige, courtesy of the article:, I...</td>\n",
       "      <td>78.0k</td>\n",
       "      <td>None</td>\n",
       "    </tr>\n",
       "    <tr>\n",
       "      <th>4</th>\n",
       "      <td>SPIDER-MAN: FAR FROM HOME - Official Teaser Tr...</td>\n",
       "      <td>3 years ago</td>\n",
       "      <td>[So I'm 16 years old, and I finally watched th...</td>\n",
       "      <td>[178 more replies, Anyone notice Avengers towe...</td>\n",
       "      <td>78.0k</td>\n",
       "      <td>None</td>\n",
       "    </tr>\n",
       "    <tr>\n",
       "      <th>...</th>\n",
       "      <td>...</td>\n",
       "      <td>...</td>\n",
       "      <td>...</td>\n",
       "      <td>...</td>\n",
       "      <td>...</td>\n",
       "      <td>...</td>\n",
       "    </tr>\n",
       "    <tr>\n",
       "      <th>94</th>\n",
       "      <td>Sir Sean Connery dies aged 90</td>\n",
       "      <td>1 year ago</td>\n",
       "      <td>[So I'm 16 years old, and I finally watched th...</td>\n",
       "      <td>[:( I shall never forget the Scottish Russian ...</td>\n",
       "      <td>141k</td>\n",
       "      <td>None</td>\n",
       "    </tr>\n",
       "    <tr>\n",
       "      <th>95</th>\n",
       "      <td>Leo gets the Oscar!</td>\n",
       "      <td>6 years ago</td>\n",
       "      <td>[So I'm 16 years old, and I finally watched th...</td>\n",
       "      <td>[Reaction and speech: , Edit: Another source: ...</td>\n",
       "      <td>142k</td>\n",
       "      <td>None</td>\n",
       "    </tr>\n",
       "    <tr>\n",
       "      <th>96</th>\n",
       "      <td>Disney Reinstates Director James Gunn For ‘Gua...</td>\n",
       "      <td>3 years ago</td>\n",
       "      <td>[So I'm 16 years old, and I finally watched th...</td>\n",
       "      <td>[44 more replies, \"Sorry James, you're fired\",...</td>\n",
       "      <td>156k</td>\n",
       "      <td>None</td>\n",
       "    </tr>\n",
       "    <tr>\n",
       "      <th>97</th>\n",
       "      <td>Hello, I’m Nicolas Cage and welcome to Ask Me ...</td>\n",
       "      <td>10 days ago</td>\n",
       "      <td>[So I'm 16 years old, and I finally watched th...</td>\n",
       "      <td>[What's the movie quote you hate most when str...</td>\n",
       "      <td>187k</td>\n",
       "      <td>None</td>\n",
       "    </tr>\n",
       "    <tr>\n",
       "      <th>98</th>\n",
       "      <td>‘Black Panther’ actor Chadwick Boseman dies at...</td>\n",
       "      <td>2 years ago</td>\n",
       "      <td>[So I'm 16 years old, and I finally watched th...</td>\n",
       "      <td>[I understand he probably wanted to keep on th...</td>\n",
       "      <td>197k</td>\n",
       "      <td>None</td>\n",
       "    </tr>\n",
       "  </tbody>\n",
       "</table>\n",
       "<p>99 rows × 6 columns</p>\n",
       "</div>"
      ],
      "text/plain": [
       "                                                title          date  \\\n",
       "0   The Senate. Upvote this so that people see it ...   5 years ago   \n",
       "1   Bob Odenkirk Stable After Suffering “Heart-Rel...  9 months ago   \n",
       "2   50,000 sign petition for Disney to rehire Jame...   4 years ago   \n",
       "3   ‘Deadpool 3’ Confirmed for the MCU; Kevin Feig...    1 year ago   \n",
       "4   SPIDER-MAN: FAR FROM HOME - Official Teaser Tr...   3 years ago   \n",
       "..                                                ...           ...   \n",
       "94                      Sir Sean Connery dies aged 90    1 year ago   \n",
       "95                                Leo gets the Oscar!   6 years ago   \n",
       "96  Disney Reinstates Director James Gunn For ‘Gua...   3 years ago   \n",
       "97  Hello, I’m Nicolas Cage and welcome to Ask Me ...   10 days ago   \n",
       "98  ‘Black Panther’ actor Chadwick Boseman dies at...   2 years ago   \n",
       "\n",
       "                                                 text  \\\n",
       "0   [So I'm 16 years old, and I finally watched th...   \n",
       "1   [So I'm 16 years old, and I finally watched th...   \n",
       "2   [So I'm 16 years old, and I finally watched th...   \n",
       "3   [So I'm 16 years old, and I finally watched th...   \n",
       "4   [So I'm 16 years old, and I finally watched th...   \n",
       "..                                                ...   \n",
       "94  [So I'm 16 years old, and I finally watched th...   \n",
       "95  [So I'm 16 years old, and I finally watched th...   \n",
       "96  [So I'm 16 years old, and I finally watched th...   \n",
       "97  [So I'm 16 years old, and I finally watched th...   \n",
       "98  [So I'm 16 years old, and I finally watched th...   \n",
       "\n",
       "                                              Comment   vote image  \n",
       "0   [Annnd it's the most upvoted reddit post of al...   390k  None  \n",
       "1   [Big sigh of relief here, Here's the latest fr...  77.5k  None  \n",
       "2   [I’ll be genuinely interested in the outcome o...  78.0k  None  \n",
       "3   [Quote from Feige, courtesy of the article:, I...  78.0k  None  \n",
       "4   [178 more replies, Anyone notice Avengers towe...  78.0k  None  \n",
       "..                                                ...    ...   ...  \n",
       "94  [:( I shall never forget the Scottish Russian ...   141k  None  \n",
       "95  [Reaction and speech: , Edit: Another source: ...   142k  None  \n",
       "96  [44 more replies, \"Sorry James, you're fired\",...   156k  None  \n",
       "97  [What's the movie quote you hate most when str...   187k  None  \n",
       "98  [I understand he probably wanted to keep on th...   197k  None  \n",
       "\n",
       "[99 rows x 6 columns]"
      ]
     },
     "execution_count": 5,
     "metadata": {},
     "output_type": "execute_result"
    }
   ],
   "source": [
    "movies"
   ]
  },
  {
   "cell_type": "code",
   "execution_count": 10,
   "metadata": {},
   "outputs": [
    {
     "data": {
      "text/plain": [
       "2 years ago      24\n",
       "4 years ago      21\n",
       "3 years ago      17\n",
       "1 year ago       12\n",
       "5 years ago       9\n",
       "7 months ago      2\n",
       "6 years ago       2\n",
       "8 days ago        1\n",
       "8 years ago       1\n",
       "6 months ago      1\n",
       "7 days ago        1\n",
       "11 days ago       1\n",
       "10 months ago     1\n",
       "26 days ago       1\n",
       "11 months ago     1\n",
       "2 months ago      1\n",
       "9 months ago      1\n",
       "5 months ago      1\n",
       "10 days ago       1\n",
       "Name: date, dtype: int64"
      ]
     },
     "execution_count": 10,
     "metadata": {},
     "output_type": "execute_result"
    }
   ],
   "source": [
    "movies['date'].value_counts()"
   ]
  },
  {
   "cell_type": "code",
   "execution_count": 11,
   "metadata": {},
   "outputs": [],
   "source": [
    "def reddit_date_clean(char):\n",
    "    list_char=char.split(' ')\n",
    "    num=list_char[0]\n",
    "    type_date=list_char[1]\n",
    "    flag = datetime.datetime.strptime('2022-04-20', '%Y-%m-%d')\n",
    "    if type_date==\"years\" or type_date==\"year\":\n",
    "        ago=int(num)*365\n",
    "        delta = datetime.timedelta(days=ago)\n",
    "    elif type_date==\"months\" or type_date==\"month\" :\n",
    "        ago=int(num)*30\n",
    "        delta = datetime.timedelta(days=ago)\n",
    "    elif type_date==\"days\" or type_date==\"day\" :\n",
    "        ago=int(num)\n",
    "        delta = datetime.timedelta(days=ago)\n",
    "    else:\n",
    "        delta = datetime.timedelta(days=0)\n",
    "    end=flag-delta\n",
    "    return end.strftime('%Y-%m-%d')"
   ]
  },
  {
   "cell_type": "code",
   "execution_count": 12,
   "metadata": {},
   "outputs": [],
   "source": [
    "movies['date']=movies.apply(lambda x : reddit_date_clean(x['date']),axis=1)"
   ]
  },
  {
   "cell_type": "code",
   "execution_count": 13,
   "metadata": {},
   "outputs": [
    {
     "data": {
      "text/plain": [
       "0"
      ]
     },
     "execution_count": 13,
     "metadata": {},
     "output_type": "execute_result"
    }
   ],
   "source": [
    "movies.vote.isnull().sum()"
   ]
  },
  {
   "cell_type": "code",
   "execution_count": 14,
   "metadata": {},
   "outputs": [],
   "source": [
    "def k_to_num(char):\n",
    "    flag='k'\n",
    "    if flag in char:\n",
    "        end=float(char.replace('k',''))*1000\n",
    "    elif char=='Vote':\n",
    "        end=0\n",
    "    else:\n",
    "        end = float(char)\n",
    "    return end"
   ]
  },
  {
   "cell_type": "code",
   "execution_count": 15,
   "metadata": {},
   "outputs": [],
   "source": [
    "movies['vote']=movies.apply(lambda x : k_to_num(x['vote']),axis=1)"
   ]
  },
  {
   "cell_type": "code",
   "execution_count": 16,
   "metadata": {},
   "outputs": [],
   "source": [
    "movies['date']=pd.to_datetime(movies['date'], format='%Y-%m-%d')"
   ]
  },
  {
   "cell_type": "code",
   "execution_count": 18,
   "metadata": {},
   "outputs": [],
   "source": [
    "movies['Year'] = movies['date'].dt.year "
   ]
  },
  {
   "cell_type": "code",
   "execution_count": 19,
   "metadata": {},
   "outputs": [
    {
     "data": {
      "text/html": [
       "<div>\n",
       "<style scoped>\n",
       "    .dataframe tbody tr th:only-of-type {\n",
       "        vertical-align: middle;\n",
       "    }\n",
       "\n",
       "    .dataframe tbody tr th {\n",
       "        vertical-align: top;\n",
       "    }\n",
       "\n",
       "    .dataframe thead th {\n",
       "        text-align: right;\n",
       "    }\n",
       "</style>\n",
       "<table border=\"1\" class=\"dataframe\">\n",
       "  <thead>\n",
       "    <tr style=\"text-align: right;\">\n",
       "      <th></th>\n",
       "      <th>title</th>\n",
       "      <th>date</th>\n",
       "      <th>text</th>\n",
       "      <th>Comment</th>\n",
       "      <th>vote</th>\n",
       "      <th>image</th>\n",
       "      <th>Year</th>\n",
       "    </tr>\n",
       "  </thead>\n",
       "  <tbody>\n",
       "    <tr>\n",
       "      <th>0</th>\n",
       "      <td>The Senate. Upvote this so that people see it ...</td>\n",
       "      <td>2017-04-21</td>\n",
       "      <td>[So I'm 16 years old, and I finally watched th...</td>\n",
       "      <td>[Annnd it's the most upvoted reddit post of al...</td>\n",
       "      <td>390000.0</td>\n",
       "      <td>None</td>\n",
       "      <td>2017</td>\n",
       "    </tr>\n",
       "    <tr>\n",
       "      <th>1</th>\n",
       "      <td>Bob Odenkirk Stable After Suffering “Heart-Rel...</td>\n",
       "      <td>2021-07-24</td>\n",
       "      <td>[So I'm 16 years old, and I finally watched th...</td>\n",
       "      <td>[Big sigh of relief here, Here's the latest fr...</td>\n",
       "      <td>77500.0</td>\n",
       "      <td>None</td>\n",
       "      <td>2021</td>\n",
       "    </tr>\n",
       "    <tr>\n",
       "      <th>2</th>\n",
       "      <td>50,000 sign petition for Disney to rehire Jame...</td>\n",
       "      <td>2018-04-21</td>\n",
       "      <td>[So I'm 16 years old, and I finally watched th...</td>\n",
       "      <td>[I’ll be genuinely interested in the outcome o...</td>\n",
       "      <td>78000.0</td>\n",
       "      <td>None</td>\n",
       "      <td>2018</td>\n",
       "    </tr>\n",
       "    <tr>\n",
       "      <th>3</th>\n",
       "      <td>‘Deadpool 3’ Confirmed for the MCU; Kevin Feig...</td>\n",
       "      <td>2021-04-20</td>\n",
       "      <td>[So I'm 16 years old, and I finally watched th...</td>\n",
       "      <td>[Quote from Feige, courtesy of the article:, I...</td>\n",
       "      <td>78000.0</td>\n",
       "      <td>None</td>\n",
       "      <td>2021</td>\n",
       "    </tr>\n",
       "    <tr>\n",
       "      <th>4</th>\n",
       "      <td>SPIDER-MAN: FAR FROM HOME - Official Teaser Tr...</td>\n",
       "      <td>2019-04-21</td>\n",
       "      <td>[So I'm 16 years old, and I finally watched th...</td>\n",
       "      <td>[178 more replies, Anyone notice Avengers towe...</td>\n",
       "      <td>78000.0</td>\n",
       "      <td>None</td>\n",
       "      <td>2019</td>\n",
       "    </tr>\n",
       "    <tr>\n",
       "      <th>...</th>\n",
       "      <td>...</td>\n",
       "      <td>...</td>\n",
       "      <td>...</td>\n",
       "      <td>...</td>\n",
       "      <td>...</td>\n",
       "      <td>...</td>\n",
       "      <td>...</td>\n",
       "    </tr>\n",
       "    <tr>\n",
       "      <th>94</th>\n",
       "      <td>Sir Sean Connery dies aged 90</td>\n",
       "      <td>2021-04-20</td>\n",
       "      <td>[So I'm 16 years old, and I finally watched th...</td>\n",
       "      <td>[:( I shall never forget the Scottish Russian ...</td>\n",
       "      <td>141000.0</td>\n",
       "      <td>None</td>\n",
       "      <td>2021</td>\n",
       "    </tr>\n",
       "    <tr>\n",
       "      <th>95</th>\n",
       "      <td>Leo gets the Oscar!</td>\n",
       "      <td>2016-04-21</td>\n",
       "      <td>[So I'm 16 years old, and I finally watched th...</td>\n",
       "      <td>[Reaction and speech: , Edit: Another source: ...</td>\n",
       "      <td>142000.0</td>\n",
       "      <td>None</td>\n",
       "      <td>2016</td>\n",
       "    </tr>\n",
       "    <tr>\n",
       "      <th>96</th>\n",
       "      <td>Disney Reinstates Director James Gunn For ‘Gua...</td>\n",
       "      <td>2019-04-21</td>\n",
       "      <td>[So I'm 16 years old, and I finally watched th...</td>\n",
       "      <td>[44 more replies, \"Sorry James, you're fired\",...</td>\n",
       "      <td>156000.0</td>\n",
       "      <td>None</td>\n",
       "      <td>2019</td>\n",
       "    </tr>\n",
       "    <tr>\n",
       "      <th>97</th>\n",
       "      <td>Hello, I’m Nicolas Cage and welcome to Ask Me ...</td>\n",
       "      <td>2022-04-10</td>\n",
       "      <td>[So I'm 16 years old, and I finally watched th...</td>\n",
       "      <td>[What's the movie quote you hate most when str...</td>\n",
       "      <td>187000.0</td>\n",
       "      <td>None</td>\n",
       "      <td>2022</td>\n",
       "    </tr>\n",
       "    <tr>\n",
       "      <th>98</th>\n",
       "      <td>‘Black Panther’ actor Chadwick Boseman dies at...</td>\n",
       "      <td>2020-04-20</td>\n",
       "      <td>[So I'm 16 years old, and I finally watched th...</td>\n",
       "      <td>[I understand he probably wanted to keep on th...</td>\n",
       "      <td>197000.0</td>\n",
       "      <td>None</td>\n",
       "      <td>2020</td>\n",
       "    </tr>\n",
       "  </tbody>\n",
       "</table>\n",
       "<p>99 rows × 7 columns</p>\n",
       "</div>"
      ],
      "text/plain": [
       "                                                title       date  \\\n",
       "0   The Senate. Upvote this so that people see it ... 2017-04-21   \n",
       "1   Bob Odenkirk Stable After Suffering “Heart-Rel... 2021-07-24   \n",
       "2   50,000 sign petition for Disney to rehire Jame... 2018-04-21   \n",
       "3   ‘Deadpool 3’ Confirmed for the MCU; Kevin Feig... 2021-04-20   \n",
       "4   SPIDER-MAN: FAR FROM HOME - Official Teaser Tr... 2019-04-21   \n",
       "..                                                ...        ...   \n",
       "94                      Sir Sean Connery dies aged 90 2021-04-20   \n",
       "95                                Leo gets the Oscar! 2016-04-21   \n",
       "96  Disney Reinstates Director James Gunn For ‘Gua... 2019-04-21   \n",
       "97  Hello, I’m Nicolas Cage and welcome to Ask Me ... 2022-04-10   \n",
       "98  ‘Black Panther’ actor Chadwick Boseman dies at... 2020-04-20   \n",
       "\n",
       "                                                 text  \\\n",
       "0   [So I'm 16 years old, and I finally watched th...   \n",
       "1   [So I'm 16 years old, and I finally watched th...   \n",
       "2   [So I'm 16 years old, and I finally watched th...   \n",
       "3   [So I'm 16 years old, and I finally watched th...   \n",
       "4   [So I'm 16 years old, and I finally watched th...   \n",
       "..                                                ...   \n",
       "94  [So I'm 16 years old, and I finally watched th...   \n",
       "95  [So I'm 16 years old, and I finally watched th...   \n",
       "96  [So I'm 16 years old, and I finally watched th...   \n",
       "97  [So I'm 16 years old, and I finally watched th...   \n",
       "98  [So I'm 16 years old, and I finally watched th...   \n",
       "\n",
       "                                              Comment      vote image  Year  \n",
       "0   [Annnd it's the most upvoted reddit post of al...  390000.0  None  2017  \n",
       "1   [Big sigh of relief here, Here's the latest fr...   77500.0  None  2021  \n",
       "2   [I’ll be genuinely interested in the outcome o...   78000.0  None  2018  \n",
       "3   [Quote from Feige, courtesy of the article:, I...   78000.0  None  2021  \n",
       "4   [178 more replies, Anyone notice Avengers towe...   78000.0  None  2019  \n",
       "..                                                ...       ...   ...   ...  \n",
       "94  [:( I shall never forget the Scottish Russian ...  141000.0  None  2021  \n",
       "95  [Reaction and speech: , Edit: Another source: ...  142000.0  None  2016  \n",
       "96  [44 more replies, \"Sorry James, you're fired\",...  156000.0  None  2019  \n",
       "97  [What's the movie quote you hate most when str...  187000.0  None  2022  \n",
       "98  [I understand he probably wanted to keep on th...  197000.0  None  2020  \n",
       "\n",
       "[99 rows x 7 columns]"
      ]
     },
     "execution_count": 19,
     "metadata": {},
     "output_type": "execute_result"
    }
   ],
   "source": [
    "movies"
   ]
  },
  {
   "cell_type": "code",
   "execution_count": 20,
   "metadata": {},
   "outputs": [
    {
     "data": {
      "image/png": "[encoded data removed]",
      "text/plain": [
       "<Figure size 720x360 with 1 Axes>"
      ]
     },
     "metadata": {
      "needs_background": "light"
     },
     "output_type": "display_data"
    }
   ],
   "source": [
    "plt.figure(figsize=(10,5))\n",
    "sns.distplot(movies['Year'],bins=20,hist_kws={\"color\":\"steelblue\"})\n",
    "plt.title(\"movies\")\n",
    "plt.show()"
   ]
  },
  {
   "cell_type": "code",
   "execution_count": 96,
   "metadata": {},
   "outputs": [
    {
     "data": {
      "text/plain": [
       "0     2017\n",
       "1     2021\n",
       "2     2018\n",
       "3     2021\n",
       "4     2019\n",
       "      ... \n",
       "94    2021\n",
       "95    2016\n",
       "96    2019\n",
       "97    2022\n",
       "98    2020\n",
       "Name: Year, Length: 99, dtype: int64"
      ]
     },
     "execution_count": 96,
     "metadata": {},
     "output_type": "execute_result"
    }
   ],
   "source": [
    "movies['Year']"
   ]
  },
  {
   "cell_type": "code",
   "execution_count": 98,
   "metadata": {},
   "outputs": [
    {
     "name": "stdout",
     "output_type": "stream",
     "text": [
      "[2011 2012 2013 2014 2015 2016 2017 2018 2019 2020 2021 2022]\n"
     ]
    }
   ],
   "source": [
    "sum_movies= movies.groupby(by=[\"Year\"]).sum()[\"vote\"]\n",
    "years = np.arange(2011,2023,1)\n",
    "print(years)"
   ]
  },
  {
   "cell_type": "code",
   "execution_count": 101,
   "metadata": {},
   "outputs": [
    {
     "data": {
      "text/plain": [
       "Year\n",
       "2014     109000.0\n",
       "2016     221800.0\n",
       "2017    1186500.0\n",
       "2018    1922900.0\n",
       "2019    1697700.0\n",
       "2020    2335100.0\n",
       "2021    1746900.0\n",
       "2022     666400.0\n",
       "Name: vote, dtype: float64"
      ]
     },
     "execution_count": 101,
     "metadata": {},
     "output_type": "execute_result"
    }
   ],
   "source": [
    "sum_movies"
   ]
  },
  {
   "cell_type": "code",
   "execution_count": 115,
   "metadata": {},
   "outputs": [
    {
     "data": {
      "text/plain": [
       "Year\n",
       "2017     169800.0\n",
       "2018    1016600.0\n",
       "2019     319800.0\n",
       "2020     205100.0\n",
       "2021     190000.0\n",
       "2022      17900.0\n",
       "Name: vote, dtype: float64"
      ]
     },
     "execution_count": 115,
     "metadata": {},
     "output_type": "execute_result"
    }
   ],
   "source": [
    "sum_reddit= reddit4.groupby(by=[\"Year\"]).sum()[\"vote\"]\n",
    "sum_reddit"
   ]
  },
  {
   "cell_type": "code",
   "execution_count": 111,
   "metadata": {},
   "outputs": [
    {
     "data": {
      "text/plain": [
       "<AxesSubplot:xlabel='Year', ylabel='vote'>"
      ]
     },
     "execution_count": 111,
     "metadata": {},
     "output_type": "execute_result"
    },
    {
     "data": {
      "image/png": "[encoded data removed]",
      "text/plain": [
       "<Figure size 432x288 with 1 Axes>"
      ]
     },
     "metadata": {
      "needs_background": "light"
     },
     "output_type": "display_data"
    }
   ],
   "source": [
    "sns.lineplot(x=movies[\"Year\"], y=movies[\"vote\"])"
   ]
  },
  {
   "cell_type": "code",
   "execution_count": 108,
   "metadata": {},
   "outputs": [
    {
     "data": {
      "text/plain": [
       "<AxesSubplot:xlabel='Year', ylabel='vote'>"
      ]
     },
     "execution_count": 108,
     "metadata": {},
     "output_type": "execute_result"
    },
    {
     "data": {
      "image/png": "[encoded data removed]",
      "text/plain": [
       "<Figure size 432x288 with 1 Axes>"
      ]
     },
     "metadata": {
      "needs_background": "light"
     },
     "output_type": "display_data"
    }
   ],
   "source": [
    "sns.lineplot(x=\"Year\", y=\"vote\", data=reddit4)"
   ]
  },
  {
   "cell_type": "code",
   "execution_count": 121,
   "metadata": {},
   "outputs": [],
   "source": [
    "from pandas import Series,DataFrame\n",
    "df = DataFrame(data)"
   ]
  },
  {
   "cell_type": "code",
   "execution_count": 122,
   "metadata": {},
   "outputs": [
    {
     "data": {
      "text/html": [
       "<div>\n",
       "<style scoped>\n",
       "    .dataframe tbody tr th:only-of-type {\n",
       "        vertical-align: middle;\n",
       "    }\n",
       "\n",
       "    .dataframe tbody tr th {\n",
       "        vertical-align: top;\n",
       "    }\n",
       "\n",
       "    .dataframe thead th {\n",
       "        text-align: right;\n",
       "    }\n",
       "</style>\n",
       "<table border=\"1\" class=\"dataframe\">\n",
       "  <thead>\n",
       "    <tr style=\"text-align: right;\">\n",
       "      <th></th>\n",
       "      <th>Year</th>\n",
       "      <th>Cyberpunk</th>\n",
       "      <th>Total</th>\n",
       "    </tr>\n",
       "  </thead>\n",
       "  <tbody>\n",
       "    <tr>\n",
       "      <th>0</th>\n",
       "      <td>2014</td>\n",
       "      <td>0</td>\n",
       "      <td>109000</td>\n",
       "    </tr>\n",
       "    <tr>\n",
       "      <th>1</th>\n",
       "      <td>2016</td>\n",
       "      <td>0</td>\n",
       "      <td>221800</td>\n",
       "    </tr>\n",
       "    <tr>\n",
       "      <th>2</th>\n",
       "      <td>2017</td>\n",
       "      <td>169800</td>\n",
       "      <td>1186500</td>\n",
       "    </tr>\n",
       "    <tr>\n",
       "      <th>3</th>\n",
       "      <td>2018</td>\n",
       "      <td>1016600</td>\n",
       "      <td>1922900</td>\n",
       "    </tr>\n",
       "    <tr>\n",
       "      <th>4</th>\n",
       "      <td>2019</td>\n",
       "      <td>319800</td>\n",
       "      <td>1697700</td>\n",
       "    </tr>\n",
       "    <tr>\n",
       "      <th>5</th>\n",
       "      <td>2020</td>\n",
       "      <td>205100</td>\n",
       "      <td>2335100</td>\n",
       "    </tr>\n",
       "    <tr>\n",
       "      <th>6</th>\n",
       "      <td>2021</td>\n",
       "      <td>190000</td>\n",
       "      <td>1746900</td>\n",
       "    </tr>\n",
       "    <tr>\n",
       "      <th>7</th>\n",
       "      <td>2022</td>\n",
       "      <td>17900</td>\n",
       "      <td>666400</td>\n",
       "    </tr>\n",
       "  </tbody>\n",
       "</table>\n",
       "</div>"
      ],
      "text/plain": [
       "   Year  Cyberpunk    Total\n",
       "0  2014          0   109000\n",
       "1  2016          0   221800\n",
       "2  2017     169800  1186500\n",
       "3  2018    1016600  1922900\n",
       "4  2019     319800  1697700\n",
       "5  2020     205100  2335100\n",
       "6  2021     190000  1746900\n",
       "7  2022      17900   666400"
      ]
     },
     "execution_count": 122,
     "metadata": {},
     "output_type": "execute_result"
    }
   ],
   "source": [
    "df"
   ]
  },
  {
   "cell_type": "code",
   "execution_count": 125,
   "metadata": {},
   "outputs": [
    {
     "data": {
      "image/png": "[encoded data removed]",
      "text/plain": [
       "<Figure size 432x288 with 2 Axes>"
      ]
     },
     "metadata": {
      "needs_background": "light"
     },
     "output_type": "display_data"
    }
   ],
   "source": [
    "import numpy as np\n",
    "import pandas as pd\n",
    "import matplotlib.pyplot as plt\n",
    "import seaborn as sns\n",
    "\n",
    "\n",
    "fig, ax1 = plt.subplots()\n",
    "\n",
    "# 柱形的宽度\n",
    "width = 0.6\n",
    "\n",
    "# 柱形的间隔\n",
    "x1_list = []\n",
    "x2_list = []\n",
    "for i in range(len(df)):\n",
    "    x1_list.append(i)\n",
    "    x2_list.append(i + width)\n",
    "\n",
    "# y1\n",
    "b1 = ax1.bar(x1_list, df['Cyberpunk'],width=width,label='Cyberpunk',color = sns.xkcd_rgb[\"pale red\"],tick_label = df['Year'])\n",
    "\n",
    "# y2\n",
    "ax2 = ax1.twinx()\n",
    "b2 = ax2.bar(x2_list, df['Total'],width=width,label='Total',color = sns.xkcd_rgb[\"denim blue\"])\n",
    "\n",
    "\n",
    "ax1.set_title('Cyberpunk VS Total',fontsize = 14)\n",
    "ax1.set_xlabel('Year',fontsize=12)\n",
    "ax1.set_ylabel('Cyberpunk',fontsize=12)\n",
    "ax2.set_ylabel('Tatal',fontsize=12)\n",
    "\n",
    "ax1.set_xticklabels(ax1.get_xticklabels(),rotation = 25)\n",
    "\n",
    "ax1.yaxis.label.set_color(b1[0].get_facecolor())\n",
    "ax2.yaxis.label.set_color(b2[0].get_facecolor())\n",
    "\n",
    "ax1.tick_params(axis = 'y', colors = b1[0].get_facecolor())\n",
    "ax2.tick_params(axis = 'y', colors = b2[0].get_facecolor())\n",
    "\n",
    "plt.legend(handles = [b1,b2])\n",
    "\n",
    "plt.grid('off')\n",
    "\n",
    "plt.show()"
   ]
  }
 ],
 "metadata": {
  "interpreter": {
   "hash": "96eb50e1d44aed467dc8f759cb08c32fbfa9babcf79c554e2d0e5feb04653a10"
  },
  "kernelspec": {
   "display_name": "Python 3 (ipykernel)",
   "language": "python",
   "name": "python3"
  },
  "language_info": {
   "codemirror_mode": {
    "name": "ipython",
    "version": 3
   },
   "file_extension": ".py",
   "mimetype": "text/x-python",
   "name": "python",
   "nbconvert_exporter": "python",
   "pygments_lexer": "ipython3",
   "version": "3.9.7"
  }
 },
 "nbformat": 4,
 "nbformat_minor": 2
}
