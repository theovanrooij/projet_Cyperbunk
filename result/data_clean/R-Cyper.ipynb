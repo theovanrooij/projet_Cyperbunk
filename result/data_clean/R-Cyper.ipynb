{
 "cells": [
  {
   "cell_type": "code",
   "execution_count": 1,
   "id": "e24a0f04",
   "metadata": {},
   "outputs": [],
   "source": [
    "script <- read.csv(\"result/csv1/cyberpunkforums.csv\", stringsAsFactors=FALSE)"
   ]
  },
  {
   "cell_type": "code",
   "execution_count": 2,
   "id": "8826e173",
   "metadata": {},
   "outputs": [
    {
     "name": "stderr",
     "output_type": "stream",
     "text": [
      "also installing the dependency 'rlang'\n",
      "\n",
      "\n"
     ]
    },
    {
     "name": "stdout",
     "output_type": "stream",
     "text": [
      "package 'rlang' successfully unpacked and MD5 sums checked\n"
     ]
    },
    {
     "name": "stderr",
     "output_type": "stream",
     "text": [
      "Warning message:\n",
      "\"cannot remove prior installation of package 'rlang'\"\n",
      "Warning message in file.copy(savedcopy, lib, recursive = TRUE):\n",
      "\"problem copying E:\\R\\R-4.1.2\\library\\00LOCK\\rlang\\libs\\x64\\rlang.dll to E:\\R\\R-4.1.2\\library\\rlang\\libs\\x64\\rlang.dll: Permission denied\"\n",
      "Warning message:\n",
      "\"restored 'rlang'\"\n"
     ]
    },
    {
     "name": "stdout",
     "output_type": "stream",
     "text": [
      "package 'dplyr' successfully unpacked and MD5 sums checked\n",
      "\n",
      "The downloaded binary packages are in\n",
      "\tC:\\Users\\alplh\\AppData\\Local\\Temp\\RtmpERm4KW\\downloaded_packages\n"
     ]
    },
    {
     "name": "stderr",
     "output_type": "stream",
     "text": [
      "also installing the dependencies 'hunspell', 'janeaustenr', 'tokenizers'\n",
      "\n",
      "\n"
     ]
    },
    {
     "name": "stdout",
     "output_type": "stream",
     "text": [
      "package 'hunspell' successfully unpacked and MD5 sums checked\n",
      "package 'janeaustenr' successfully unpacked and MD5 sums checked\n",
      "package 'tokenizers' successfully unpacked and MD5 sums checked\n",
      "package 'tidytext' successfully unpacked and MD5 sums checked\n",
      "\n",
      "The downloaded binary packages are in\n",
      "\tC:\\Users\\alplh\\AppData\\Local\\Temp\\RtmpERm4KW\\downloaded_packages\n",
      "package 'tidyr' successfully unpacked and MD5 sums checked\n",
      "\n",
      "The downloaded binary packages are in\n",
      "\tC:\\Users\\alplh\\AppData\\Local\\Temp\\RtmpERm4KW\\downloaded_packages\n",
      "package 'ggplot2' successfully unpacked and MD5 sums checked\n",
      "\n",
      "The downloaded binary packages are in\n",
      "\tC:\\Users\\alplh\\AppData\\Local\\Temp\\RtmpERm4KW\\downloaded_packages\n"
     ]
    }
   ],
   "source": [
    "# install.packages(\"dplyr\")\n",
    "# install.packages(\"tidytext\")\n",
    "# install.packages(\"tidyr\")\n",
    "# install.packages(\"ggplot2\")"
   ]
  },
  {
   "cell_type": "code",
   "execution_count": 4,
   "id": "4a7277cf",
   "metadata": {},
   "outputs": [
    {
     "name": "stdout",
     "output_type": "stream",
     "text": [
      "package 'devtools' successfully unpacked and MD5 sums checked\n",
      "\n",
      "The downloaded binary packages are in\n",
      "\tC:\\Users\\alplh\\AppData\\Local\\Temp\\RtmpERm4KW\\downloaded_packages\n"
     ]
    },
    {
     "name": "stderr",
     "output_type": "stream",
     "text": [
      "Downloading GitHub repo tidyverse/dplyr@HEAD\n",
      "\n"
     ]
    },
    {
     "name": "stdout",
     "output_type": "stream",
     "text": [
      "glue       (1.6.0  -> 1.6.2) [CRAN]\n",
      "rlang      (0.4.12 -> 1.0.2) [CRAN]\n",
      "magrittr   (2.0.1  -> 2.0.2) [CRAN]\n",
      "fansi      (0.5.0  -> 1.0.3) [CRAN]\n",
      "crayon     (1.4.2  -> 1.5.1) [CRAN]\n",
      "cli        (3.1.0  -> 3.2.0) [CRAN]\n",
      "pillar     (1.6.4  -> 1.7.0) [CRAN]\n",
      "tidyselect (1.1.1  -> 1.1.2) [CRAN]\n"
     ]
    },
    {
     "name": "stderr",
     "output_type": "stream",
     "text": [
      "Installing 8 packages: glue, rlang, magrittr, fansi, crayon, cli, pillar, tidyselect\n",
      "\n"
     ]
    },
    {
     "name": "stdout",
     "output_type": "stream",
     "text": [
      "\n",
      "  There are binary versions available but the source versions are later:\n",
      "       binary source needs_compilation\n",
      "fansi   1.0.2  1.0.3              TRUE\n",
      "crayon  1.5.0  1.5.1             FALSE\n",
      "\n",
      "package 'glue' successfully unpacked and MD5 sums checked\n"
     ]
    },
    {
     "name": "stderr",
     "output_type": "stream",
     "text": [
      "Warning message:\n",
      "\"cannot remove prior installation of package 'glue'\"\n",
      "Warning message in file.copy(savedcopy, lib, recursive = TRUE):\n",
      "\"problem copying E:\\R\\R-4.1.2\\library\\00LOCK\\glue\\libs\\x64\\glue.dll to E:\\R\\R-4.1.2\\library\\glue\\libs\\x64\\glue.dll: Permission denied\"\n",
      "Warning message:\n",
      "\"restored 'glue'\"\n"
     ]
    },
    {
     "name": "stdout",
     "output_type": "stream",
     "text": [
      "package 'rlang' successfully unpacked and MD5 sums checked\n"
     ]
    },
    {
     "name": "stderr",
     "output_type": "stream",
     "text": [
      "Warning message:\n",
      "\"cannot remove prior installation of package 'rlang'\"\n",
      "Warning message in file.copy(savedcopy, lib, recursive = TRUE):\n",
      "\"problem copying E:\\R\\R-4.1.2\\library\\00LOCK\\rlang\\libs\\x64\\rlang.dll to E:\\R\\R-4.1.2\\library\\rlang\\libs\\x64\\rlang.dll: Permission denied\"\n",
      "Warning message:\n",
      "\"restored 'rlang'\"\n"
     ]
    },
    {
     "name": "stdout",
     "output_type": "stream",
     "text": [
      "package 'magrittr' successfully unpacked and MD5 sums checked\n"
     ]
    },
    {
     "name": "stderr",
     "output_type": "stream",
     "text": [
      "Warning message:\n",
      "\"cannot remove prior installation of package 'magrittr'\"\n",
      "Warning message in file.copy(savedcopy, lib, recursive = TRUE):\n",
      "\"problem copying E:\\R\\R-4.1.2\\library\\00LOCK\\magrittr\\libs\\x64\\magrittr.dll to E:\\R\\R-4.1.2\\library\\magrittr\\libs\\x64\\magrittr.dll: Permission denied\"\n",
      "Warning message:\n",
      "\"restored 'magrittr'\"\n"
     ]
    },
    {
     "name": "stdout",
     "output_type": "stream",
     "text": [
      "package 'cli' successfully unpacked and MD5 sums checked\n"
     ]
    },
    {
     "name": "stderr",
     "output_type": "stream",
     "text": [
      "Warning message:\n",
      "\"cannot remove prior installation of package 'cli'\"\n",
      "Warning message in file.copy(savedcopy, lib, recursive = TRUE):\n",
      "\"problem copying E:\\R\\R-4.1.2\\library\\00LOCK\\cli\\libs\\x64\\cli.dll to E:\\R\\R-4.1.2\\library\\cli\\libs\\x64\\cli.dll: Permission denied\"\n",
      "Warning message:\n",
      "\"restored 'cli'\"\n"
     ]
    },
    {
     "name": "stdout",
     "output_type": "stream",
     "text": [
      "package 'pillar' successfully unpacked and MD5 sums checked\n",
      "package 'tidyselect' successfully unpacked and MD5 sums checked\n",
      "\n",
      "The downloaded binary packages are in\n",
      "\tC:\\Users\\alplh\\AppData\\Local\\Temp\\RtmpERm4KW\\downloaded_packages\n"
     ]
    },
    {
     "name": "stderr",
     "output_type": "stream",
     "text": [
      "installing the source packages 'fansi', 'crayon'\n",
      "\n",
      "\n",
      "Warning message in i.p(...):\n",
      "\"installation of package 'fansi' had non-zero exit status\"\n"
     ]
    },
    {
     "name": "stdout",
     "output_type": "stream",
     "text": [
      "* checking for file 'C:\\Users\\alplh\\AppData\\Local\\Temp\\RtmpERm4KW\\remotes7bb837577ffa\\tidyverse-dplyr-8abb54b/DESCRIPTION' ... OK\r\n",
      "* preparing 'dplyr':\r\n",
      "* checking DESCRIPTION meta-information ... OK\r\n",
      "* cleaning src\r\n",
      "* installing the package to process help pages\r\n",
      "      -----------------------------------\r\n",
      "* installing *source* package 'dplyr' ...\r\n",
      "** using staged installation\r\n",
      "** libs\r\n",
      "\"E:/R/rtools40/mingw64/bin/\"g++ -std=gnu++11  -I\"E:/R/R-4.1.2/include\" -DNDEBUG          -O2 -Wall  -mfpmath=sse -msse2 -mstackrealign  -Wall -pedantic -fdiagnostics-color=always -c chop.cpp -o chop.o\r\n",
      "\"E:/R/rtools40/mingw64/bin/\"g++ -std=gnu++11  -I\"E:/R/R-4.1.2/include\" -DNDEBUG          -O2 -Wall  -mfpmath=sse -msse2 -mstackrealign  -Wall -pedantic -fdiagnostics-color=always -c filter.cpp -o filter.o\r\n",
      "\"E:/R/rtools40/mingw64/bin/\"g++ -std=gnu++11  -I\"E:/R/R-4.1.2/include\" -DNDEBUG          -O2 -Wall  -mfpmath=sse -msse2 -mstackrealign  -Wall -pedantic -fdiagnostics-color=always -c funs.cpp -o funs.o\r\n",
      "\"E:/R/rtools40/mingw64/bin/\"g++ -std=gnu++11  -I\"E:/R/R-4.1.2/include\" -DNDEBUG          -O2 -Wall  -mfpmath=sse -msse2 -mstackrealign  -Wall -pedantic -fdiagnostics-color=always -c group_by.cpp -o group_by.o\r\n",
      "\"E:/R/rtools40/mingw64/bin/\"g++ -std=gnu++11  -I\"E:/R/R-4.1.2/include\" -DNDEBUG          -O2 -Wall  -mfpmath=sse -msse2 -mstackrealign  -Wall -pedantic -fdiagnostics-color=always -c group_data.cpp -o group_data.o\r\n",
      "\"E:/R/rtools40/mingw64/bin/\"g++ -std=gnu++11  -I\"E:/R/R-4.1.2/include\" -DNDEBUG          -O2 -Wall  -mfpmath=sse -msse2 -mstackrealign  -Wall -pedantic -fdiagnostics-color=always -c imports.cpp -o imports.o\r\n",
      "\"E:/R/rtools40/mingw64/bin/\"g++ -std=gnu++11  -I\"E:/R/R-4.1.2/include\" -DNDEBUG          -O2 -Wall  -mfpmath=sse -msse2 -mstackrealign  -Wall -pedantic -fdiagnostics-color=always -c init.cpp -o init.o\r\n",
      "\"E:/R/rtools40/mingw64/bin/\"g++ -std=gnu++11  -I\"E:/R/R-4.1.2/include\" -DNDEBUG          -O2 -Wall  -mfpmath=sse -msse2 -mstackrealign  -Wall -pedantic -fdiagnostics-color=always -c mask.cpp -o mask.o\r\n",
      "\"E:/R/rtools40/mingw64/bin/\"g++ -std=gnu++11  -I\"E:/R/R-4.1.2/include\" -DNDEBUG          -O2 -Wall  -mfpmath=sse -msse2 -mstackrealign  -Wall -pedantic -fdiagnostics-color=always -c mutate.cpp -o mutate.o\r\n",
      "\"E:/R/rtools40/mingw64/bin/\"g++ -std=gnu++11  -I\"E:/R/R-4.1.2/include\" -DNDEBUG          -O2 -Wall  -mfpmath=sse -msse2 -mstackrealign  -Wall -pedantic -fdiagnostics-color=always -c slice.cpp -o slice.o\r\n",
      "\"E:/R/rtools40/mingw64/bin/\"g++ -std=gnu++11  -I\"E:/R/R-4.1.2/include\" -DNDEBUG          -O2 -Wall  -mfpmath=sse -msse2 -mstackrealign  -Wall -pedantic -fdiagnostics-color=always -c summarise.cpp -o summarise.o\r\n",
      "E:/R/rtools40/mingw64/bin/g++ -std=gnu++11 -shared -s -static-libgcc -o dplyr.dll tmp.def chop.o filter.o funs.o group_by.o group_data.o imports.o init.o mask.o mutate.o slice.o summarise.o -LE:/R/R-4.1.2/bin/x64 -lR\r\n",
      "installing to C:/Users/alplh/AppData/Local/Temp/RtmpWghrgG/Rinst5bd8663515ed/00LOCK-dplyr/00new/dplyr/libs/x64\r\n",
      "** R\r\n",
      "** data\r\n",
      "*** moving datasets to lazyload DB\r\n",
      "** inst\r\n",
      "** byte-compile and prepare package for lazy loading\r\n",
      "Error in loadNamespace(i, c(lib.loc, .libPaths()), versionCheck = vI[[i]]) : \r\n",
      "  namespace 'rlang' 0.4.12 is being loaded, but >= 1.0.0 is required\r\n",
      "Calls: <Anonymous> ... withCallingHandlers -> loadNamespace -> namespaceImport -> loadNamespace\r\n",
      "Execution halted\r\n",
      "ERROR: lazy loading failed for package 'dplyr'\r\n",
      "* removing 'C:/Users/alplh/AppData/Local/Temp/RtmpWghrgG/Rinst5bd8663515ed/dplyr'\r\n",
      "      -----------------------------------\r\n",
      "ERROR: package installation failed\r\n"
     ]
    },
    {
     "ename": "ERROR",
     "evalue": "Error: Failed to install 'dplyr' from GitHub:\n  System command 'Rcmd.exe' failed, exit status: 1, stdout & stderr were printed\n",
     "output_type": "error",
     "traceback": [
      "Error: Failed to install 'dplyr' from GitHub:\n  System command 'Rcmd.exe' failed, exit status: 1, stdout & stderr were printed\nTraceback:\n",
      "1. devtools::install_github(\"tidyverse/dplyr\")",
      "2. pkgbuild::with_build_tools({\n .     ellipsis::check_dots_used(action = getOption(\"devtools.ellipsis_action\", \n .         rlang::warn))\n .     {\n .         remotes <- lapply(repo, github_remote, ref = ref, subdir = subdir, \n .             auth_token = auth_token, host = host)\n .         install_remotes(remotes, auth_token = auth_token, host = host, \n .             dependencies = dependencies, upgrade = upgrade, force = force, \n .             quiet = quiet, build = build, build_opts = build_opts, \n .             build_manual = build_manual, build_vignettes = build_vignettes, \n .             repos = repos, type = type, ...)\n .     }\n . }, required = FALSE)",
      "3. withr::with_path(rtools_path(), code)",
      "4. force(code)",
      "5. install_remotes(remotes, auth_token = auth_token, host = host, \n .     dependencies = dependencies, upgrade = upgrade, force = force, \n .     quiet = quiet, build = build, build_opts = build_opts, build_manual = build_manual, \n .     build_vignettes = build_vignettes, repos = repos, type = type, \n .     ...)",
      "6. tryCatch(res[[i]] <- install_remote(remotes[[i]], ...), error = function(e) {\n .     stop(remote_install_error(remotes[[i]], e))\n . })",
      "7. tryCatchList(expr, classes, parentenv, handlers)",
      "8. tryCatchOne(expr, names, parentenv, handlers[[1L]])",
      "9. value[[3L]](cond)"
     ]
    }
   ],
   "source": [
    "install.packages(\"devtools\")\n",
    "\n",
    "devtools::install_github(\"tidyverse/dplyr\")"
   ]
  },
  {
   "cell_type": "code",
   "execution_count": 5,
   "id": "c400e971",
   "metadata": {},
   "outputs": [
    {
     "name": "stderr",
     "output_type": "stream",
     "text": [
      "Warning message:\n",
      "\"package 'dplyr' was built under R version 4.1.3\"\n"
     ]
    },
    {
     "ename": "ERROR",
     "evalue": "Error: package or namespace load failed for 'dplyr' in loadNamespace(i, c(lib.loc, .libPaths()), versionCheck = vI[[i]]):\n namespace 'rlang' 0.4.12 is already loaded, but >= 1.0.0 is required\n",
     "output_type": "error",
     "traceback": [
      "Error: package or namespace load failed for 'dplyr' in loadNamespace(i, c(lib.loc, .libPaths()), versionCheck = vI[[i]]):\n namespace 'rlang' 0.4.12 is already loaded, but >= 1.0.0 is required\nTraceback:\n",
      "1. library(dplyr)",
      "2. tryCatch({\n .     attr(package, \"LibPath\") <- which.lib.loc\n .     ns <- loadNamespace(package, lib.loc)\n .     env <- attachNamespace(ns, pos = pos, deps, exclude, include.only)\n . }, error = function(e) {\n .     P <- if (!is.null(cc <- conditionCall(e))) \n .         paste(\" in\", deparse(cc)[1L])\n .     else \"\"\n .     msg <- gettextf(\"package or namespace load failed for %s%s:\\n %s\", \n .         sQuote(package), P, conditionMessage(e))\n .     if (logical.return && !quietly) \n .         message(paste(\"Error:\", msg), domain = NA)\n .     else stop(msg, call. = FALSE, domain = NA)\n . })",
      "3. tryCatchList(expr, classes, parentenv, handlers)",
      "4. tryCatchOne(expr, names, parentenv, handlers[[1L]])",
      "5. value[[3L]](cond)",
      "6. stop(msg, call. = FALSE, domain = NA)"
     ]
    }
   ],
   "source": [
    "library(dplyr)\n",
    "library(tidytext)\n",
    "library(tidyr)\n",
    "library(ggplot2)"
   ]
  },
  {
   "cell_type": "code",
   "execution_count": 6,
   "id": "152ad8dd",
   "metadata": {},
   "outputs": [
    {
     "ename": "ERROR",
     "evalue": "Error in script %>% unnest_tokens(word, text): could not find function \"%>%\"\n",
     "output_type": "error",
     "traceback": [
      "Error in script %>% unnest_tokens(word, text): could not find function \"%>%\"\nTraceback:\n"
     ]
    }
   ],
   "source": [
    "tidy_script <- script %>%\n",
    "  unnest_tokens(word, text)\n",
    "head(tidy_script)"
   ]
  },
  {
   "cell_type": "code",
   "execution_count": null,
   "id": "5879fb8b",
   "metadata": {},
   "outputs": [],
   "source": []
  }
 ],
 "metadata": {
  "kernelspec": {
   "display_name": "R",
   "language": "R",
   "name": "ir"
  },
  "language_info": {
   "codemirror_mode": "r",
   "file_extension": ".r",
   "mimetype": "text/x-r-source",
   "name": "R",
   "pygments_lexer": "r",
   "version": "4.1.2"
  }
 },
 "nbformat": 4,
 "nbformat_minor": 5
}
