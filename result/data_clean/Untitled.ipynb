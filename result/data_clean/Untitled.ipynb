{
 "cells": [
  {
   "cell_type": "code",
   "execution_count": 15,
   "metadata": {},
   "outputs": [],
   "source": [
    "import pandas as pd\n",
    "import numpy as np\n",
    "import matplotlib.pyplot as plt"
   ]
  },
  {
   "cell_type": "code",
   "execution_count": 3,
   "metadata": {},
   "outputs": [],
   "source": [
    "data = pd.read_csv(\"cyberpunkforums.csv\")"
   ]
  },
  {
   "cell_type": "code",
   "execution_count": 5,
   "metadata": {},
   "outputs": [
    {
     "data": {
      "text/html": [
       "<div>\n",
       "<style scoped>\n",
       "    .dataframe tbody tr th:only-of-type {\n",
       "        vertical-align: middle;\n",
       "    }\n",
       "\n",
       "    .dataframe tbody tr th {\n",
       "        vertical-align: top;\n",
       "    }\n",
       "\n",
       "    .dataframe thead th {\n",
       "        text-align: right;\n",
       "    }\n",
       "</style>\n",
       "<table border=\"1\" class=\"dataframe\">\n",
       "  <thead>\n",
       "    <tr style=\"text-align: right;\">\n",
       "      <th></th>\n",
       "      <th>Unnamed: 0</th>\n",
       "      <th>postId</th>\n",
       "      <th>postNb</th>\n",
       "      <th>postDate</th>\n",
       "      <th>content</th>\n",
       "      <th>blockquote</th>\n",
       "      <th>img</th>\n",
       "      <th>links</th>\n",
       "      <th>categorie</th>\n",
       "      <th>topic</th>\n",
       "      <th>Year</th>\n",
       "      <th>sentiment</th>\n",
       "    </tr>\n",
       "  </thead>\n",
       "  <tbody>\n",
       "    <tr>\n",
       "      <th>0</th>\n",
       "      <td>0</td>\n",
       "      <td>p60291</td>\n",
       "      <td>1</td>\n",
       "      <td>1640736000000</td>\n",
       "      <td>scientist convinced dish brain cell theyre pad...</td>\n",
       "      <td>[]</td>\n",
       "      <td>[]</td>\n",
       "      <td>['https://ftw.usatoday.com/2021/12/scient']</td>\n",
       "      <td>Subversion</td>\n",
       "      <td>Human brain cells in a dish are playing pong</td>\n",
       "      <td>2021</td>\n",
       "      <td>-0.091667</td>\n",
       "    </tr>\n",
       "    <tr>\n",
       "      <th>1</th>\n",
       "      <td>1</td>\n",
       "      <td>p60298</td>\n",
       "      <td>2</td>\n",
       "      <td>1640995200000</td>\n",
       "      <td>thing seem kind slow cool kind slow however im...</td>\n",
       "      <td>[]</td>\n",
       "      <td>['https://cyberpunkforums.com/img/smilies/lol....</td>\n",
       "      <td>[]</td>\n",
       "      <td>Subversion</td>\n",
       "      <td>Human brain cells in a dish are playing pong</td>\n",
       "      <td>2022</td>\n",
       "      <td>0.144792</td>\n",
       "    </tr>\n",
       "    <tr>\n",
       "      <th>2</th>\n",
       "      <td>2</td>\n",
       "      <td>p60300</td>\n",
       "      <td>3</td>\n",
       "      <td>1640995200000</td>\n",
       "      <td>least learning curve ai little boy</td>\n",
       "      <td>[]</td>\n",
       "      <td>[]</td>\n",
       "      <td>[]</td>\n",
       "      <td>Subversion</td>\n",
       "      <td>Human brain cells in a dish are playing pong</td>\n",
       "      <td>2022</td>\n",
       "      <td>-0.243750</td>\n",
       "    </tr>\n",
       "    <tr>\n",
       "      <th>3</th>\n",
       "      <td>3</td>\n",
       "      <td>p60370</td>\n",
       "      <td>4</td>\n",
       "      <td>1642636800000</td>\n",
       "      <td>cant wait brain chopped turned organic latest</td>\n",
       "      <td>[]</td>\n",
       "      <td>[]</td>\n",
       "      <td>[]</td>\n",
       "      <td>Subversion</td>\n",
       "      <td>Human brain cells in a dish are playing pong</td>\n",
       "      <td>2022</td>\n",
       "      <td>0.500000</td>\n",
       "    </tr>\n",
       "    <tr>\n",
       "      <th>4</th>\n",
       "      <td>4</td>\n",
       "      <td>p60378</td>\n",
       "      <td>5</td>\n",
       "      <td>1642723200000</td>\n",
       "      <td>welcome welcome</td>\n",
       "      <td>[\"Can't wait for my brain to be chopped up and...</td>\n",
       "      <td>[]</td>\n",
       "      <td>[]</td>\n",
       "      <td>Subversion</td>\n",
       "      <td>Human brain cells in a dish are playing pong</td>\n",
       "      <td>2022</td>\n",
       "      <td>0.800000</td>\n",
       "    </tr>\n",
       "  </tbody>\n",
       "</table>\n",
       "</div>"
      ],
      "text/plain": [
       "   Unnamed: 0  postId  postNb       postDate  \\\n",
       "0           0  p60291       1  1640736000000   \n",
       "1           1  p60298       2  1640995200000   \n",
       "2           2  p60300       3  1640995200000   \n",
       "3           3  p60370       4  1642636800000   \n",
       "4           4  p60378       5  1642723200000   \n",
       "\n",
       "                                             content  \\\n",
       "0  scientist convinced dish brain cell theyre pad...   \n",
       "1  thing seem kind slow cool kind slow however im...   \n",
       "2                 least learning curve ai little boy   \n",
       "3      cant wait brain chopped turned organic latest   \n",
       "4                                    welcome welcome   \n",
       "\n",
       "                                          blockquote  \\\n",
       "0                                                 []   \n",
       "1                                                 []   \n",
       "2                                                 []   \n",
       "3                                                 []   \n",
       "4  [\"Can't wait for my brain to be chopped up and...   \n",
       "\n",
       "                                                 img  \\\n",
       "0                                                 []   \n",
       "1  ['https://cyberpunkforums.com/img/smilies/lol....   \n",
       "2                                                 []   \n",
       "3                                                 []   \n",
       "4                                                 []   \n",
       "\n",
       "                                         links   categorie  \\\n",
       "0  ['https://ftw.usatoday.com/2021/12/scient']  Subversion   \n",
       "1                                           []  Subversion   \n",
       "2                                           []  Subversion   \n",
       "3                                           []  Subversion   \n",
       "4                                           []  Subversion   \n",
       "\n",
       "                                          topic  Year  sentiment  \n",
       "0  Human brain cells in a dish are playing pong  2021  -0.091667  \n",
       "1  Human brain cells in a dish are playing pong  2022   0.144792  \n",
       "2  Human brain cells in a dish are playing pong  2022  -0.243750  \n",
       "3  Human brain cells in a dish are playing pong  2022   0.500000  \n",
       "4  Human brain cells in a dish are playing pong  2022   0.800000  "
      ]
     },
     "execution_count": 5,
     "metadata": {},
     "output_type": "execute_result"
    }
   ],
   "source": [
    "data.head(5)"
   ]
  },
  {
   "cell_type": "code",
   "execution_count": 35,
   "metadata": {},
   "outputs": [],
   "source": [
    "sum_sent = data.groupby(by=[\"Year\"]).sum()[\"sentiment\"]"
   ]
  },
  {
   "cell_type": "code",
   "execution_count": 37,
   "metadata": {},
   "outputs": [
    {
     "data": {
      "text/plain": [
       "Year\n",
       "2011     8530\n",
       "2012    15601\n",
       "2013     9509\n",
       "2014     4989\n",
       "2015     3060\n",
       "2016     3368\n",
       "2017     3032\n",
       "2018     1392\n",
       "2019      948\n",
       "2020     1396\n",
       "2021     1279\n",
       "2022      265\n",
       "Name: sentiment, dtype: int64"
      ]
     },
     "execution_count": 37,
     "metadata": {},
     "output_type": "execute_result"
    }
   ],
   "source": [
    "data.groupby(by=[\"Year\"]).count()[\"sentiment\"]"
   ]
  },
  {
   "cell_type": "code",
   "execution_count": 13,
   "metadata": {},
   "outputs": [],
   "source": [
    "mean_sent = data.groupby(by=[\"Year\"]).mean()[\"sentiment\"]"
   ]
  },
  {
   "cell_type": "code",
   "execution_count": 27,
   "metadata": {},
   "outputs": [
    {
     "name": "stdout",
     "output_type": "stream",
     "text": [
      "[2011 2012 2013 2014 2015 2016 2017 2018 2019 2020 2021 2022]\n"
     ]
    }
   ],
   "source": [
    "years = np.arange(2011,2023,1)\n",
    "print(years)"
   ]
  },
  {
   "cell_type": "code",
   "execution_count": 29,
   "metadata": {},
   "outputs": [
    {
     "data": {
      "text/plain": [
       "<BarContainer object of 12 artists>"
      ]
     },
     "execution_count": 29,
     "metadata": {},
     "output_type": "execute_result"
    },
    {
     "data": {
      "image/png": "[encoded data removed]",
      "text/plain": [
       "<Figure size 432x288 with 1 Axes>"
      ]
     },
     "metadata": {
      "needs_background": "light"
     },
     "output_type": "display_data"
    }
   ],
   "source": [
    "plt.bar(years,mean_sent)"
   ]
  },
  {
   "cell_type": "code",
   "execution_count": 34,
   "metadata": {},
   "outputs": [
    {
     "data": {
      "text/plain": [
       "[<matplotlib.lines.Line2D at 0x1f0970aa7f0>]"
      ]
     },
     "execution_count": 34,
     "metadata": {},
     "output_type": "execute_result"
    },
    {
     "data": {
      "image/png": "[encoded data removed]",
      "text/plain": [
       "<Figure size 432x288 with 1 Axes>"
      ]
     },
     "metadata": {
      "needs_background": "light"
     },
     "output_type": "display_data"
    }
   ],
   "source": [
    "plt.plot(years,mean_sent,'bo-',label='type2')"
   ]
  },
  {
   "cell_type": "code",
   "execution_count": 36,
   "metadata": {},
   "outputs": [
    {
     "data": {
      "text/plain": [
       "[<matplotlib.lines.Line2D at 0x1f097104be0>]"
      ]
     },
     "execution_count": 36,
     "metadata": {},
     "output_type": "execute_result"
    },
    {
     "data": {
      "image/png": "[encoded data removed]",
      "text/plain": [
       "<Figure size 432x288 with 1 Axes>"
      ]
     },
     "metadata": {
      "needs_background": "light"
     },
     "output_type": "display_data"
    }
   ],
   "source": [
    "plt.plot(years,sum_sent,'bo-',label='type2')"
   ]
  },
  {
   "cell_type": "code",
   "execution_count": null,
   "metadata": {},
   "outputs": [],
   "source": []
  },
  {
   "cell_type": "code",
   "execution_count": null,
   "metadata": {},
   "outputs": [],
   "source": []
  },
  {
   "cell_type": "code",
   "execution_count": null,
   "metadata": {},
   "outputs": [],
   "source": []
  },
  {
   "cell_type": "code",
   "execution_count": null,
   "metadata": {},
   "outputs": [],
   "source": []
  },
  {
   "cell_type": "code",
   "execution_count": null,
   "metadata": {},
   "outputs": [],
   "source": []
  },
  {
   "cell_type": "code",
   "execution_count": null,
   "metadata": {},
   "outputs": [],
   "source": []
  }
 ],
 "metadata": {
  "kernelspec": {
   "display_name": "Python 3",
   "language": "python",
   "name": "python3"
  },
  "language_info": {
   "codemirror_mode": {
    "name": "ipython",
    "version": 3
   },
   "file_extension": ".py",
   "mimetype": "text/x-python",
   "name": "python",
   "nbconvert_exporter": "python",
   "pygments_lexer": "ipython3",
   "version": "3.8.5"
  }
 },
 "nbformat": 4,
 "nbformat_minor": 5
}
